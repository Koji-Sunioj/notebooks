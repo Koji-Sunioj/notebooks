{
 "cells": [
  {
   "cell_type": "code",
   "execution_count": 16,
   "id": "24a056e9-1baf-480e-a703-391c4624180b",
   "metadata": {},
   "outputs": [],
   "source": [
    "import pandas as pd\n",
    "import datetime\n",
    "import numpy as np\n",
    "import math\n",
    "import psycopg2\n",
    "import psycopg2.extras\n",
    "\n",
    "conn = psycopg2.connect(database=\"finances\",\n",
    "                        host=\"localhost\",\n",
    "                        user=\"postgres\",\n",
    "                        password=\"Karelia\",\n",
    "                        port=5432)"
   ]
  },
  {
   "cell_type": "code",
   "execution_count": 17,
   "id": "4be4fb7d-0c7d-422f-ac12-a612a3429710",
   "metadata": {},
   "outputs": [],
   "source": [
    "cursor = conn.cursor(cursor_factory=psycopg2.extras.RealDictCursor)"
   ]
  },
  {
   "cell_type": "code",
   "execution_count": 18,
   "id": "799194e5-cefc-4685-b8c3-5bc59f2e2271",
   "metadata": {},
   "outputs": [],
   "source": [
    "def get_shifts(username,year,month):\n",
    "    command = \"\"\"\n",
    "    select start_time,end_time,employer from shifts \n",
    "    join contracts on contracts.contract_id = shifts.contract_id\n",
    "    join users on contracts.user_id = contracts.user_id\n",
    "    where \n",
    "    date_part('year',start_time) = %s and date_part('month',start_time) = %s or\n",
    "    date_part('year',end_time) = %s and date_part('month',end_time) = %s\n",
    "    and users.email = %s\n",
    "    order by start_time asc;\"\"\"\n",
    "    params = (year,month,year,month,username)\n",
    "    cursor.execute(command,params)\n",
    "    data = cursor.fetchall()\n",
    "    return data"
   ]
  },
  {
   "cell_type": "code",
   "execution_count": 19,
   "id": "558de538-7d37-42cb-93a2-377a8e8cc026",
   "metadata": {},
   "outputs": [],
   "source": [
    "def merge_shifts(shifts,days,year,month):\n",
    "    begin = pd.Timestamp(year=year,month=month,day=1,hour=0)\n",
    "    end = begin + pd.Timedelta(1,unit=\"d\")\n",
    "    begin_f,end_f = begin.strftime(\"%Y-%d-%m %H:%S\"),end.strftime(\"%Y-%d-%m %H:%S\")\n",
    "    shifts.loc[shifts['start_time'] < begin_f ,'start_time'] = begin_f\n",
    "    shifts.loc[shifts['end_time'] >= end_f, 'end_time'] = end_f\n",
    "    shifts[\"date\"] = shifts[\"start_time\"].dt.date.astype(str)\n",
    "    shifts[\"start\"] = shifts[\"start_time\"].dt.time.astype(str).str.slice(start=0,stop=5)\n",
    "    shifts[\"end\"] = shifts[\"end_time\"].dt.time.astype(str).str.slice(start=0,stop=5)\n",
    "    calendar_f = pd.DataFrame(data={\"date\":days}).astype(str)\n",
    "    merged = pd.merge(calendar_f, shifts.drop(columns=[\"start_time\",\"end_time\"]), on=\"date\", how=\"outer\")\n",
    "    return merged"
   ]
  },
  {
   "cell_type": "code",
   "execution_count": 20,
   "id": "293db78a-0939-4f3a-9b52-78d8c8cc7429",
   "metadata": {},
   "outputs": [],
   "source": [
    "def create_calendar(year,month):\n",
    "    normalized = pd.Timestamp(year=year,month=month,day=1)\n",
    "    european_day_of_week = normalized.day_of_week\n",
    "    if european_day_of_week != 6:\n",
    "        first_cal_day = normalized - pd.Timedelta(european_day_of_week + 1, unit=\"d\")\n",
    "    else:\n",
    "        first_cal_day = normalized\n",
    "    last_day_of_month = pd.Timestamp(year=normalized.year,month=normalized.month,day=normalized.daysinmonth)\n",
    "    day_diff = (last_day_of_month - first_cal_day).days * 1 + 1\n",
    "    num_days = math.ceil(day_diff / 7) * 7\n",
    "    last_cal_day =first_cal_day + pd.Timedelta(num_days-1, unit=\"d\")\n",
    "    days = pd.date_range(first_cal_day,last_cal_day)\n",
    "    shift_data = get_shifts(\"koji.gabriel218@gmail.com\",year,month)\n",
    "    shifts = pd.DataFrame(shift_data)\n",
    "    merged = merge_shifts(shifts,days,year,month)\n",
    "    \n",
    "    days = {}\n",
    "\n",
    "    for row in merged.to_dict(orient=\"records\"):\n",
    "        if row[\"date\"] not in days:\n",
    "           days[row[\"date\"]] = []\n",
    "        \n",
    "        if not pd.isnull(row[\"employer\"]):\n",
    "            shift = {\"employer\":row[\"employer\"],\"start\":row[\"start\"],\"end\":row[\"end\"]}\n",
    "            days[row[\"date\"]].append(shift)\n",
    "            \n",
    "    calendar = [{\"day\":day,\"shifts\":days[day]} for day in days]\n",
    "    return calendar"
   ]
  },
  {
   "cell_type": "code",
   "execution_count": 21,
   "id": "48774d11-4f10-40ab-87f7-980b05b34e6f",
   "metadata": {},
   "outputs": [],
   "source": [
    "calendar = create_calendar(2024,5)"
   ]
  },
  {
   "cell_type": "code",
   "execution_count": 22,
   "id": "5c1819a2-4bd4-47dd-a7b1-d56490a234c7",
   "metadata": {},
   "outputs": [
    {
     "data": {
      "text/plain": [
       "[{'day': '2024-04-28', 'shifts': []},\n",
       " {'day': '2024-04-29', 'shifts': []},\n",
       " {'day': '2024-04-30',\n",
       "  'shifts': [{'employer': 'S-Market', 'start': '20:00', 'end': '00:00'}]},\n",
       " {'day': '2024-05-01', 'shifts': []},\n",
       " {'day': '2024-05-02', 'shifts': []},\n",
       " {'day': '2024-05-03', 'shifts': []},\n",
       " {'day': '2024-05-04', 'shifts': []},\n",
       " {'day': '2024-05-05', 'shifts': []},\n",
       " {'day': '2024-05-06', 'shifts': []},\n",
       " {'day': '2024-05-07', 'shifts': []},\n",
       " {'day': '2024-05-08', 'shifts': []},\n",
       " {'day': '2024-05-09', 'shifts': []},\n",
       " {'day': '2024-05-10', 'shifts': []},\n",
       " {'day': '2024-05-11', 'shifts': []},\n",
       " {'day': '2024-05-12', 'shifts': []},\n",
       " {'day': '2024-05-13', 'shifts': []},\n",
       " {'day': '2024-05-14',\n",
       "  'shifts': [{'employer': 'Ikeaa', 'start': '08:00', 'end': '00:00'},\n",
       "   {'employer': 'S-Market', 'start': '17:00', 'end': '00:00'}]},\n",
       " {'day': '2024-05-15', 'shifts': []},\n",
       " {'day': '2024-05-16', 'shifts': []},\n",
       " {'day': '2024-05-17', 'shifts': []},\n",
       " {'day': '2024-05-18', 'shifts': []},\n",
       " {'day': '2024-05-19', 'shifts': []},\n",
       " {'day': '2024-05-20', 'shifts': []},\n",
       " {'day': '2024-05-21', 'shifts': []},\n",
       " {'day': '2024-05-22', 'shifts': []},\n",
       " {'day': '2024-05-23',\n",
       "  'shifts': [{'employer': 'Ikeaa', 'start': '08:00', 'end': '00:00'}]},\n",
       " {'day': '2024-05-24', 'shifts': []},\n",
       " {'day': '2024-05-25', 'shifts': []},\n",
       " {'day': '2024-05-26', 'shifts': []},\n",
       " {'day': '2024-05-27', 'shifts': []},\n",
       " {'day': '2024-05-28', 'shifts': []},\n",
       " {'day': '2024-05-29', 'shifts': []},\n",
       " {'day': '2024-05-30', 'shifts': []},\n",
       " {'day': '2024-05-31',\n",
       "  'shifts': [{'employer': 'Ikeaa', 'start': '20:00', 'end': '00:00'}]},\n",
       " {'day': '2024-06-01', 'shifts': []}]"
      ]
     },
     "execution_count": 22,
     "metadata": {},
     "output_type": "execute_result"
    }
   ],
   "source": [
    "calendar"
   ]
  },
  {
   "cell_type": "code",
   "execution_count": null,
   "id": "2d6facb0-2482-44ab-ac76-8304928fbf55",
   "metadata": {},
   "outputs": [],
   "source": []
  }
 ],
 "metadata": {
  "kernelspec": {
   "display_name": "Python 3 (ipykernel)",
   "language": "python",
   "name": "python3"
  },
  "language_info": {
   "codemirror_mode": {
    "name": "ipython",
    "version": 3
   },
   "file_extension": ".py",
   "mimetype": "text/x-python",
   "name": "python",
   "nbconvert_exporter": "python",
   "pygments_lexer": "ipython3",
   "version": "3.10.12"
  }
 },
 "nbformat": 4,
 "nbformat_minor": 5
}

{
 "cells": [
  {
   "cell_type": "code",
   "execution_count": 6,
   "id": "24a056e9-1baf-480e-a703-391c4624180b",
   "metadata": {},
   "outputs": [],
   "source": [
    "import pandas as pd\n",
    "import datetime\n",
    "import numpy as np\n",
    "import math\n",
    "import psycopg2\n",
    "import psycopg2.extras\n",
    "\n",
    "conn = psycopg2.connect(database=\"finances\",\n",
    "                        host=\"localhost\",\n",
    "                        user=\"postgres\",\n",
    "                        password=\"Karelia\",\n",
    "                        port=5432)"
   ]
  },
  {
   "cell_type": "code",
   "execution_count": 7,
   "id": "4be4fb7d-0c7d-422f-ac12-a612a3429710",
   "metadata": {},
   "outputs": [],
   "source": [
    "cursor = conn.cursor(cursor_factory=psycopg2.extras.RealDictCursor)"
   ]
  },
  {
   "cell_type": "code",
   "execution_count": 8,
   "id": "799194e5-cefc-4685-b8c3-5bc59f2e2271",
   "metadata": {},
   "outputs": [],
   "source": [
    "def get_shifts(username,year,month):\n",
    "    command = \"\"\"\n",
    "    select start_time,end_time,employer from shifts \n",
    "    join contracts on contracts.contract_id = shifts.contract_id\n",
    "    join users on contracts.user_id = contracts.user_id\n",
    "    where \n",
    "    date_part('year',start_time) = %s and date_part('month',start_time) = %s or\n",
    "    date_part('year',end_time) = %s and date_part('month',end_time) = %s\n",
    "    and users.email = %s\n",
    "    order by start_time asc;\"\"\"\n",
    "    params = (year,month,year,month,username)\n",
    "    cursor.execute(command,params)\n",
    "    data = cursor.fetchall()\n",
    "    return data"
   ]
  },
  {
   "cell_type": "code",
   "execution_count": 9,
   "id": "558de538-7d37-42cb-93a2-377a8e8cc026",
   "metadata": {},
   "outputs": [],
   "source": [
    "def merge_shifts(shifts,days,year,month):\n",
    "    begin = pd.Timestamp(year=year,month=month,day=1,hour=0)\n",
    "    end = begin + pd.Timedelta(1,unit=\"d\")\n",
    "    begin_f,end_f\n",
    "    shifts.loc[shifts['start_time'] < begin.strftime(\"%Y-%d-%m %H:%S\"), 'start_time'] = begin.strftime(\"%Y-%d-%m %H:%S\")\n",
    "    shifts.loc[shifts['end_time'] >= \"2024-06-01 00:00:00\", 'end_time'] = \"2024-06-01 00:00:00\"\n",
    "    shifts[\"date\"] = shifts[\"start_time\"].dt.date.astype(str)\n",
    "    shifts[\"start\"] = shifts[\"start_time\"].dt.time.astype(str).str.slice(start=0,stop=5)\n",
    "    shifts[\"end\"] = shifts[\"end_time\"].dt.time.astype(str).str.slice(start=0,stop=5)\n",
    "    calendar_f = pd.DataFrame(data={\"date\":days}).astype(str)\n",
    "    merged = pd.merge(calendar_f, shifts.drop(columns=[\"start_time\",\"end_time\"]), on=\"date\", how=\"outer\")\n",
    "    return merged"
   ]
  },
  {
   "cell_type": "code",
   "execution_count": 10,
   "id": "293db78a-0939-4f3a-9b52-78d8c8cc7429",
   "metadata": {},
   "outputs": [],
   "source": [
    "def create_calendar(year,month):\n",
    "    normalized = pd.Timestamp(year=year,month=month,day=1)\n",
    "    european_day_of_week = normalized.day_of_week\n",
    "    if european_day_of_week != 6:\n",
    "        first_cal_day = normalized - pd.Timedelta(european_day_of_week + 1, unit=\"d\")\n",
    "    else:\n",
    "        first_cal_day = normalized\n",
    "    last_day_of_month = pd.Timestamp(year=normalized.year,month=normalized.month,day=normalized.daysinmonth)\n",
    "    day_diff = (last_day_of_month - first_cal_day).days * 1 + 1\n",
    "    num_days = math.ceil(day_diff / 7) * 7\n",
    "    last_cal_day =first_cal_day + pd.Timedelta(num_days-1, unit=\"d\")\n",
    "    days = pd.date_range(first_cal_day,last_cal_day)\n",
    "    shift_data = get_shifts(\"koji.gabriel218@gmail.com\",year,month)\n",
    "    shifts = pd.DataFrame(shift_data)\n",
    "    merged = merge_shifts(shifts,days,year,month)\n",
    "    \n",
    "    days = {}\n",
    "\n",
    "    for row in merged.to_dict(orient=\"records\"):\n",
    "        if row[\"date\"] not in days:\n",
    "           days[row[\"date\"]] = []\n",
    "        \n",
    "        if not pd.isnull(row[\"employer\"]):\n",
    "            shift = {\"employer\":row[\"employer\"],\"start\":row[\"start\"],\"end\":row[\"end\"]}\n",
    "            days[row[\"date\"]].append(shift)\n",
    "            \n",
    "    calendar = [{\"day\":day,\"shifts\":days[day]} for day in days]\n",
    "    return calendar"
   ]
  },
  {
   "cell_type": "code",
   "execution_count": 11,
   "id": "48774d11-4f10-40ab-87f7-980b05b34e6f",
   "metadata": {},
   "outputs": [
    {
     "ename": "NameError",
     "evalue": "name 'begin_f' is not defined",
     "output_type": "error",
     "traceback": [
      "\u001b[0;31m---------------------------------------------------------------------------\u001b[0m",
      "\u001b[0;31mNameError\u001b[0m                                 Traceback (most recent call last)",
      "Cell \u001b[0;32mIn[11], line 1\u001b[0m\n\u001b[0;32m----> 1\u001b[0m calendar \u001b[38;5;241m=\u001b[39m \u001b[43mcreate_calendar\u001b[49m\u001b[43m(\u001b[49m\u001b[38;5;241;43m2024\u001b[39;49m\u001b[43m,\u001b[49m\u001b[38;5;241;43m5\u001b[39;49m\u001b[43m)\u001b[49m\n",
      "Cell \u001b[0;32mIn[10], line 15\u001b[0m, in \u001b[0;36mcreate_calendar\u001b[0;34m(year, month)\u001b[0m\n\u001b[1;32m     13\u001b[0m shift_data \u001b[38;5;241m=\u001b[39m get_shifts(\u001b[38;5;124m\"\u001b[39m\u001b[38;5;124mkoji.gabriel218@gmail.com\u001b[39m\u001b[38;5;124m\"\u001b[39m,year,month)\n\u001b[1;32m     14\u001b[0m shifts \u001b[38;5;241m=\u001b[39m pd\u001b[38;5;241m.\u001b[39mDataFrame(shift_data)\n\u001b[0;32m---> 15\u001b[0m merged \u001b[38;5;241m=\u001b[39m \u001b[43mmerge_shifts\u001b[49m\u001b[43m(\u001b[49m\u001b[43mshifts\u001b[49m\u001b[43m,\u001b[49m\u001b[43mdays\u001b[49m\u001b[43m,\u001b[49m\u001b[43myear\u001b[49m\u001b[43m,\u001b[49m\u001b[43mmonth\u001b[49m\u001b[43m)\u001b[49m\n\u001b[1;32m     17\u001b[0m days \u001b[38;5;241m=\u001b[39m {}\n\u001b[1;32m     19\u001b[0m \u001b[38;5;28;01mfor\u001b[39;00m row \u001b[38;5;129;01min\u001b[39;00m merged\u001b[38;5;241m.\u001b[39mto_dict(orient\u001b[38;5;241m=\u001b[39m\u001b[38;5;124m\"\u001b[39m\u001b[38;5;124mrecords\u001b[39m\u001b[38;5;124m\"\u001b[39m):\n",
      "Cell \u001b[0;32mIn[9], line 4\u001b[0m, in \u001b[0;36mmerge_shifts\u001b[0;34m(shifts, days, year, month)\u001b[0m\n\u001b[1;32m      2\u001b[0m begin \u001b[38;5;241m=\u001b[39m pd\u001b[38;5;241m.\u001b[39mTimestamp(year\u001b[38;5;241m=\u001b[39myear,month\u001b[38;5;241m=\u001b[39mmonth,day\u001b[38;5;241m=\u001b[39m\u001b[38;5;241m1\u001b[39m,hour\u001b[38;5;241m=\u001b[39m\u001b[38;5;241m0\u001b[39m)\n\u001b[1;32m      3\u001b[0m end \u001b[38;5;241m=\u001b[39m begin \u001b[38;5;241m+\u001b[39m pd\u001b[38;5;241m.\u001b[39mTimedelta(\u001b[38;5;241m1\u001b[39m,unit\u001b[38;5;241m=\u001b[39m\u001b[38;5;124m\"\u001b[39m\u001b[38;5;124md\u001b[39m\u001b[38;5;124m\"\u001b[39m)\n\u001b[0;32m----> 4\u001b[0m \u001b[43mbegin_f\u001b[49m\n\u001b[1;32m      5\u001b[0m shifts\u001b[38;5;241m.\u001b[39mloc[shifts[\u001b[38;5;124m'\u001b[39m\u001b[38;5;124mstart_time\u001b[39m\u001b[38;5;124m'\u001b[39m] \u001b[38;5;241m<\u001b[39m begin\u001b[38;5;241m.\u001b[39mstrftime(\u001b[38;5;124m\"\u001b[39m\u001b[38;5;124m%\u001b[39m\u001b[38;5;124mY-\u001b[39m\u001b[38;5;132;01m%d\u001b[39;00m\u001b[38;5;124m-\u001b[39m\u001b[38;5;124m%\u001b[39m\u001b[38;5;124mm \u001b[39m\u001b[38;5;124m%\u001b[39m\u001b[38;5;124mH:\u001b[39m\u001b[38;5;124m%\u001b[39m\u001b[38;5;124mS\u001b[39m\u001b[38;5;124m\"\u001b[39m), \u001b[38;5;124m'\u001b[39m\u001b[38;5;124mstart_time\u001b[39m\u001b[38;5;124m'\u001b[39m] \u001b[38;5;241m=\u001b[39m begin\u001b[38;5;241m.\u001b[39mstrftime(\u001b[38;5;124m\"\u001b[39m\u001b[38;5;124m%\u001b[39m\u001b[38;5;124mY-\u001b[39m\u001b[38;5;132;01m%d\u001b[39;00m\u001b[38;5;124m-\u001b[39m\u001b[38;5;124m%\u001b[39m\u001b[38;5;124mm \u001b[39m\u001b[38;5;124m%\u001b[39m\u001b[38;5;124mH:\u001b[39m\u001b[38;5;124m%\u001b[39m\u001b[38;5;124mS\u001b[39m\u001b[38;5;124m\"\u001b[39m)\n\u001b[1;32m      6\u001b[0m shifts\u001b[38;5;241m.\u001b[39mloc[shifts[\u001b[38;5;124m'\u001b[39m\u001b[38;5;124mend_time\u001b[39m\u001b[38;5;124m'\u001b[39m] \u001b[38;5;241m>\u001b[39m\u001b[38;5;241m=\u001b[39m \u001b[38;5;124m\"\u001b[39m\u001b[38;5;124m2024-06-01 00:00:00\u001b[39m\u001b[38;5;124m\"\u001b[39m, \u001b[38;5;124m'\u001b[39m\u001b[38;5;124mend_time\u001b[39m\u001b[38;5;124m'\u001b[39m] \u001b[38;5;241m=\u001b[39m \u001b[38;5;124m\"\u001b[39m\u001b[38;5;124m2024-06-01 00:00:00\u001b[39m\u001b[38;5;124m\"\u001b[39m\n",
      "\u001b[0;31mNameError\u001b[0m: name 'begin_f' is not defined"
     ]
    }
   ],
   "source": [
    "calendar = create_calendar(2024,5)"
   ]
  },
  {
   "cell_type": "code",
   "execution_count": 528,
   "id": "5c1819a2-4bd4-47dd-a7b1-d56490a234c7",
   "metadata": {},
   "outputs": [
    {
     "data": {
      "text/plain": [
       "[{'day': '2024-04-28', 'shifts': []},\n",
       " {'day': '2024-04-29', 'shifts': []},\n",
       " {'day': '2024-04-30',\n",
       "  'shifts': [{'employer': 'S-Market', 'start': '20:00', 'end': '04:00'}]},\n",
       " {'day': '2024-05-01', 'shifts': []},\n",
       " {'day': '2024-05-02', 'shifts': []},\n",
       " {'day': '2024-05-03', 'shifts': []},\n",
       " {'day': '2024-05-04', 'shifts': []},\n",
       " {'day': '2024-05-05', 'shifts': []},\n",
       " {'day': '2024-05-06', 'shifts': []},\n",
       " {'day': '2024-05-07', 'shifts': []},\n",
       " {'day': '2024-05-08', 'shifts': []},\n",
       " {'day': '2024-05-09', 'shifts': []},\n",
       " {'day': '2024-05-10', 'shifts': []},\n",
       " {'day': '2024-05-11', 'shifts': []},\n",
       " {'day': '2024-05-12', 'shifts': []},\n",
       " {'day': '2024-05-13', 'shifts': []},\n",
       " {'day': '2024-05-14',\n",
       "  'shifts': [{'employer': 'Ikeaa', 'start': '08:00', 'end': '16:00'},\n",
       "   {'employer': 'S-Market', 'start': '17:00', 'end': '20:00'}]},\n",
       " {'day': '2024-05-15', 'shifts': []},\n",
       " {'day': '2024-05-16', 'shifts': []},\n",
       " {'day': '2024-05-17', 'shifts': []},\n",
       " {'day': '2024-05-18', 'shifts': []},\n",
       " {'day': '2024-05-19', 'shifts': []},\n",
       " {'day': '2024-05-20', 'shifts': []},\n",
       " {'day': '2024-05-21', 'shifts': []},\n",
       " {'day': '2024-05-22', 'shifts': []},\n",
       " {'day': '2024-05-23',\n",
       "  'shifts': [{'employer': 'Ikeaa', 'start': '08:00', 'end': '16:00'}]},\n",
       " {'day': '2024-05-24', 'shifts': []},\n",
       " {'day': '2024-05-25', 'shifts': []},\n",
       " {'day': '2024-05-26', 'shifts': []},\n",
       " {'day': '2024-05-27', 'shifts': []},\n",
       " {'day': '2024-05-28', 'shifts': []},\n",
       " {'day': '2024-05-29', 'shifts': []},\n",
       " {'day': '2024-05-30', 'shifts': []},\n",
       " {'day': '2024-05-31',\n",
       "  'shifts': [{'employer': 'Ikeaa', 'start': '20:00', 'end': '00:00'}]},\n",
       " {'day': '2024-06-01', 'shifts': []}]"
      ]
     },
     "execution_count": 528,
     "metadata": {},
     "output_type": "execute_result"
    }
   ],
   "source": [
    "calendar"
   ]
  }
 ],
 "metadata": {
  "kernelspec": {
   "display_name": "Python 3 (ipykernel)",
   "language": "python",
   "name": "python3"
  },
  "language_info": {
   "codemirror_mode": {
    "name": "ipython",
    "version": 3
   },
   "file_extension": ".py",
   "mimetype": "text/x-python",
   "name": "python",
   "nbconvert_exporter": "python",
   "pygments_lexer": "ipython3",
   "version": "3.10.12"
  }
 },
 "nbformat": 4,
 "nbformat_minor": 5
}

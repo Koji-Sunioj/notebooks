{
 "cells": [
  {
   "cell_type": "code",
   "execution_count": 30,
   "id": "750d62fd",
   "metadata": {},
   "outputs": [],
   "source": [
    "import gzip"
   ]
  },
  {
   "cell_type": "code",
   "execution_count": 35,
   "id": "fe4fed94",
   "metadata": {},
   "outputs": [
    {
     "name": "stdout",
     "output_type": "stream",
     "text": [
      "['#Version: 1.0', '#Fields: date time x-edge-location sc-bytes c-ip cs-method cs(Host) cs-uri-stem sc-status cs(Referer) cs(User-Agent) cs-uri-query cs(Cookie) x-edge-result-type x-edge-request-id x-host-header cs-protocol cs-bytes time-taken x-forwarded-for ssl-protocol ssl-cipher x-edge-response-result-type cs-protocol-version fle-status fle-encrypted-fields c-port time-to-first-byte x-edge-detailed-result-type sc-content-type sc-content-len sc-range-start sc-range-end', '2023-03-06\\t07:57:57\\tORD52-C1\\t1358\\t34.30.63.79\\tGET\\td2yszm9fccyysw.cloudfront.net\\t/\\t200\\thttp://www.google.com/\\tMozilla/5.0%20(X11;%20Linux%20x86_64)%20AppleWebKit/537.36%20(KHTML,%20like%20Gecko)%20Chrome/85.0.4183.121%20Safari/537.36\\t-\\t-\\tRefreshHit\\tym_bRbKWLOoDVtBshJCgu-S5xmClLle82dtO0HOhVON5J2b26ZfZgw==\\tironpond.net\\thttps\\t442\\t0.091\\t-\\tTLSv1.3\\tTLS_AES_128_GCM_SHA256\\tRefreshHit\\tHTTP/1.1\\t-\\t-\\t42546\\t0.091\\tRefreshHit\\ttext/html\\t794\\t-\\t-', '2023-03-06\\t07:58:56\\tBCN50-P2\\t1362\\t176.53.220.203\\tGET\\td2yszm9fccyysw.cloudfront.net\\t/\\t200\\t-\\tMozilla/5.0%20(Windows%20NT%2010.0;%20Win64;%20x64)%20AppleWebKit/537.36%20(KHTML,%20like%20Gecko)%20Chrome/94.0.4606.61%20Safari/537.36\\t-\\t-\\tHit\\tF9ZKCW1j0R9rkySXcOdwldvZKircNCWK1x7N6SnShBTJ4OLDpbTjdA==\\tironpond.net\\thttps\\t211\\t0.041\\t-\\tTLSv1.3\\tTLS_AES_128_GCM_SHA256\\tHit\\tHTTP/1.1\\t-\\t-\\t43235\\t0.041\\tHit\\ttext/html\\t794\\t-\\t-', '2023-03-06\\t07:58:57\\tBCN50-P2\\t1364\\t176.53.220.203\\tGET\\td2yszm9fccyysw.cloudfront.net\\t/favicon.ico\\t200\\t-\\tMozilla/5.0%20(Windows%20NT%2010.0;%20Win64;%20x64)%20AppleWebKit/537.36%20(KHTML,%20like%20Gecko)%20Chrome/94.0.4606.61%20Safari/537.36\\t-\\t-\\tError\\tV9DVcLS-gWucX-9YZXA8w0qLnm52crLjudLPdKwDD_-2QiylrQX3iQ==\\tironpond.net\\thttps\\t222\\t0.451\\t-\\tTLSv1.3\\tTLS_AES_128_GCM_SHA256\\tError\\tHTTP/1.1\\t-\\t-\\t43235\\t0.451\\tError\\ttext/html\\t794\\t-\\t-', '2023-03-06\\t07:59:30\\tHIO50-C1\\t72638\\t54.202.79.20\\tGET\\td2yszm9fccyysw.cloudfront.net\\t/static/js/main.be6fd0bf.js\\t200\\t-\\tMozilla/5.0%20(Windows%20NT%206.3;%20rv:36.0)%20Gecko/20100101%20Firefox/36.0\\t-\\t-\\tRefreshHit\\tV9zo7kCV3lHDFr3ckxRbl9RfW0MTB23FnMcXGNctfiGW3UIyx7f1NA==\\tironpond.net\\thttp\\t229\\t0.291\\t-\\t-\\t-\\tRefreshHit\\tHTTP/1.1\\t-\\t-\\t53297\\t0.290\\tRefreshHit\\tapplication/javascript\\t-\\t-\\t-', '']\n"
     ]
    }
   ],
   "source": [
    "strings = []\n",
    "with gzip.open(\"asd.gz\",'rb') as fin:\n",
    "    content = fin.read().decode(\"utf-8\").split(\"\\n\")\n",
    "    for con in content:\n",
    "        columns = con.split(\"\\t\")\n",
    "        if len(columns) > 1:\n",
    "            columns[4] = \"anon\"\n",
    "        filtered_line = \"\\t\".join(columns)\n",
    "        strings.append(filtered_line)\n",
    "\n",
    "   # new_item = (\"\\n\").join(strings)\n",
    "    #compressed_value = gzip.compress(bytes(new_item, 'utf-8'))\n",
    "    #print(compressed_value)"
   ]
  },
  {
   "cell_type": "code",
   "execution_count": 33,
   "id": "fc2fbe35",
   "metadata": {},
   "outputs": [],
   "source": [
    "with gzip.open(\"test.gz\",\"wb\") as f:\n",
    "    bindata = bytes((\"\\n\").join(strings), encoding='utf8')  \n",
    "    f.write(bindata)"
   ]
  },
  {
   "cell_type": "code",
   "execution_count": 34,
   "id": "380cb6f6",
   "metadata": {},
   "outputs": [
    {
     "name": "stdout",
     "output_type": "stream",
     "text": [
      "['#Version: 1.0', '#Fields: date time x-edge-location sc-bytes c-ip cs-method cs(Host) cs-uri-stem sc-status cs(Referer) cs(User-Agent) cs-uri-query cs(Cookie) x-edge-result-type x-edge-request-id x-host-header cs-protocol cs-bytes time-taken x-forwarded-for ssl-protocol ssl-cipher x-edge-response-result-type cs-protocol-version fle-status fle-encrypted-fields c-port time-to-first-byte x-edge-detailed-result-type sc-content-type sc-content-len sc-range-start sc-range-end', '2023-03-06\\t07:57:57\\tORD52-C1\\t1358\\tanon\\tGET\\td2yszm9fccyysw.cloudfront.net\\t/\\t200\\thttp://www.google.com/\\tMozilla/5.0%20(X11;%20Linux%20x86_64)%20AppleWebKit/537.36%20(KHTML,%20like%20Gecko)%20Chrome/85.0.4183.121%20Safari/537.36\\t-\\t-\\tRefreshHit\\tym_bRbKWLOoDVtBshJCgu-S5xmClLle82dtO0HOhVON5J2b26ZfZgw==\\tironpond.net\\thttps\\t442\\t0.091\\t-\\tTLSv1.3\\tTLS_AES_128_GCM_SHA256\\tRefreshHit\\tHTTP/1.1\\t-\\t-\\t42546\\t0.091\\tRefreshHit\\ttext/html\\t794\\t-\\t-', '2023-03-06\\t07:58:56\\tBCN50-P2\\t1362\\tanon\\tGET\\td2yszm9fccyysw.cloudfront.net\\t/\\t200\\t-\\tMozilla/5.0%20(Windows%20NT%2010.0;%20Win64;%20x64)%20AppleWebKit/537.36%20(KHTML,%20like%20Gecko)%20Chrome/94.0.4606.61%20Safari/537.36\\t-\\t-\\tHit\\tF9ZKCW1j0R9rkySXcOdwldvZKircNCWK1x7N6SnShBTJ4OLDpbTjdA==\\tironpond.net\\thttps\\t211\\t0.041\\t-\\tTLSv1.3\\tTLS_AES_128_GCM_SHA256\\tHit\\tHTTP/1.1\\t-\\t-\\t43235\\t0.041\\tHit\\ttext/html\\t794\\t-\\t-', '2023-03-06\\t07:58:57\\tBCN50-P2\\t1364\\tanon\\tGET\\td2yszm9fccyysw.cloudfront.net\\t/favicon.ico\\t200\\t-\\tMozilla/5.0%20(Windows%20NT%2010.0;%20Win64;%20x64)%20AppleWebKit/537.36%20(KHTML,%20like%20Gecko)%20Chrome/94.0.4606.61%20Safari/537.36\\t-\\t-\\tError\\tV9DVcLS-gWucX-9YZXA8w0qLnm52crLjudLPdKwDD_-2QiylrQX3iQ==\\tironpond.net\\thttps\\t222\\t0.451\\t-\\tTLSv1.3\\tTLS_AES_128_GCM_SHA256\\tError\\tHTTP/1.1\\t-\\t-\\t43235\\t0.451\\tError\\ttext/html\\t794\\t-\\t-', '2023-03-06\\t07:59:30\\tHIO50-C1\\t72638\\tanon\\tGET\\td2yszm9fccyysw.cloudfront.net\\t/static/js/main.be6fd0bf.js\\t200\\t-\\tMozilla/5.0%20(Windows%20NT%206.3;%20rv:36.0)%20Gecko/20100101%20Firefox/36.0\\t-\\t-\\tRefreshHit\\tV9zo7kCV3lHDFr3ckxRbl9RfW0MTB23FnMcXGNctfiGW3UIyx7f1NA==\\tironpond.net\\thttp\\t229\\t0.291\\t-\\t-\\t-\\tRefreshHit\\tHTTP/1.1\\t-\\t-\\t53297\\t0.290\\tRefreshHit\\tapplication/javascript\\t-\\t-\\t-', '']\n"
     ]
    }
   ],
   "source": [
    "with gzip.open(\"test.gz\",'rb') as fin:\n",
    "    content = fin.read().decode(\"utf-8\").split(\"\\n\")\n",
    "    print(content)"
   ]
  },
  {
   "cell_type": "code",
   "execution_count": null,
   "id": "f3fdb63b",
   "metadata": {},
   "outputs": [],
   "source": []
  }
 ],
 "metadata": {
  "kernelspec": {
   "display_name": "Python 3 (ipykernel)",
   "language": "python",
   "name": "python3"
  },
  "language_info": {
   "codemirror_mode": {
    "name": "ipython",
    "version": 3
   },
   "file_extension": ".py",
   "mimetype": "text/x-python",
   "name": "python",
   "nbconvert_exporter": "python",
   "pygments_lexer": "ipython3",
   "version": "3.8.10"
  }
 },
 "nbformat": 4,
 "nbformat_minor": 5
}

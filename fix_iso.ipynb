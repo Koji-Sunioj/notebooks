{
 "cells": [
  {
   "cell_type": "code",
   "execution_count": 56,
   "id": "c41a65e6",
   "metadata": {},
   "outputs": [],
   "source": [
    "import pandas as pd\n",
    "import numpy as np\n",
    "import matplotlib\n",
    "import time\n",
    "from datetime import datetime\n",
    "import re\n"
   ]
  },
  {
   "cell_type": "code",
   "execution_count": 57,
   "id": "35a33a0e",
   "metadata": {},
   "outputs": [],
   "source": [
    "locations = pd.read_json(\"./utils/locations.json\").reset_index()\n",
    "locations[\"country\"] = [i[\"country\"] for i in locations.nodes]\n",
    "locations[\"city\"] = [i[\"city\"] for i in locations.nodes]\n",
    "locations[\"airport\"] = [i[\"airport\"] for i in locations.nodes]\n",
    "location_refined = locations.drop(columns=[\"self\",\"source\",\"nodes\"]).rename(columns={\"index\":\"IATA\"})\n",
    "#locations = locations.drop(columns=[\"source\",\"self\",\"nodes\"])"
   ]
  },
  {
   "cell_type": "code",
   "execution_count": 58,
   "id": "986026a6",
   "metadata": {},
   "outputs": [],
   "source": [
    "iso = pd.read_csv(\"data_csv.csv\").rename(columns={\"Name\":\"country\"})"
   ]
  },
  {
   "cell_type": "code",
   "execution_count": 59,
   "id": "3313d189",
   "metadata": {},
   "outputs": [],
   "source": [
    "location_w_iso = pd.merge(location_refined,iso,on=\"country\",how=\"left\")"
   ]
  },
  {
   "cell_type": "code",
   "execution_count": 60,
   "id": "ee70a5d7",
   "metadata": {},
   "outputs": [],
   "source": [
    "location_w_iso.loc[location_w_iso[\"IATA\"] == \"HAN\",\"Code\"] = \"VN\"\n",
    "location_w_iso.loc[location_w_iso[\"IATA\"] == \"SGN\",\"Code\"] = \"VN\"\n",
    "location_w_iso.loc[location_w_iso[\"IATA\"] == \"ICN\",\"Code\"] = \"KN\""
   ]
  },
  {
   "cell_type": "code",
   "execution_count": 61,
   "id": "e51884b0",
   "metadata": {},
   "outputs": [
    {
     "data": {
      "text/html": [
       "<div>\n",
       "<style scoped>\n",
       "    .dataframe tbody tr th:only-of-type {\n",
       "        vertical-align: middle;\n",
       "    }\n",
       "\n",
       "    .dataframe tbody tr th {\n",
       "        vertical-align: top;\n",
       "    }\n",
       "\n",
       "    .dataframe thead th {\n",
       "        text-align: right;\n",
       "    }\n",
       "</style>\n",
       "<table border=\"1\" class=\"dataframe\">\n",
       "  <thead>\n",
       "    <tr style=\"text-align: right;\">\n",
       "      <th></th>\n",
       "      <th>IATA</th>\n",
       "      <th>Code</th>\n",
       "    </tr>\n",
       "  </thead>\n",
       "  <tbody>\n",
       "    <tr>\n",
       "      <th>0</th>\n",
       "      <td>AKL</td>\n",
       "      <td>NZ</td>\n",
       "    </tr>\n",
       "    <tr>\n",
       "      <th>1</th>\n",
       "      <td>AMS</td>\n",
       "      <td>NL</td>\n",
       "    </tr>\n",
       "    <tr>\n",
       "      <th>2</th>\n",
       "      <td>ARN</td>\n",
       "      <td>SE</td>\n",
       "    </tr>\n",
       "    <tr>\n",
       "      <th>3</th>\n",
       "      <td>ATH</td>\n",
       "      <td>GR</td>\n",
       "    </tr>\n",
       "    <tr>\n",
       "      <th>4</th>\n",
       "      <td>ATL</td>\n",
       "      <td>US</td>\n",
       "    </tr>\n",
       "    <tr>\n",
       "      <th>...</th>\n",
       "      <td>...</td>\n",
       "      <td>...</td>\n",
       "    </tr>\n",
       "    <tr>\n",
       "      <th>98</th>\n",
       "      <td>YUL</td>\n",
       "      <td>CA</td>\n",
       "    </tr>\n",
       "    <tr>\n",
       "      <th>99</th>\n",
       "      <td>YVR</td>\n",
       "      <td>CA</td>\n",
       "    </tr>\n",
       "    <tr>\n",
       "      <th>100</th>\n",
       "      <td>ZAG</td>\n",
       "      <td>HR</td>\n",
       "    </tr>\n",
       "    <tr>\n",
       "      <th>101</th>\n",
       "      <td>ZHY</td>\n",
       "      <td>CN</td>\n",
       "    </tr>\n",
       "    <tr>\n",
       "      <th>102</th>\n",
       "      <td>ZRH</td>\n",
       "      <td>CH</td>\n",
       "    </tr>\n",
       "  </tbody>\n",
       "</table>\n",
       "<p>103 rows × 2 columns</p>\n",
       "</div>"
      ],
      "text/plain": [
       "    IATA Code\n",
       "0    AKL   NZ\n",
       "1    AMS   NL\n",
       "2    ARN   SE\n",
       "3    ATH   GR\n",
       "4    ATL   US\n",
       "..   ...  ...\n",
       "98   YUL   CA\n",
       "99   YVR   CA\n",
       "100  ZAG   HR\n",
       "101  ZHY   CN\n",
       "102  ZRH   CH\n",
       "\n",
       "[103 rows x 2 columns]"
      ]
     },
     "execution_count": 61,
     "metadata": {},
     "output_type": "execute_result"
    }
   ],
   "source": [
    "location_w_iso.drop(columns=[\"country\",\"city\",\"airport\"])"
   ]
  },
  {
   "cell_type": "code",
   "execution_count": 62,
   "id": "2995ac4a",
   "metadata": {},
   "outputs": [],
   "source": [
    "string = location_w_iso.drop(columns=[\"country\",\"city\",\"airport\"]).rename(columns={\"Code\":\"country\"}).set_index(\"IATA\").to_json(orient=\"index\")"
   ]
  },
  {
   "cell_type": "code",
   "execution_count": 63,
   "id": "b87a7abc",
   "metadata": {},
   "outputs": [
    {
     "data": {
      "text/plain": [
       "'{\"AKL\":{\"country\":\"NZ\"},\"AMS\":{\"country\":\"NL\"},\"ARN\":{\"country\":\"SE\"},\"ATH\":{\"country\":\"GR\"},\"ATL\":{\"country\":\"US\"},\"BAH\":{\"country\":\"BH\"},\"BCN\":{\"country\":\"ES\"},\"BJS\":{\"country\":\"CN\"},\"BKK\":{\"country\":\"TH\"},\"BLR\":{\"country\":\"IN\"},\"BNA\":{\"country\":\"US\"},\"BNE\":{\"country\":\"AU\"},\"BOG\":{\"country\":\"CO\"},\"BOM\":{\"country\":\"IN\"},\"BOS\":{\"country\":\"US\"},\"BRU\":{\"country\":\"BE\"},\"BUD\":{\"country\":\"HU\"},\"CCU\":{\"country\":\"IN\"},\"CDG\":{\"country\":\"FR\"},\"CGK\":{\"country\":\"ID\"},\"CMH\":{\"country\":\"US\"},\"CPH\":{\"country\":\"DK\"},\"CPT\":{\"country\":\"ZA\"},\"DEL\":{\"country\":\"IN\"},\"DEN\":{\"country\":\"US\"},\"DFW\":{\"country\":\"US\"},\"DUB\":{\"country\":\"IE\"},\"DUS\":{\"country\":\"DE\"},\"DXB\":{\"country\":\"AE\"},\"EWR\":{\"country\":\"US\"},\"EZE\":{\"country\":\"AR\"},\"FCO\":{\"country\":\"IT\"},\"FJR\":{\"country\":\"AE\"},\"FOR\":{\"country\":\"BR\"},\"FRA\":{\"country\":\"DE\"},\"GIG\":{\"country\":\"BR\"},\"GRU\":{\"country\":\"BR\"},\"HAM\":{\"country\":\"DE\"},\"HAN\":{\"country\":\"VN\"},\"HEL\":{\"country\":\"FI\"},\"HIO\":{\"country\":\"US\"},\"HKG\":{\"country\":\"CN\"},\"HYD\":{\"country\":\"IN\"},\"IAD\":{\"country\":\"US\"},\"IAH\":{\"country\":\"US\"},\"ICN\":{\"country\":\"KN\"},\"IND\":{\"country\":\"US\"},\"JAX\":{\"country\":\"US\"},\"JFK\":{\"country\":\"US\"},\"JNB\":{\"country\":\"ZA\"},\"KIX\":{\"country\":\"JP\"},\"KUL\":{\"country\":\"MY\"},\"LAX\":{\"country\":\"US\"},\"LHR\":{\"country\":\"GB\"},\"LIM\":{\"country\":\"PE\"},\"LIS\":{\"country\":\"PT\"},\"LOS\":{\"country\":\"NG\"},\"MAA\":{\"country\":\"IN\"},\"MAD\":{\"country\":\"ES\"},\"MAN\":{\"country\":\"GB\"},\"MCI\":{\"country\":\"US\"},\"MCT\":{\"country\":\"OM\"},\"MEL\":{\"country\":\"AU\"},\"MIA\":{\"country\":\"US\"},\"MNL\":{\"country\":\"PH\"},\"MRS\":{\"country\":\"FR\"},\"MSP\":{\"country\":\"US\"},\"MUC\":{\"country\":\"DE\"},\"MXP\":{\"country\":\"IT\"},\"NBO\":{\"country\":\"KE\"},\"NRT\":{\"country\":\"JP\"},\"ORD\":{\"country\":\"US\"},\"OSL\":{\"country\":\"NO\"},\"OTP\":{\"country\":\"RO\"},\"PER\":{\"country\":\"AU\"},\"PHL\":{\"country\":\"US\"},\"PHX\":{\"country\":\"US\"},\"PMO\":{\"country\":\"IT\"},\"PNQ\":{\"country\":\"IN\"},\"PRG\":{\"country\":\"CZ\"},\"QRO\":{\"country\":\"MX\"},\"SCL\":{\"country\":\"CL\"},\"SEA\":{\"country\":\"US\"},\"SFO\":{\"country\":\"US\"},\"SGN\":{\"country\":\"VN\"},\"SHA\":{\"country\":\"CN\"},\"SIN\":{\"country\":\"SG\"},\"SLC\":{\"country\":\"US\"},\"SOF\":{\"country\":\"BG\"},\"SYD\":{\"country\":\"AU\"},\"SZX\":{\"country\":\"CN\"},\"TLV\":{\"country\":\"IL\"},\"TPA\":{\"country\":\"US\"},\"TPE\":{\"country\":\"CN\"},\"TXL\":{\"country\":\"DE\"},\"VIE\":{\"country\":\"AT\"},\"WAW\":{\"country\":\"PL\"},\"YTO\":{\"country\":\"CA\"},\"YUL\":{\"country\":\"CA\"},\"YVR\":{\"country\":\"CA\"},\"ZAG\":{\"country\":\"HR\"},\"ZHY\":{\"country\":\"CN\"},\"ZRH\":{\"country\":\"CH\"}}'"
      ]
     },
     "execution_count": 63,
     "metadata": {},
     "output_type": "execute_result"
    }
   ],
   "source": [
    "string"
   ]
  },
  {
   "cell_type": "code",
   "execution_count": 64,
   "id": "26397acc",
   "metadata": {},
   "outputs": [],
   "source": [
    "with open('edge_iata_iso.json', 'w') as outfile:\n",
    "    outfile.write(string)"
   ]
  },
  {
   "cell_type": "code",
   "execution_count": null,
   "id": "8e9b5908",
   "metadata": {},
   "outputs": [],
   "source": []
  }
 ],
 "metadata": {
  "kernelspec": {
   "display_name": "Python 3 (ipykernel)",
   "language": "python",
   "name": "python3"
  },
  "language_info": {
   "codemirror_mode": {
    "name": "ipython",
    "version": 3
   },
   "file_extension": ".py",
   "mimetype": "text/x-python",
   "name": "python",
   "nbconvert_exporter": "python",
   "pygments_lexer": "ipython3",
   "version": "3.8.10"
  }
 },
 "nbformat": 4,
 "nbformat_minor": 5
}

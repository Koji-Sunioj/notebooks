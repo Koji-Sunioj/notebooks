{
 "cells": [
  {
   "cell_type": "code",
   "execution_count": 10,
   "id": "3a124051",
   "metadata": {},
   "outputs": [],
   "source": [
    "import pandas as pd\n",
    "import numpy as np\n",
    "import matplotlib\n",
    "import time\n",
    "from datetime import datetime\n",
    "import re\n"
   ]
  },
  {
   "cell_type": "code",
   "execution_count": 11,
   "id": "21d9d74d",
   "metadata": {},
   "outputs": [],
   "source": [
    "visitors = pd.read_csv(\"with_bytes_only.csv\")\n",
    "locations = pd.read_json('edge_iata_iso.json').T.reset_index().rename(columns={\"index\":\"location\"})"
   ]
  },
  {
   "cell_type": "code",
   "execution_count": 12,
   "id": "6cd3098c",
   "metadata": {},
   "outputs": [],
   "source": [
    "with_date = visitors.set_index(pd.to_datetime(visitors.visit)).drop(columns=\"visit\")\n",
    "query_date = pd.to_datetime(with_date.index.floor(freq='D').unique()).astype(int) / 10**9 \n",
    "with_date.index = with_date.index.astype(np.int64) // 10**9\n",
    "with_date.location = with_date.location.str[:3].values\n",
    "bot_string = \"(?i)curl|python|apache-http|go-http|webtech|-\"\n",
    "without_bot = with_date[with_date['user_agent'].str.contains(bot_string) == False]"
   ]
  },
  {
   "cell_type": "code",
   "execution_count": 13,
   "id": "dc4ac45f",
   "metadata": {},
   "outputs": [],
   "source": [
    "visits = without_bot.groupby(without_bot.index).aggregate({\"load\":\"mean\"}).reset_index().round(0).astype({\"load\":\"int\"}).rename(columns={\"visit\":\"time\"}).to_dict(\"records\")"
   ]
  },
  {
   "cell_type": "code",
   "execution_count": 14,
   "id": "08310a1b",
   "metadata": {},
   "outputs": [],
   "source": [
    "with_countries = pd.merge(without_bot, locations, on=\"location\",how=\"left\").drop(columns=[\"user_agent\",\"location\"])"
   ]
  },
  {
   "cell_type": "code",
   "execution_count": 15,
   "id": "d1ae04e7",
   "metadata": {},
   "outputs": [],
   "source": [
    "countries = with_countries.groupby(\"country\").aggregate({\"load\":\"sum\"}).reset_index().to_dict(\"records\")"
   ]
  },
  {
   "cell_type": "code",
   "execution_count": 16,
   "id": "2a999554",
   "metadata": {},
   "outputs": [
    {
     "data": {
      "text/plain": [
       "[{'country': 'AU', 'load': 12031},\n",
       " {'country': 'CN', 'load': 28076},\n",
       " {'country': 'DE', 'load': 602},\n",
       " {'country': 'ES', 'load': 8118},\n",
       " {'country': 'FI', 'load': 7267285},\n",
       " {'country': 'FR', 'load': 2709},\n",
       " {'country': 'GB', 'load': 32121},\n",
       " {'country': 'IE', 'load': 21383},\n",
       " {'country': 'JP', 'load': 260548},\n",
       " {'country': 'NL', 'load': 33531},\n",
       " {'country': 'NO', 'load': 1362},\n",
       " {'country': 'SG', 'load': 168129},\n",
       " {'country': 'US', 'load': 2180140}]"
      ]
     },
     "execution_count": 16,
     "metadata": {},
     "output_type": "execute_result"
    }
   ],
   "source": [
    "countries"
   ]
  },
  {
   "cell_type": "code",
   "execution_count": 18,
   "id": "f536517c",
   "metadata": {},
   "outputs": [
    {
     "data": {
      "text/plain": [
       "[{'time': 1678323600, 'load': 28061},\n",
       " {'time': 1678327200, 'load': 248018},\n",
       " {'time': 1678330800, 'load': 24716},\n",
       " {'time': 1678338000, 'load': 127614},\n",
       " {'time': 1678345200, 'load': 2289},\n",
       " {'time': 1678352400, 'load': 27208},\n",
       " {'time': 1678356000, 'load': 400750},\n",
       " {'time': 1678359600, 'load': 140212},\n",
       " {'time': 1678363200, 'load': 431627},\n",
       " {'time': 1678366800, 'load': 334122},\n",
       " {'time': 1678370400, 'load': 10874},\n",
       " {'time': 1678374000, 'load': 232266},\n",
       " {'time': 1678377600, 'load': 4912},\n",
       " {'time': 1678381200, 'load': 1352},\n",
       " {'time': 1678384800, 'load': 502689},\n",
       " {'time': 1678388400, 'load': 8456},\n",
       " {'time': 1678392000, 'load': 5900},\n",
       " {'time': 1678395600, 'load': 1670},\n",
       " {'time': 1678399200, 'load': 1362},\n",
       " {'time': 1678402800, 'load': 15756}]"
      ]
     },
     "execution_count": 18,
     "metadata": {},
     "output_type": "execute_result"
    }
   ],
   "source": [
    "visits"
   ]
  },
  {
   "cell_type": "code",
   "execution_count": 36,
   "id": "bf707ebc",
   "metadata": {},
   "outputs": [
    {
     "data": {
      "text/plain": [
       "int"
      ]
     },
     "execution_count": 36,
     "metadata": {},
     "output_type": "execute_result"
    }
   ],
   "source": [
    "type(without_bot.load.sum().item())"
   ]
  },
  {
   "cell_type": "code",
   "execution_count": 28,
   "id": "a047b6a8",
   "metadata": {},
   "outputs": [
    {
     "data": {
      "text/plain": [
       "int"
      ]
     },
     "execution_count": 28,
     "metadata": {},
     "output_type": "execute_result"
    }
   ],
   "source": [
    "type(countries[0][\"load\"])"
   ]
  },
  {
   "cell_type": "code",
   "execution_count": 57,
   "id": "e30ef32f",
   "metadata": {},
   "outputs": [],
   "source": [
    "shit = {\"cunt\":1,\"fuck\":2,\"wtf\":3}"
   ]
  },
  {
   "cell_type": "code",
   "execution_count": 58,
   "id": "38853cd9",
   "metadata": {},
   "outputs": [],
   "source": [
    "new_d = {k: shit[k] for k in set(list(shit.keys())) - set([\"fuck\"])}"
   ]
  },
  {
   "cell_type": "code",
   "execution_count": 59,
   "id": "b666f9e4",
   "metadata": {},
   "outputs": [
    {
     "data": {
      "text/plain": [
       "{'cunt': 1, 'wtf': 3}"
      ]
     },
     "execution_count": 59,
     "metadata": {},
     "output_type": "execute_result"
    }
   ],
   "source": [
    "new_d"
   ]
  },
  {
   "cell_type": "code",
   "execution_count": null,
   "id": "47fc0414",
   "metadata": {},
   "outputs": [],
   "source": []
  }
 ],
 "metadata": {
  "kernelspec": {
   "display_name": "Python 3 (ipykernel)",
   "language": "python",
   "name": "python3"
  },
  "language_info": {
   "codemirror_mode": {
    "name": "ipython",
    "version": 3
   },
   "file_extension": ".py",
   "mimetype": "text/x-python",
   "name": "python",
   "nbconvert_exporter": "python",
   "pygments_lexer": "ipython3",
   "version": "3.8.10"
  }
 },
 "nbformat": 4,
 "nbformat_minor": 5
}

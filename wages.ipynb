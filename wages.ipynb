{
 "cells": [
  {
   "cell_type": "code",
   "execution_count": 3,
   "id": "b984c4bb",
   "metadata": {
    "ExecuteTime": {
     "end_time": "2023-11-12T11:46:36.007222Z",
     "start_time": "2023-11-12T11:46:35.990039Z"
    }
   },
   "outputs": [],
   "source": [
    "import sys\n",
    "import timeit\n",
    "import cProfile\n",
    "import calendar\n",
    "import pandas as pd\n",
    "import numpy as np\n",
    "import datetime as dt\n",
    "from pandas.tseries.offsets import DateOffset\n",
    "from dateutil.relativedelta import relativedelta"
   ]
  },
  {
   "cell_type": "code",
   "execution_count": 126,
   "id": "a94ca7cd",
   "metadata": {
    "ExecuteTime": {
     "end_time": "2023-11-12T11:33:03.301542Z",
     "start_time": "2023-11-12T11:33:03.293961Z"
    }
   },
   "outputs": [
    {
     "name": "stdout",
     "output_type": "stream",
     "text": [
      "30\n"
     ]
    }
   ],
   "source": [
    "next_month = start.month + 1 \n",
    "next_date = dt.date(start.year,next_month,1)\n",
    "days_in_month = (s2 - dt.timedelta(days=1)).day\n",
    "print(days_in_month)\n",
    "#s = somethign + relativedelta(day=-4)\n",
    "#print(s)"
   ]
  },
  {
   "cell_type": "code",
   "execution_count": 4,
   "id": "6b91eca1",
   "metadata": {
    "ExecuteTime": {
     "end_time": "2023-11-12T11:46:38.441592Z",
     "start_time": "2023-11-12T11:46:38.434745Z"
    }
   },
   "outputs": [],
   "source": [
    "code_to_test = \"\"\"\n",
    "def testing(start):\n",
    "    next_month = start.month + 1 \n",
    "    next_date = dt.date(start.year,next_month,1)\n",
    "    days_in_month = (s2 - dt.timedelta(days=1)).day\n",
    "    return days_in_month\n",
    "\"\"\"\n",
    "\n",
    "code_to_test2 = \"\"\"\n",
    "def testing(start):\n",
    "    days = pd.to_datetime(start).days_in_month\n",
    "    return days\n",
    "\"\"\"\n",
    "\n",
    "code_to_test3 = \"\"\"\n",
    "def testing(start):\n",
    "    days = calendar.monthrange(start.year, start.month)[1]\n",
    "    return days\n",
    "\"\"\""
   ]
  },
  {
   "cell_type": "code",
   "execution_count": 5,
   "id": "afe518fd",
   "metadata": {
    "ExecuteTime": {
     "end_time": "2023-11-12T11:46:38.851884Z",
     "start_time": "2023-11-12T11:46:38.845855Z"
    }
   },
   "outputs": [],
   "source": [
    "start = dt.date.fromisoformat(\"2023-11-05\")"
   ]
  },
  {
   "cell_type": "code",
   "execution_count": 6,
   "id": "ea08f12f",
   "metadata": {
    "ExecuteTime": {
     "end_time": "2023-11-12T11:46:39.946063Z",
     "start_time": "2023-11-12T11:46:39.938216Z"
    }
   },
   "outputs": [
    {
     "name": "stdout",
     "output_type": "stream",
     "text": [
      "0.0007106560001375328\n"
     ]
    }
   ],
   "source": [
    "print(timeit.timeit(code_to_test,number=10000))"
   ]
  },
  {
   "cell_type": "code",
   "execution_count": 7,
   "id": "927ff870",
   "metadata": {
    "ExecuteTime": {
     "end_time": "2023-11-12T11:46:40.398566Z",
     "start_time": "2023-11-12T11:46:40.390868Z"
    }
   },
   "outputs": [
    {
     "name": "stdout",
     "output_type": "stream",
     "text": [
      "0.0009646250000514556\n"
     ]
    }
   ],
   "source": [
    "print(timeit.timeit(code_to_test2,number=10000))"
   ]
  },
  {
   "cell_type": "code",
   "execution_count": 8,
   "id": "eb75d6c3",
   "metadata": {
    "ExecuteTime": {
     "end_time": "2023-11-12T11:46:40.749860Z",
     "start_time": "2023-11-12T11:46:40.737470Z"
    }
   },
   "outputs": [
    {
     "name": "stdout",
     "output_type": "stream",
     "text": [
      "0.00088572300001033\n"
     ]
    }
   ],
   "source": [
    "print(timeit.timeit(code_to_test3,number=10000))"
   ]
  },
  {
   "cell_type": "code",
   "execution_count": 2,
   "id": "bd03c45c",
   "metadata": {
    "ExecuteTime": {
     "end_time": "2023-11-12T11:13:34.688774Z",
     "start_time": "2023-11-12T11:13:34.680041Z"
    }
   },
   "outputs": [
    {
     "data": {
      "text/plain": [
       "'3.10.10 (main, Feb  8 2023, 14:50:01) [GCC 9.4.0]'"
      ]
     },
     "execution_count": 2,
     "metadata": {},
     "output_type": "execute_result"
    }
   ],
   "source": [
    "sys.version"
   ]
  },
  {
   "cell_type": "code",
   "execution_count": 40,
   "id": "32023b07",
   "metadata": {
    "ExecuteTime": {
     "end_time": "2023-11-12T11:57:12.909387Z",
     "start_time": "2023-11-12T11:57:12.896216Z"
    }
   },
   "outputs": [
    {
     "name": "stdout",
     "output_type": "stream",
     "text": [
      "CPU times: user 15 µs, sys: 3 µs, total: 18 µs\n",
      "Wall time: 27.2 µs\n"
     ]
    }
   ],
   "source": [
    "%%time\n",
    "def normalize_date(date,middle,when):\n",
    "    days, months = None, 0\n",
    "    match when:\n",
    "            case \"begin\":\n",
    "                days, months = 1, 1\n",
    "                is_over = date > middle\n",
    "            case \"end\":\n",
    "                #next_month = (middle.month + 1) % 12\n",
    "                #next_month = 1 if next_month == 0 else next_month\n",
    "                #next_date = dt.date(middle.year,next_month,1)\n",
    "                #days = (next_date - dt.timedelta(days=1)).day\n",
    "                days = pd.to_datetime(middle).days_in_month\n",
    "                is_over = date >= middle\n",
    "    normalized = dt.date(date.year,date.month,days)+relativedelta(months=months) if is_over else date \n",
    "    return normalized"
   ]
  },
  {
   "cell_type": "code",
   "execution_count": 31,
   "id": "69cb97b7",
   "metadata": {
    "ExecuteTime": {
     "end_time": "2023-11-12T11:56:50.483203Z",
     "start_time": "2023-11-12T11:56:50.467480Z"
    }
   },
   "outputs": [
    {
     "name": "stdout",
     "output_type": "stream",
     "text": [
      "CPU times: user 13 µs, sys: 0 ns, total: 13 µs\n",
      "Wall time: 20.3 µs\n"
     ]
    }
   ],
   "source": [
    "%%time\n",
    "def get_projection(thing, start, end, savings):\n",
    "    projection = None\n",
    "    match thing[\"frequency\"]:\n",
    "        case \"weekly\":\n",
    "            projection = pd.date_range(start ,end ,freq=weekday_dicts[thing[\"when\"]])\n",
    "        case \"daily\":\n",
    "            projection = pd.date_range(start ,end ,freq=\"d\")\n",
    "        case \"monthly\":\n",
    "            middle =  end + relativedelta(day=thing[\"when\"])\n",
    "            real_end = normalize_date(end,middle,\"end\")\n",
    "            middle_b = start + relativedelta(day=thing[\"when\"])  \n",
    "            real_start = normalize_date(start,middle_b,\"begin\")\n",
    "            projection = [month + pd.DateOffset(day=thing[\"when\"]) for month in pd.date_range(real_start,real_end,freq=\"M\")]\n",
    "    table = pd.DataFrame(index=projection)\n",
    "    table[thing[\"name\"]] = -thing[\"amount\"] if thing[\"type\"] == \"expense\" else thing[\"amount\"]\n",
    "    return table\n",
    "    "
   ]
  },
  {
   "cell_type": "code",
   "execution_count": 32,
   "id": "e8bf543a",
   "metadata": {
    "ExecuteTime": {
     "end_time": "2023-11-12T11:56:50.722325Z",
     "start_time": "2023-11-12T11:56:50.708166Z"
    }
   },
   "outputs": [
    {
     "name": "stdout",
     "output_type": "stream",
     "text": [
      "CPU times: user 6 µs, sys: 1 µs, total: 7 µs\n",
      "Wall time: 13.1 µs\n"
     ]
    }
   ],
   "source": [
    "%%time\n",
    "def get_expense_table(tables, savings):\n",
    "    expense_table = pd.concat(tables, axis=1).fillna(0)\n",
    "    columns = expense_table.columns.tolist()\n",
    "    columns.insert(0, \"savings\")\n",
    "    expense_table[\"savings\"] =  expense_table.sum(axis=1).cumsum() + savings\n",
    "    expense_table = expense_table.reindex(columns=columns)\n",
    "    return expense_table"
   ]
  },
  {
   "cell_type": "code",
   "execution_count": 45,
   "id": "d5724594",
   "metadata": {
    "ExecuteTime": {
     "end_time": "2023-11-12T11:57:21.458822Z",
     "start_time": "2023-11-12T11:57:21.444820Z"
    }
   },
   "outputs": [],
   "source": [
    "#valid frequencies: yearly, monthly, weekly, daily\n",
    "things = [\n",
    "  { \"name\": \"groceries\", \"amount\": 10, \"frequency\": \"daily\", \"when\": np.nan,\"type\":\"expense\" },\n",
    "  { \"name\": \"cigarettes\", \"amount\": 8.8, \"frequency\": \"weekly\", \"when\": \"wednesday\",\"type\":\"expense\" },\n",
    "  { \"name\": \"salary\", \"amount\": 2000, \"frequency\": \"monthly\", \"when\": 1,\"type\":\"deposit\" }\n",
    "]\n",
    "savings = 10000\n",
    "\n",
    "weekday_dicts = {\"monday\":\"w-mon\",\"tuesday\":\"w-tue\",\"wednesday\":\"w-wed\",\"thursday\":\"w-thu\",\n",
    "                \"friday\":\"w-fri\",\"saturday\":\"w-sat\"}\n",
    "\n",
    "start, end = dt.date.fromisoformat(\"2023-11-05\"), dt.date.fromisoformat(\"2023-12-02\")"
   ]
  },
  {
   "cell_type": "code",
   "execution_count": 46,
   "id": "f484ec20",
   "metadata": {
    "ExecuteTime": {
     "end_time": "2023-11-12T11:57:21.656173Z",
     "start_time": "2023-11-12T11:57:21.644447Z"
    }
   },
   "outputs": [],
   "source": [
    "tables = [get_projection(thing, start, end, savings) for thing in things]"
   ]
  },
  {
   "cell_type": "code",
   "execution_count": 77,
   "id": "7300cdd6",
   "metadata": {},
   "outputs": [],
   "source": [
    "expense_tables = get_expense_table(tables,savings)"
   ]
  },
  {
   "cell_type": "code",
   "execution_count": 78,
   "id": "24d55536",
   "metadata": {},
   "outputs": [
    {
     "data": {
      "text/plain": [
       "<Axes: >"
      ]
     },
     "execution_count": 78,
     "metadata": {},
     "output_type": "execute_result"
    },
    {
     "data": {
      "image/png": "[encoded data removed]",
      "text/plain": [
       "<Figure size 640x480 with 1 Axes>"
      ]
     },
     "metadata": {},
     "output_type": "display_data"
    }
   ],
   "source": [
    "expense_tables.savings.plot()"
   ]
  },
  {
   "cell_type": "code",
   "execution_count": null,
   "id": "75721590",
   "metadata": {},
   "outputs": [],
   "source": []
  }
 ],
 "metadata": {
  "kernelspec": {
   "display_name": "projectname",
   "language": "python",
   "name": "projectname"
  },
  "language_info": {
   "codemirror_mode": {
    "name": "ipython",
    "version": 3
   },
   "file_extension": ".py",
   "mimetype": "text/x-python",
   "name": "python",
   "nbconvert_exporter": "python",
   "pygments_lexer": "ipython3",
   "version": "3.10.10"
  }
 },
 "nbformat": 4,
 "nbformat_minor": 5
}

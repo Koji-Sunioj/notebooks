{
 "cells": [
  {
   "cell_type": "code",
   "execution_count": 198,
   "id": "3567445c",
   "metadata": {},
   "outputs": [],
   "source": [
    "import pandas as pd\n",
    "import matplotlib as plt\n",
    "import datetime\n",
    "import numpy as np\n",
    "import os\n",
    "\n",
    "pd.options.display.max_rows = 200\n",
    "filename = 'KÄYTTÖTILI - 2023-10-27 14.09.21.csv'\n",
    "sep = \";\""
   ]
  },
  {
   "cell_type": "code",
   "execution_count": 199,
   "id": "11843a77",
   "metadata": {},
   "outputs": [],
   "source": [
    "def get_raw_data(seperator,filename):\n",
    "    raw_data = pd.read_csv(filename,sep=seperator)\n",
    "    raw_renamed = raw_data.rename(columns={\"Kirjauspäivä\": \"date\", \"Määrä\": \"amount\",\"Otsikko\":\"subject\"})\n",
    "    raw_renamed['amount'] = [np.float64(n.replace(\",\",\".\")) for n in raw_renamed['amount']]\n",
    "    raw_renamed.loc[raw_renamed[\"date\"] == \"Varaus\",\"date\"] = datetime.datetime.now().date().strftime(\"%Y/%m/%d\")\n",
    "    raw_renamed.date = pd.to_datetime(raw_renamed.date)\n",
    "    date_fixed = raw_renamed[[\"date\",\"amount\",\"subject\"]].set_index(\"date\").copy()\n",
    "    date_fixed = date_fixed.loc[date_fixed[\"amount\"] < 0,:]\n",
    "    date_fixed['amount'] = date_fixed['amount'].abs()\n",
    "    return date_fixed"
   ]
  },
  {
   "cell_type": "code",
   "execution_count": 200,
   "id": "ac370ac4",
   "metadata": {},
   "outputs": [],
   "source": [
    "data = get_raw_data(sep,filename)"
   ]
  },
  {
   "cell_type": "code",
   "execution_count": 201,
   "id": "3415f66d",
   "metadata": {},
   "outputs": [],
   "source": [
    "def filter_values(df):\n",
    "    df[\"category\"] = None\n",
    "    df.loc[(df[\"amount\"] == 8.80 )| (df[\"subject\"].str.contains(\"VAPE\")),\"category\"]= \"vape liquid\"\n",
    "    df.loc[df[\"subject\"].str.contains(\"VR\"),\"category\"] = \"train\"\n",
    "    df.loc[df[\"subject\"].str.contains(\"HSL|Nysse|TAMPEREEN KAUPUNK\", regex=True),\"category\"] = \"public transport\" \n",
    "    df.loc[(df[\"subject\"].str.contains(\"KAMMONEN\"))|(df[\"amount\"] == 631.0 ),\"category\"] = \"rent\"\n",
    "    df.loc[(df[\"subject\"].str.\n",
    "      contains(\"Netflix.com|STEEL LS OY|a.NordVPNnl|STEELFEST|Varusteleka|AUSSIE BAR|TAMPEREEN MUSII|AWS EMEA|Spotify\")),\"category\"] = \"non-essential\"\n",
    "    df = df.loc[~(df[\"subject\"].str.contains(\"SUNDAY\"))]\n",
    "    df.loc[df[\"category\"].isnull(),\"category\"] = \"living expense\"\n",
    "    return df"
   ]
  },
  {
   "cell_type": "code",
   "execution_count": 202,
   "id": "14d3fa13",
   "metadata": {},
   "outputs": [],
   "source": [
    "filtered = filter_values(data)"
   ]
  },
  {
   "cell_type": "code",
   "execution_count": 195,
   "id": "04986284",
   "metadata": {},
   "outputs": [
    {
     "data": {
      "text/html": [
       "<div>\n",
       "<style scoped>\n",
       "    .dataframe tbody tr th:only-of-type {\n",
       "        vertical-align: middle;\n",
       "    }\n",
       "\n",
       "    .dataframe tbody tr th {\n",
       "        vertical-align: top;\n",
       "    }\n",
       "\n",
       "    .dataframe thead th {\n",
       "        text-align: right;\n",
       "    }\n",
       "</style>\n",
       "<table border=\"1\" class=\"dataframe\">\n",
       "  <thead>\n",
       "    <tr style=\"text-align: right;\">\n",
       "      <th></th>\n",
       "      <th>amount</th>\n",
       "    </tr>\n",
       "    <tr>\n",
       "      <th>category</th>\n",
       "      <th></th>\n",
       "    </tr>\n",
       "  </thead>\n",
       "  <tbody>\n",
       "    <tr>\n",
       "      <th>living expense</th>\n",
       "      <td>539.69</td>\n",
       "    </tr>\n",
       "    <tr>\n",
       "      <th>non-essential</th>\n",
       "      <td>489.17</td>\n",
       "    </tr>\n",
       "    <tr>\n",
       "      <th>public transport</th>\n",
       "      <td>210.10</td>\n",
       "    </tr>\n",
       "    <tr>\n",
       "      <th>rent</th>\n",
       "      <td>871.00</td>\n",
       "    </tr>\n",
       "    <tr>\n",
       "      <th>train</th>\n",
       "      <td>108.70</td>\n",
       "    </tr>\n",
       "    <tr>\n",
       "      <th>vape liquid</th>\n",
       "      <td>76.39</td>\n",
       "    </tr>\n",
       "  </tbody>\n",
       "</table>\n",
       "</div>"
      ],
      "text/plain": [
       "                  amount\n",
       "category                \n",
       "living expense    539.69\n",
       "non-essential     489.17\n",
       "public transport  210.10\n",
       "rent              871.00\n",
       "train             108.70\n",
       "vape liquid        76.39"
      ]
     },
     "execution_count": 195,
     "metadata": {},
     "output_type": "execute_result"
    }
   ],
   "source": [
    "filtered.groupby(\"category\").aggregate({\"amount\":\"sum\"})"
   ]
  },
  {
   "cell_type": "code",
   "execution_count": 197,
   "id": "3a4b057d",
   "metadata": {},
   "outputs": [
    {
     "data": {
      "text/html": [
       "<div>\n",
       "<style scoped>\n",
       "    .dataframe tbody tr th:only-of-type {\n",
       "        vertical-align: middle;\n",
       "    }\n",
       "\n",
       "    .dataframe tbody tr th {\n",
       "        vertical-align: top;\n",
       "    }\n",
       "\n",
       "    .dataframe thead th {\n",
       "        text-align: right;\n",
       "    }\n",
       "</style>\n",
       "<table border=\"1\" class=\"dataframe\">\n",
       "  <thead>\n",
       "    <tr style=\"text-align: right;\">\n",
       "      <th></th>\n",
       "      <th>amount</th>\n",
       "    </tr>\n",
       "    <tr>\n",
       "      <th>week</th>\n",
       "      <th></th>\n",
       "    </tr>\n",
       "  </thead>\n",
       "  <tbody>\n",
       "    <tr>\n",
       "      <th>40</th>\n",
       "      <td>1102.69</td>\n",
       "    </tr>\n",
       "    <tr>\n",
       "      <th>41</th>\n",
       "      <td>366.34</td>\n",
       "    </tr>\n",
       "    <tr>\n",
       "      <th>42</th>\n",
       "      <td>345.69</td>\n",
       "    </tr>\n",
       "    <tr>\n",
       "      <th>43</th>\n",
       "      <td>480.33</td>\n",
       "    </tr>\n",
       "  </tbody>\n",
       "</table>\n",
       "</div>"
      ],
      "text/plain": [
       "       amount\n",
       "week         \n",
       "40    1102.69\n",
       "41     366.34\n",
       "42     345.69\n",
       "43     480.33"
      ]
     },
     "execution_count": 197,
     "metadata": {},
     "output_type": "execute_result"
    }
   ],
   "source": [
    "filtered.groupby(filtered.index.isocalendar().week).aggregate({\"amount\":\"sum\"})"
   ]
  }
 ],
 "metadata": {
  "kernelspec": {
   "display_name": "Python 3 (ipykernel)",
   "language": "python",
   "name": "python3"
  },
  "language_info": {
   "codemirror_mode": {
    "name": "ipython",
    "version": 3
   },
   "file_extension": ".py",
   "mimetype": "text/x-python",
   "name": "python",
   "nbconvert_exporter": "python",
   "pygments_lexer": "ipython3",
   "version": "3.8.10"
  }
 },
 "nbformat": 4,
 "nbformat_minor": 5
}

{
 "cells": [
  {
   "cell_type": "code",
   "execution_count": 29,
   "id": "27c44afd",
   "metadata": {
    "ExecuteTime": {
     "end_time": "2024-01-08T18:38:13.589754Z",
     "start_time": "2024-01-08T18:38:13.561647Z"
    }
   },
   "outputs": [],
   "source": [
    "import pandas as pd\n",
    "import psycopg2\n",
    "import psycopg2.extras\n",
    "import numpy as np\n",
    "import re\n",
    "import os \n",
    "conn=psycopg2.connect(database=\"blackmetal\",\n",
    "                        host=\"localhost\",\n",
    "                        user=\"bm_admin\",\n",
    "                        password=\"18cba9cd-0776-4f09-9c0e-41d2937fab2b\",\n",
    "                        port=5432) \n"
   ]
  },
  {
   "cell_type": "code",
   "execution_count": 30,
   "id": "a41fbcb3",
   "metadata": {
    "ExecuteTime": {
     "end_time": "2024-01-08T18:38:13.760487Z",
     "start_time": "2024-01-08T18:38:13.754188Z"
    }
   },
   "outputs": [],
   "source": [
    "def get_artists():\n",
    "    cursor = conn.cursor(cursor_factory=psycopg2.extras.RealDictCursor)\n",
    "    command = \"select * from artists;\"\n",
    "    cursor.execute(command)\n",
    "    data = cursor.fetchall()\n",
    "    return data\n"
   ]
  },
  {
   "cell_type": "code",
   "execution_count": 31,
   "id": "7fe7e2ab",
   "metadata": {
    "ExecuteTime": {
     "end_time": "2024-01-08T18:38:13.965628Z",
     "start_time": "2024-01-08T18:38:13.961321Z"
    }
   },
   "outputs": [],
   "source": [
    "data = get_artists()"
   ]
  },
  {
   "cell_type": "code",
   "execution_count": 35,
   "id": "b58b9834",
   "metadata": {
    "ExecuteTime": {
     "end_time": "2024-01-08T18:40:42.813332Z",
     "start_time": "2024-01-08T18:40:42.803021Z"
    }
   },
   "outputs": [],
   "source": [
    "pd.DataFrame(data).to_csv(\"artists.csv\",index=False)"
   ]
  },
  {
   "cell_type": "code",
   "execution_count": 36,
   "id": "48c11dee",
   "metadata": {
    "ExecuteTime": {
     "end_time": "2024-01-08T19:08:44.795361Z",
     "start_time": "2024-01-08T19:08:44.776631Z"
    }
   },
   "outputs": [],
   "source": [
    "artists = pd.read_csv(\"artists.csv\")"
   ]
  },
  {
   "cell_type": "code",
   "execution_count": 38,
   "id": "b34edd28",
   "metadata": {
    "ExecuteTime": {
     "end_time": "2024-01-08T19:08:53.380452Z",
     "start_time": "2024-01-08T19:08:53.343589Z"
    }
   },
   "outputs": [
    {
     "data": {
      "text/html": [
       "<div>\n",
       "<style scoped>\n",
       "    .dataframe tbody tr th:only-of-type {\n",
       "        vertical-align: middle;\n",
       "    }\n",
       "\n",
       "    .dataframe tbody tr th {\n",
       "        vertical-align: top;\n",
       "    }\n",
       "\n",
       "    .dataframe thead th {\n",
       "        text-align: right;\n",
       "    }\n",
       "</style>\n",
       "<table border=\"1\" class=\"dataframe\">\n",
       "  <thead>\n",
       "    <tr style=\"text-align: right;\">\n",
       "      <th></th>\n",
       "      <th>artist_id</th>\n",
       "      <th>name</th>\n",
       "      <th>bio</th>\n",
       "    </tr>\n",
       "  </thead>\n",
       "  <tbody>\n",
       "    <tr>\n",
       "      <th>0</th>\n",
       "      <td>100</td>\n",
       "      <td>Ascension</td>\n",
       "      <td>Black metal band from Tornau vor der Heide, Sa...</td>\n",
       "    </tr>\n",
       "    <tr>\n",
       "      <th>1</th>\n",
       "      <td>101</td>\n",
       "      <td>The Black</td>\n",
       "      <td>Black metal band from Sweden.\\n\\nThe band was ...</td>\n",
       "    </tr>\n",
       "    <tr>\n",
       "      <th>2</th>\n",
       "      <td>102</td>\n",
       "      <td>Corpus Christii</td>\n",
       "      <td>Nocturnus Horrendus is the owner of Nightmare ...</td>\n",
       "    </tr>\n",
       "    <tr>\n",
       "      <th>3</th>\n",
       "      <td>103</td>\n",
       "      <td>Imperium Dekadenz</td>\n",
       "      <td>Imperium Dekadenz was founded during late summ...</td>\n",
       "    </tr>\n",
       "    <tr>\n",
       "      <th>4</th>\n",
       "      <td>104</td>\n",
       "      <td>Kataxu</td>\n",
       "      <td>Symphonic Black Metal band from Poland, formed...</td>\n",
       "    </tr>\n",
       "    <tr>\n",
       "      <th>5</th>\n",
       "      <td>105</td>\n",
       "      <td>Krohm</td>\n",
       "      <td>\\t\\nBlack Metal solo project formed in 1995 in...</td>\n",
       "    </tr>\n",
       "    <tr>\n",
       "      <th>6</th>\n",
       "      <td>106</td>\n",
       "      <td>Warmoon Lord</td>\n",
       "      <td>The band's name is taken from the song Warmoon...</td>\n",
       "    </tr>\n",
       "    <tr>\n",
       "      <th>7</th>\n",
       "      <td>107</td>\n",
       "      <td>Azarath</td>\n",
       "      <td>Inferno is the only remaining founding member....</td>\n",
       "    </tr>\n",
       "    <tr>\n",
       "      <th>8</th>\n",
       "      <td>108</td>\n",
       "      <td>Deströyer 666</td>\n",
       "      <td>Started out in May 1994 as a solo-project of K...</td>\n",
       "    </tr>\n",
       "    <tr>\n",
       "      <th>9</th>\n",
       "      <td>109</td>\n",
       "      <td>Mayhem</td>\n",
       "      <td>The band was billed as Wolf's Lair Abyss for a...</td>\n",
       "    </tr>\n",
       "    <tr>\n",
       "      <th>10</th>\n",
       "      <td>110</td>\n",
       "      <td>Deus Mortem</td>\n",
       "      <td>Deus Mortem - a Polish black metal band. It wa...</td>\n",
       "    </tr>\n",
       "    <tr>\n",
       "      <th>11</th>\n",
       "      <td>111</td>\n",
       "      <td>Walknut</td>\n",
       "      <td>Walknut is a Russian Atmospheric black metal b...</td>\n",
       "    </tr>\n",
       "    <tr>\n",
       "      <th>12</th>\n",
       "      <td>112</td>\n",
       "      <td>Sielunvihollinen</td>\n",
       "      <td>The band's name literally translates to \"the e...</td>\n",
       "    </tr>\n",
       "    <tr>\n",
       "      <th>13</th>\n",
       "      <td>113</td>\n",
       "      <td>Abigor</td>\n",
       "      <td>Abigor is an Austrian black metal band formed ...</td>\n",
       "    </tr>\n",
       "    <tr>\n",
       "      <th>14</th>\n",
       "      <td>114</td>\n",
       "      <td>Dissection</td>\n",
       "      <td>The band's first song ever written was \"Inhuma...</td>\n",
       "    </tr>\n",
       "    <tr>\n",
       "      <th>15</th>\n",
       "      <td>115</td>\n",
       "      <td>Nokturnal Mortum</td>\n",
       "      <td>\"Nocturnal\" was changed to \"Nokturnal\" to avoi...</td>\n",
       "    </tr>\n",
       "    <tr>\n",
       "      <th>16</th>\n",
       "      <td>116</td>\n",
       "      <td>Necrophobic</td>\n",
       "      <td>Formed in 1989 by Blackmoon and Joakim Sterner...</td>\n",
       "    </tr>\n",
       "  </tbody>\n",
       "</table>\n",
       "</div>"
      ],
      "text/plain": [
       "    artist_id               name  \\\n",
       "0         100          Ascension   \n",
       "1         101          The Black   \n",
       "2         102    Corpus Christii   \n",
       "3         103  Imperium Dekadenz   \n",
       "4         104             Kataxu   \n",
       "5         105              Krohm   \n",
       "6         106       Warmoon Lord   \n",
       "7         107            Azarath   \n",
       "8         108      Deströyer 666   \n",
       "9         109             Mayhem   \n",
       "10        110        Deus Mortem   \n",
       "11        111            Walknut   \n",
       "12        112   Sielunvihollinen   \n",
       "13        113             Abigor   \n",
       "14        114         Dissection   \n",
       "15        115   Nokturnal Mortum   \n",
       "16        116        Necrophobic   \n",
       "\n",
       "                                                  bio  \n",
       "0   Black metal band from Tornau vor der Heide, Sa...  \n",
       "1   Black metal band from Sweden.\\n\\nThe band was ...  \n",
       "2   Nocturnus Horrendus is the owner of Nightmare ...  \n",
       "3   Imperium Dekadenz was founded during late summ...  \n",
       "4   Symphonic Black Metal band from Poland, formed...  \n",
       "5   \\t\\nBlack Metal solo project formed in 1995 in...  \n",
       "6   The band's name is taken from the song Warmoon...  \n",
       "7   Inferno is the only remaining founding member....  \n",
       "8   Started out in May 1994 as a solo-project of K...  \n",
       "9   The band was billed as Wolf's Lair Abyss for a...  \n",
       "10  Deus Mortem - a Polish black metal band. It wa...  \n",
       "11  Walknut is a Russian Atmospheric black metal b...  \n",
       "12  The band's name literally translates to \"the e...  \n",
       "13  Abigor is an Austrian black metal band formed ...  \n",
       "14  The band's first song ever written was \"Inhuma...  \n",
       "15  \"Nocturnal\" was changed to \"Nokturnal\" to avoi...  \n",
       "16  Formed in 1989 by Blackmoon and Joakim Sterner...  "
      ]
     },
     "execution_count": 38,
     "metadata": {},
     "output_type": "execute_result"
    }
   ],
   "source": [
    "artists"
   ]
  },
  {
   "cell_type": "code",
   "execution_count": 94,
   "id": "f9a5fef2",
   "metadata": {
    "ExecuteTime": {
     "end_time": "2024-01-08T19:45:08.478575Z",
     "start_time": "2024-01-08T19:45:08.465987Z"
    }
   },
   "outputs": [],
   "source": [
    "def get_albums():\n",
    "    cursor = conn.cursor(cursor_factory=psycopg2.extras.RealDictCursor)\n",
    "    command = \"select * from albums;\"\n",
    "    cursor.execute(command)\n",
    "    data = cursor.fetchall()\n",
    "    return pd.DataFrame(data)"
   ]
  },
  {
   "cell_type": "code",
   "execution_count": 204,
   "id": "83058805",
   "metadata": {
    "ExecuteTime": {
     "end_time": "2024-01-08T21:00:04.718733Z",
     "start_time": "2024-01-08T21:00:04.703620Z"
    }
   },
   "outputs": [],
   "source": [
    "albums = get_albums()"
   ]
  },
  {
   "cell_type": "code",
   "execution_count": 208,
   "id": "77aa6913",
   "metadata": {
    "ExecuteTime": {
     "end_time": "2024-01-08T21:01:02.817145Z",
     "start_time": "2024-01-08T21:01:02.806144Z"
    }
   },
   "outputs": [],
   "source": [
    "reindex = albums[[\"artist_id\",\"album_id\"]].copy()"
   ]
  },
  {
   "cell_type": "code",
   "execution_count": 209,
   "id": "2cc348e4",
   "metadata": {
    "ExecuteTime": {
     "end_time": "2024-01-08T21:01:03.036763Z",
     "start_time": "2024-01-08T21:01:03.029481Z"
    }
   },
   "outputs": [],
   "source": [
    "reindex.loc[:,\"album_id_correct\"] = np.arange(0,len(reindex)-0) + 1000 "
   ]
  },
  {
   "cell_type": "code",
   "execution_count": 210,
   "id": "f06cecf2",
   "metadata": {
    "ExecuteTime": {
     "end_time": "2024-01-08T21:01:04.315299Z",
     "start_time": "2024-01-08T21:01:04.303207Z"
    }
   },
   "outputs": [
    {
     "data": {
      "text/html": [
       "<div>\n",
       "<style scoped>\n",
       "    .dataframe tbody tr th:only-of-type {\n",
       "        vertical-align: middle;\n",
       "    }\n",
       "\n",
       "    .dataframe tbody tr th {\n",
       "        vertical-align: top;\n",
       "    }\n",
       "\n",
       "    .dataframe thead th {\n",
       "        text-align: right;\n",
       "    }\n",
       "</style>\n",
       "<table border=\"1\" class=\"dataframe\">\n",
       "  <thead>\n",
       "    <tr style=\"text-align: right;\">\n",
       "      <th></th>\n",
       "      <th>artist_id</th>\n",
       "      <th>album_id</th>\n",
       "      <th>album_id_correct</th>\n",
       "    </tr>\n",
       "  </thead>\n",
       "  <tbody>\n",
       "    <tr>\n",
       "      <th>0</th>\n",
       "      <td>100</td>\n",
       "      <td>1022</td>\n",
       "      <td>1000</td>\n",
       "    </tr>\n",
       "    <tr>\n",
       "      <th>1</th>\n",
       "      <td>101</td>\n",
       "      <td>1023</td>\n",
       "      <td>1001</td>\n",
       "    </tr>\n",
       "    <tr>\n",
       "      <th>2</th>\n",
       "      <td>102</td>\n",
       "      <td>1024</td>\n",
       "      <td>1002</td>\n",
       "    </tr>\n",
       "    <tr>\n",
       "      <th>3</th>\n",
       "      <td>103</td>\n",
       "      <td>1025</td>\n",
       "      <td>1003</td>\n",
       "    </tr>\n",
       "    <tr>\n",
       "      <th>4</th>\n",
       "      <td>104</td>\n",
       "      <td>1026</td>\n",
       "      <td>1004</td>\n",
       "    </tr>\n",
       "    <tr>\n",
       "      <th>5</th>\n",
       "      <td>105</td>\n",
       "      <td>1027</td>\n",
       "      <td>1005</td>\n",
       "    </tr>\n",
       "    <tr>\n",
       "      <th>6</th>\n",
       "      <td>106</td>\n",
       "      <td>1028</td>\n",
       "      <td>1006</td>\n",
       "    </tr>\n",
       "    <tr>\n",
       "      <th>7</th>\n",
       "      <td>107</td>\n",
       "      <td>1029</td>\n",
       "      <td>1007</td>\n",
       "    </tr>\n",
       "    <tr>\n",
       "      <th>8</th>\n",
       "      <td>108</td>\n",
       "      <td>1030</td>\n",
       "      <td>1008</td>\n",
       "    </tr>\n",
       "    <tr>\n",
       "      <th>9</th>\n",
       "      <td>109</td>\n",
       "      <td>1031</td>\n",
       "      <td>1009</td>\n",
       "    </tr>\n",
       "    <tr>\n",
       "      <th>10</th>\n",
       "      <td>110</td>\n",
       "      <td>1032</td>\n",
       "      <td>1010</td>\n",
       "    </tr>\n",
       "    <tr>\n",
       "      <th>11</th>\n",
       "      <td>111</td>\n",
       "      <td>1033</td>\n",
       "      <td>1011</td>\n",
       "    </tr>\n",
       "    <tr>\n",
       "      <th>12</th>\n",
       "      <td>110</td>\n",
       "      <td>1034</td>\n",
       "      <td>1012</td>\n",
       "    </tr>\n",
       "    <tr>\n",
       "      <th>13</th>\n",
       "      <td>112</td>\n",
       "      <td>1035</td>\n",
       "      <td>1013</td>\n",
       "    </tr>\n",
       "    <tr>\n",
       "      <th>14</th>\n",
       "      <td>113</td>\n",
       "      <td>1036</td>\n",
       "      <td>1014</td>\n",
       "    </tr>\n",
       "    <tr>\n",
       "      <th>15</th>\n",
       "      <td>114</td>\n",
       "      <td>1037</td>\n",
       "      <td>1015</td>\n",
       "    </tr>\n",
       "    <tr>\n",
       "      <th>16</th>\n",
       "      <td>110</td>\n",
       "      <td>1038</td>\n",
       "      <td>1016</td>\n",
       "    </tr>\n",
       "    <tr>\n",
       "      <th>17</th>\n",
       "      <td>114</td>\n",
       "      <td>1039</td>\n",
       "      <td>1017</td>\n",
       "    </tr>\n",
       "    <tr>\n",
       "      <th>18</th>\n",
       "      <td>115</td>\n",
       "      <td>1040</td>\n",
       "      <td>1018</td>\n",
       "    </tr>\n",
       "    <tr>\n",
       "      <th>19</th>\n",
       "      <td>115</td>\n",
       "      <td>1041</td>\n",
       "      <td>1019</td>\n",
       "    </tr>\n",
       "    <tr>\n",
       "      <th>20</th>\n",
       "      <td>116</td>\n",
       "      <td>1042</td>\n",
       "      <td>1020</td>\n",
       "    </tr>\n",
       "    <tr>\n",
       "      <th>21</th>\n",
       "      <td>115</td>\n",
       "      <td>1043</td>\n",
       "      <td>1021</td>\n",
       "    </tr>\n",
       "  </tbody>\n",
       "</table>\n",
       "</div>"
      ],
      "text/plain": [
       "    artist_id  album_id  album_id_correct\n",
       "0         100      1022              1000\n",
       "1         101      1023              1001\n",
       "2         102      1024              1002\n",
       "3         103      1025              1003\n",
       "4         104      1026              1004\n",
       "5         105      1027              1005\n",
       "6         106      1028              1006\n",
       "7         107      1029              1007\n",
       "8         108      1030              1008\n",
       "9         109      1031              1009\n",
       "10        110      1032              1010\n",
       "11        111      1033              1011\n",
       "12        110      1034              1012\n",
       "13        112      1035              1013\n",
       "14        113      1036              1014\n",
       "15        114      1037              1015\n",
       "16        110      1038              1016\n",
       "17        114      1039              1017\n",
       "18        115      1040              1018\n",
       "19        115      1041              1019\n",
       "20        116      1042              1020\n",
       "21        115      1043              1021"
      ]
     },
     "execution_count": 210,
     "metadata": {},
     "output_type": "execute_result"
    }
   ],
   "source": [
    "reindex"
   ]
  },
  {
   "cell_type": "code",
   "execution_count": 233,
   "id": "698b7091",
   "metadata": {
    "ExecuteTime": {
     "end_time": "2024-01-08T21:06:38.887596Z",
     "start_time": "2024-01-08T21:06:38.873085Z"
    }
   },
   "outputs": [],
   "source": [
    "new_albums = albums.merge(reindex, left_on='album_id', right_on='album_id',how=\"inner\").drop(columns=[\"album_id\",\"artist_id_x\"])"
   ]
  },
  {
   "cell_type": "code",
   "execution_count": 238,
   "id": "3297dc27",
   "metadata": {
    "ExecuteTime": {
     "end_time": "2024-01-08T21:07:34.573916Z",
     "start_time": "2024-01-08T21:07:34.557811Z"
    }
   },
   "outputs": [],
   "source": [
    "new_albums = new_albums.rename({\"artist_id_y\":\"artist_id\",\"album_id_correct\":\"album_id\"},axis=1)"
   ]
  },
  {
   "cell_type": "code",
   "execution_count": 243,
   "id": "a67ec389",
   "metadata": {
    "ExecuteTime": {
     "end_time": "2024-01-08T21:09:04.285799Z",
     "start_time": "2024-01-08T21:09:04.272266Z"
    }
   },
   "outputs": [],
   "source": [
    "new_albums[['artist_id','album_id','title', 'release_year', 'stock', 'price','photo']].to_csv(\"albums.csv\",index=False)"
   ]
  },
  {
   "cell_type": "code",
   "execution_count": 244,
   "id": "d507e9dc",
   "metadata": {
    "ExecuteTime": {
     "end_time": "2024-01-08T21:09:30.347442Z",
     "start_time": "2024-01-08T21:09:30.340538Z"
    }
   },
   "outputs": [],
   "source": [
    "def get_songs():\n",
    "    cursor = conn.cursor(cursor_factory=psycopg2.extras.RealDictCursor)\n",
    "    command = \"select * from songs join albums on albums.album_id = songs.album_id;\"\n",
    "    cursor.execute(command)\n",
    "    return pd.DataFrame(cursor.fetchall())"
   ]
  },
  {
   "cell_type": "code",
   "execution_count": 245,
   "id": "64724fb4",
   "metadata": {
    "ExecuteTime": {
     "end_time": "2024-01-08T21:09:30.549512Z",
     "start_time": "2024-01-08T21:09:30.537453Z"
    }
   },
   "outputs": [],
   "source": [
    "songs = get_songs()\n"
   ]
  },
  {
   "cell_type": "code",
   "execution_count": 254,
   "id": "5bdb9cdb",
   "metadata": {
    "ExecuteTime": {
     "end_time": "2024-01-08T21:11:26.981347Z",
     "start_time": "2024-01-08T21:11:26.966564Z"
    }
   },
   "outputs": [
    {
     "data": {
      "text/html": [
       "<div>\n",
       "<style scoped>\n",
       "    .dataframe tbody tr th:only-of-type {\n",
       "        vertical-align: middle;\n",
       "    }\n",
       "\n",
       "    .dataframe tbody tr th {\n",
       "        vertical-align: top;\n",
       "    }\n",
       "\n",
       "    .dataframe thead th {\n",
       "        text-align: right;\n",
       "    }\n",
       "</style>\n",
       "<table border=\"1\" class=\"dataframe\">\n",
       "  <thead>\n",
       "    <tr style=\"text-align: right;\">\n",
       "      <th></th>\n",
       "      <th>track</th>\n",
       "      <th>album_id</th>\n",
       "      <th>artist_id</th>\n",
       "      <th>duration</th>\n",
       "      <th>song</th>\n",
       "    </tr>\n",
       "  </thead>\n",
       "  <tbody>\n",
       "    <tr>\n",
       "      <th>0</th>\n",
       "      <td>1</td>\n",
       "      <td>1022</td>\n",
       "      <td>100</td>\n",
       "      <td>NaN</td>\n",
       "      <td>The Silence of Abel</td>\n",
       "    </tr>\n",
       "  </tbody>\n",
       "</table>\n",
       "</div>"
      ],
      "text/plain": [
       "   track  album_id  artist_id  duration                 song\n",
       "0      1      1022        100       NaN  The Silence of Abel"
      ]
     },
     "execution_count": 254,
     "metadata": {},
     "output_type": "execute_result"
    }
   ],
   "source": [
    "new_songs.head(1)"
   ]
  },
  {
   "cell_type": "code",
   "execution_count": 255,
   "id": "2e6858f3",
   "metadata": {
    "ExecuteTime": {
     "end_time": "2024-01-08T21:11:35.141934Z",
     "start_time": "2024-01-08T21:11:35.130029Z"
    }
   },
   "outputs": [
    {
     "data": {
      "text/html": [
       "<div>\n",
       "<style scoped>\n",
       "    .dataframe tbody tr th:only-of-type {\n",
       "        vertical-align: middle;\n",
       "    }\n",
       "\n",
       "    .dataframe tbody tr th {\n",
       "        vertical-align: top;\n",
       "    }\n",
       "\n",
       "    .dataframe thead th {\n",
       "        text-align: right;\n",
       "    }\n",
       "</style>\n",
       "<table border=\"1\" class=\"dataframe\">\n",
       "  <thead>\n",
       "    <tr style=\"text-align: right;\">\n",
       "      <th></th>\n",
       "      <th>artist_id</th>\n",
       "      <th>album_id</th>\n",
       "      <th>album_id_correct</th>\n",
       "    </tr>\n",
       "  </thead>\n",
       "  <tbody>\n",
       "    <tr>\n",
       "      <th>0</th>\n",
       "      <td>100</td>\n",
       "      <td>1022</td>\n",
       "      <td>1000</td>\n",
       "    </tr>\n",
       "  </tbody>\n",
       "</table>\n",
       "</div>"
      ],
      "text/plain": [
       "   artist_id  album_id  album_id_correct\n",
       "0        100      1022              1000"
      ]
     },
     "execution_count": 255,
     "metadata": {},
     "output_type": "execute_result"
    }
   ],
   "source": [
    "reindex.head(1)"
   ]
  },
  {
   "cell_type": "code",
   "execution_count": 246,
   "id": "9ac12d05",
   "metadata": {
    "ExecuteTime": {
     "end_time": "2024-01-08T21:09:36.147975Z",
     "start_time": "2024-01-08T21:09:36.140372Z"
    }
   },
   "outputs": [],
   "source": [
    "new_songs = songs[[\"track\",\"album_id\",\"artist_id\",\"duration\",\"song\"]]"
   ]
  },
  {
   "cell_type": "code",
   "execution_count": 257,
   "id": "1c876c7b",
   "metadata": {
    "ExecuteTime": {
     "end_time": "2024-01-08T21:12:21.099139Z",
     "start_time": "2024-01-08T21:12:21.083780Z"
    }
   },
   "outputs": [],
   "source": [
    "joined = new_songs.merge(reindex, left_on='album_id', right_on='album_id',how=\"inner\")"
   ]
  },
  {
   "cell_type": "code",
   "execution_count": 264,
   "id": "e767d2b5",
   "metadata": {
    "ExecuteTime": {
     "end_time": "2024-01-08T21:14:29.909946Z",
     "start_time": "2024-01-08T21:14:29.890166Z"
    }
   },
   "outputs": [],
   "source": [
    "joined = joined.drop(columns=[\"album_id\",\"artist_id_x\"]).rename({\"artist_id_y\":\"artist_id\",\"album_id_correct\":\"album_id\"},axis=1)"
   ]
  },
  {
   "cell_type": "code",
   "execution_count": 270,
   "id": "1269e752",
   "metadata": {
    "ExecuteTime": {
     "end_time": "2024-01-08T21:16:02.480388Z",
     "start_time": "2024-01-08T21:16:02.469334Z"
    }
   },
   "outputs": [],
   "source": [
    "joined[['track','album_id', 'duration', 'song']].to_csv(\"songs1.csv\",index=False)"
   ]
  }
 ],
 "metadata": {
  "kernelspec": {
   "display_name": "Python 3 (ipykernel)",
   "language": "python",
   "name": "python3"
  },
  "language_info": {
   "codemirror_mode": {
    "name": "ipython",
    "version": 3
   },
   "file_extension": ".py",
   "mimetype": "text/x-python",
   "name": "python",
   "nbconvert_exporter": "python",
   "pygments_lexer": "ipython3",
   "version": "3.8.10"
  }
 },
 "nbformat": 4,
 "nbformat_minor": 5
}

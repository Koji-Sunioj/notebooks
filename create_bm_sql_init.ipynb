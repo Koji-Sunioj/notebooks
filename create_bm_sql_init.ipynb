{
 "cells": [
  {
   "cell_type": "code",
   "execution_count": 37,
   "id": "d4eea5e8",
   "metadata": {
    "ExecuteTime": {
     "end_time": "2024-01-10T17:17:59.529644Z",
     "start_time": "2024-01-10T17:17:59.506801Z"
    }
   },
   "outputs": [],
   "source": [
    "import pandas as pd\n",
    "import psycopg2\n",
    "import psycopg2.extras\n",
    "import numpy as np\n",
    "import re\n",
    "import math\n",
    "import os \n",
    "conn=psycopg2.connect(database=\"blackmetal\",\n",
    "                        host=\"localhost\",\n",
    "                        user=\"bm_admin\",\n",
    "                        password=\"18cba9cd-0776-4f09-9c0e-41d2937fab2b\",\n",
    "                        port=5432) \n"
   ]
  },
  {
   "cell_type": "code",
   "execution_count": 3,
   "id": "6832fcf8",
   "metadata": {
    "ExecuteTime": {
     "end_time": "2024-01-10T16:32:25.481459Z",
     "start_time": "2024-01-10T16:32:25.452217Z"
    }
   },
   "outputs": [
    {
     "data": {
      "text/plain": [
       "['songs1.csv',\n",
       " 'README.md',\n",
       " 'wages.ipynb',\n",
       " 'edge_analyze.ipynb',\n",
       " 'fix_iso.ipynb',\n",
       " 'analyze_tili.ipynb',\n",
       " 'Sunioj-music-export.csv',\n",
       " 'visit_v2.ipynb',\n",
       " 'load_bm_db.ipynb',\n",
       " '.ipynb_checkpoints',\n",
       " 'artists.csv',\n",
       " 'Untitled1.ipynb',\n",
       " 'Untitled.ipynb',\n",
       " '.git',\n",
       " 'songs.csv',\n",
       " 'albums.csv',\n",
       " 'front_end_load.ipynb']"
      ]
     },
     "execution_count": 3,
     "metadata": {},
     "output_type": "execute_result"
    }
   ],
   "source": [
    "os.listdir()"
   ]
  },
  {
   "cell_type": "code",
   "execution_count": 4,
   "id": "1288118e",
   "metadata": {
    "ExecuteTime": {
     "end_time": "2024-01-10T16:32:43.945638Z",
     "start_time": "2024-01-10T16:32:43.925725Z"
    }
   },
   "outputs": [],
   "source": [
    "artists = pd.read_csv(\"artists.csv\")"
   ]
  },
  {
   "cell_type": "code",
   "execution_count": 19,
   "id": "91ce648c",
   "metadata": {
    "ExecuteTime": {
     "end_time": "2024-01-10T16:51:47.600012Z",
     "start_time": "2024-01-10T16:51:47.591308Z"
    }
   },
   "outputs": [],
   "source": [
    "artists_cmd = \"insert into artists (artist_id, name, bio) values\\n\"\n",
    "\n",
    "for n,line in enumerate(artists.to_dict(orient=\"records\")):\n",
    "    delimiter = \";\" if len(artists) == n + 1 else  \",\\n\"\n",
    "    cmd_bio = line[\"bio\"].strip().replace(\"'\",\"''\")\n",
    "    cmd_line = \"(%s,'%s','%s')%s\" % (line[\"artist_id\"],line[\"name\"],cmd_bio.strip(),delimiter)\n",
    "    artists_cmd += cmd_line"
   ]
  },
  {
   "cell_type": "code",
   "execution_count": 20,
   "id": "11c0e801",
   "metadata": {
    "ExecuteTime": {
     "end_time": "2024-01-10T16:51:48.730926Z",
     "start_time": "2024-01-10T16:51:48.723002Z"
    }
   },
   "outputs": [
    {
     "data": {
      "text/plain": [
       "'insert into artists (artist_id, name, bio) values\\n(100,\\'Ascension\\',\\'Black metal band from Tornau vor der Heide, Saxony-Anhalt, Germany.\\'),\\n(101,\\'The Black\\',\\'Black metal band from Sweden.\\n\\nThe band was formed in 1991 as \"The Black Flame\", after recording the first demo tape they shortened their name to \"The Black\".\\'),\\n(102,\\'Corpus Christii\\',\\'Nocturnus Horrendus is the owner of Nightmare Productions.\\n\\nThe band\\'\\'s first demo had the band\\'\\'s name spelled Corpus Christi. All subsequent releases have spelled it Corpus Christii with a second \"i\".\\'),\\n(103,\\'Imperium Dekadenz\\',\\'Imperium Dekadenz was founded during late summer 2004 by Vespasian and Horaz.\\n\\nThe band was featured on the In Autumnal Fog 2009 sampler with the song \"An Autumn Serenade\", freely downloadable on the Autumnal Fog website.\\'),\\n(104,\\'Kataxu\\',\\'Symphonic Black Metal band from Poland, formed in 1994.\\'),\\n(105,\\'Krohm\\',\\'Black Metal solo project formed in 1995 in the United States.\\'),\\n(106,\\'Warmoon Lord\\',\\'The band\\'\\'s name is taken from the song Warmoon Lord by Vlad Tepes.\\'),\\n(107,\\'Azarath\\',\\'Inferno is the only remaining founding member.\\nThe name Azarath was taken from the title of Damnation song called \"Azarath (Watching in Darkness)\".\\'),\\n(108,\\'Deströyer 666\\',\\'Started out in May 1994 as a solo-project of K.K. Warslut. In 2001, the band relocated to the South Holland, Netherlands. In 2003, Simon Berserker decided to return to Australia and left the band, while Shrapnel\\'\\'s Dutch visa expired and he had to relocate again to London.\\'),\\n(109,\\'Mayhem\\',\\'The band was billed as Wolf\\'\\'s Lair Abyss for a few secret gigs during the Wolf\\'\\'s Lair Abyss tour.\\n\\nFounded by Jørn Stubberud (Necrobutcher), and Kjetil (Manheim) under the name Musta (Finnish for \"black\"), which they changed to Mayhem after Øystein Aarseth (Euronymous) joined in. The band name is taken from ...\\'),\\n(110,\\'Deus Mortem\\',\\'Deus Mortem - a Polish black metal band. It was established at the end of 2008 in Wrocław on the initiative of the guitarist and vocalist Marek \"Necrosodoma\" Lechowski, known, among others, from performances in the groups Anima Damnata and Thunderbolt.\\'),\\n(111,\\'Walknut\\',\\'Walknut is a Russian Atmospheric black metal band from Moscow, formed in 2006. The members of the band are Stringsskald and Ravnaskrik.\\'),\\n(112,\\'Sielunvihollinen\\',\\'The band\\'\\'s name literally translates to \"the enemy of the soul\", but in Finnish means \"the devil\".\\'),\\n(113,\\'Abigor\\',\\'Abigor is an Austrian black metal band formed in 1993. They are named after an upper demon of war in Christian demonology.\\'),\\n(114,\\'Dissection\\',\\'The band\\'\\'s first song ever written was \"Inhumanity Deformed\", a Napalm Death-inspired grindcore piece, but soon they developed their own melancholic and atmospheric style of death metal.\\n\\nThe band first disbanded due to Jon Nödtveidt\\'\\'s accomplice to a murder conviction. He was serving time in prison from 1997 until early 2004 and then reactivated the band.\\n\\nJon Nödtveidt (aged 31) shot and killed himself on August 13th, 2006. Swedish police found him in his apartment inside a circle of lit candles. It is believed that he killed himself because he felt he had achieved all that he could/was meant to in this life. According to some who knew him, this was probably planned ever since he got out of jail.\\'),\\n(115,\\'Nokturnal Mortum\\',\\'\"Nocturnal\" was changed to \"Nokturnal\" to avoid any possible confusion with other bands.\\n\\nAs of 2014, the band has claimed to have distanced themselves from the racist/political themes of their earlier lyrics, though since then they\\'\\'ve still continued to play at NSBM shows.\\'),\\n(116,\\'Necrophobic\\',\\'Formed in 1989 by Blackmoon and Joakim Sterner to create a darker kind of death metal than what was being made at the time. The name was taken from a Slayer song.\\');'"
      ]
     },
     "execution_count": 20,
     "metadata": {},
     "output_type": "execute_result"
    }
   ],
   "source": [
    "artists_cmd"
   ]
  },
  {
   "cell_type": "code",
   "execution_count": 21,
   "id": "4b22643d",
   "metadata": {
    "ExecuteTime": {
     "end_time": "2024-01-10T16:51:58.303127Z",
     "start_time": "2024-01-10T16:51:58.293317Z"
    }
   },
   "outputs": [],
   "source": [
    "cmd_file = open(\"init.sql\", \"a\")  # append mode\n",
    "cmd_file.write(artists_cmd)\n",
    "cmd_file.close()"
   ]
  },
  {
   "cell_type": "code",
   "execution_count": 22,
   "id": "a47a2227",
   "metadata": {
    "ExecuteTime": {
     "end_time": "2024-01-10T16:58:22.567915Z",
     "start_time": "2024-01-10T16:58:22.542095Z"
    }
   },
   "outputs": [],
   "source": [
    "albums =  pd.read_csv(\"albums.csv\")"
   ]
  },
  {
   "cell_type": "code",
   "execution_count": 23,
   "id": "d2e2b97c",
   "metadata": {
    "ExecuteTime": {
     "end_time": "2024-01-10T16:58:25.624050Z",
     "start_time": "2024-01-10T16:58:25.596239Z"
    }
   },
   "outputs": [
    {
     "data": {
      "text/html": [
       "<div>\n",
       "<style scoped>\n",
       "    .dataframe tbody tr th:only-of-type {\n",
       "        vertical-align: middle;\n",
       "    }\n",
       "\n",
       "    .dataframe tbody tr th {\n",
       "        vertical-align: top;\n",
       "    }\n",
       "\n",
       "    .dataframe thead th {\n",
       "        text-align: right;\n",
       "    }\n",
       "</style>\n",
       "<table border=\"1\" class=\"dataframe\">\n",
       "  <thead>\n",
       "    <tr style=\"text-align: right;\">\n",
       "      <th></th>\n",
       "      <th>artist_id</th>\n",
       "      <th>album_id</th>\n",
       "      <th>title</th>\n",
       "      <th>release_year</th>\n",
       "      <th>stock</th>\n",
       "      <th>price</th>\n",
       "      <th>photo</th>\n",
       "    </tr>\n",
       "  </thead>\n",
       "  <tbody>\n",
       "    <tr>\n",
       "      <th>0</th>\n",
       "      <td>100</td>\n",
       "      <td>1000</td>\n",
       "      <td>The Dead of the World</td>\n",
       "      <td>2014</td>\n",
       "      <td>5</td>\n",
       "      <td>9.27</td>\n",
       "      <td>ascension-the-dead-of-the-world-Cover-Art.webp</td>\n",
       "    </tr>\n",
       "    <tr>\n",
       "      <th>1</th>\n",
       "      <td>101</td>\n",
       "      <td>1001</td>\n",
       "      <td>Alongside Death</td>\n",
       "      <td>2008</td>\n",
       "      <td>0</td>\n",
       "      <td>8.46</td>\n",
       "      <td>the-black-alongside-death-Cover-Art.webp</td>\n",
       "    </tr>\n",
       "    <tr>\n",
       "      <th>2</th>\n",
       "      <td>102</td>\n",
       "      <td>1002</td>\n",
       "      <td>Rising</td>\n",
       "      <td>2007</td>\n",
       "      <td>2</td>\n",
       "      <td>9.33</td>\n",
       "      <td>corpus-christii-rising-Cover-Art.webp</td>\n",
       "    </tr>\n",
       "    <tr>\n",
       "      <th>3</th>\n",
       "      <td>103</td>\n",
       "      <td>1003</td>\n",
       "      <td>Procella Vadens</td>\n",
       "      <td>2010</td>\n",
       "      <td>5</td>\n",
       "      <td>15.95</td>\n",
       "      <td>imperium-dekadenz-procella-vadens-Cover-Art.webp</td>\n",
       "    </tr>\n",
       "    <tr>\n",
       "      <th>4</th>\n",
       "      <td>104</td>\n",
       "      <td>1004</td>\n",
       "      <td>Hunger of Elements</td>\n",
       "      <td>2005</td>\n",
       "      <td>3</td>\n",
       "      <td>17.66</td>\n",
       "      <td>kataxu-hunger-of-elements-Cover-Art.webp</td>\n",
       "    </tr>\n",
       "    <tr>\n",
       "      <th>5</th>\n",
       "      <td>105</td>\n",
       "      <td>1005</td>\n",
       "      <td>The Haunting Presence</td>\n",
       "      <td>2007</td>\n",
       "      <td>3</td>\n",
       "      <td>12.69</td>\n",
       "      <td>krohm-the-haunting-presence-Cover-Art.webp</td>\n",
       "    </tr>\n",
       "    <tr>\n",
       "      <th>6</th>\n",
       "      <td>106</td>\n",
       "      <td>1006</td>\n",
       "      <td>Battlespells</td>\n",
       "      <td>2021</td>\n",
       "      <td>1</td>\n",
       "      <td>18.17</td>\n",
       "      <td>warmoon-lord-battlespells-Cover-Art.webp</td>\n",
       "    </tr>\n",
       "    <tr>\n",
       "      <th>7</th>\n",
       "      <td>107</td>\n",
       "      <td>1007</td>\n",
       "      <td>Blasphemers' Maledictions</td>\n",
       "      <td>2011</td>\n",
       "      <td>3</td>\n",
       "      <td>16.75</td>\n",
       "      <td>azarath-blasphemers-maledictions-Cover-Art.webp</td>\n",
       "    </tr>\n",
       "    <tr>\n",
       "      <th>8</th>\n",
       "      <td>108</td>\n",
       "      <td>1008</td>\n",
       "      <td>Defiance</td>\n",
       "      <td>2009</td>\n",
       "      <td>6</td>\n",
       "      <td>15.97</td>\n",
       "      <td>destroyer-666-defiance-Cover-Art.webp</td>\n",
       "    </tr>\n",
       "    <tr>\n",
       "      <th>9</th>\n",
       "      <td>109</td>\n",
       "      <td>1009</td>\n",
       "      <td>De mysteriis dom Sathanas</td>\n",
       "      <td>1994</td>\n",
       "      <td>6</td>\n",
       "      <td>19.25</td>\n",
       "      <td>mayhem-de-mysteriis-dom-sathanas-Cover-Art.webp</td>\n",
       "    </tr>\n",
       "    <tr>\n",
       "      <th>10</th>\n",
       "      <td>110</td>\n",
       "      <td>1010</td>\n",
       "      <td>Emanations of the Black Light</td>\n",
       "      <td>2013</td>\n",
       "      <td>6</td>\n",
       "      <td>19.76</td>\n",
       "      <td>deus-mortem-emanations-of-the-black-light-Cove...</td>\n",
       "    </tr>\n",
       "    <tr>\n",
       "      <th>11</th>\n",
       "      <td>111</td>\n",
       "      <td>1011</td>\n",
       "      <td>Graveforests and Their Shadows</td>\n",
       "      <td>2007</td>\n",
       "      <td>0</td>\n",
       "      <td>17.38</td>\n",
       "      <td>walknut-graveforests-and-their-shadows-Cover-A...</td>\n",
       "    </tr>\n",
       "    <tr>\n",
       "      <th>12</th>\n",
       "      <td>110</td>\n",
       "      <td>1012</td>\n",
       "      <td>Kosmocide</td>\n",
       "      <td>2019</td>\n",
       "      <td>0</td>\n",
       "      <td>14.98</td>\n",
       "      <td>deus-mortem-kosmocide-Cover-Art.webp</td>\n",
       "    </tr>\n",
       "    <tr>\n",
       "      <th>13</th>\n",
       "      <td>112</td>\n",
       "      <td>1013</td>\n",
       "      <td>Kuolonkylväjä</td>\n",
       "      <td>2019</td>\n",
       "      <td>8</td>\n",
       "      <td>15.88</td>\n",
       "      <td>sielunvihollinen-kuolonkylvaja-Cover-Art.webp</td>\n",
       "    </tr>\n",
       "    <tr>\n",
       "      <th>14</th>\n",
       "      <td>113</td>\n",
       "      <td>1014</td>\n",
       "      <td>Nachthymnen (From the Twilight Kingdom)</td>\n",
       "      <td>1995</td>\n",
       "      <td>1</td>\n",
       "      <td>18.34</td>\n",
       "      <td>abigor-nachthymnen-from-the-twilight-kingdom-C...</td>\n",
       "    </tr>\n",
       "    <tr>\n",
       "      <th>15</th>\n",
       "      <td>114</td>\n",
       "      <td>1015</td>\n",
       "      <td>Storm of the Light's Bane</td>\n",
       "      <td>1995</td>\n",
       "      <td>9</td>\n",
       "      <td>16.78</td>\n",
       "      <td>dissection-storm-of-the-lights-bane-Cover-Art....</td>\n",
       "    </tr>\n",
       "    <tr>\n",
       "      <th>16</th>\n",
       "      <td>110</td>\n",
       "      <td>1016</td>\n",
       "      <td>The Fiery Blood</td>\n",
       "      <td>2020</td>\n",
       "      <td>0</td>\n",
       "      <td>19.30</td>\n",
       "      <td>deus-mortem-the-fiery-blood-Cover-Art.webp</td>\n",
       "    </tr>\n",
       "    <tr>\n",
       "      <th>17</th>\n",
       "      <td>114</td>\n",
       "      <td>1017</td>\n",
       "      <td>The Somberlain</td>\n",
       "      <td>1993</td>\n",
       "      <td>8</td>\n",
       "      <td>12.82</td>\n",
       "      <td>dissection-the-somberlain-Cover-Art.webp</td>\n",
       "    </tr>\n",
       "    <tr>\n",
       "      <th>18</th>\n",
       "      <td>115</td>\n",
       "      <td>1018</td>\n",
       "      <td>Голос сталі</td>\n",
       "      <td>2009</td>\n",
       "      <td>3</td>\n",
       "      <td>8.19</td>\n",
       "      <td>nokturnal-mortum-голос-сталі-Cover-Art.webp</td>\n",
       "    </tr>\n",
       "    <tr>\n",
       "      <th>19</th>\n",
       "      <td>115</td>\n",
       "      <td>1019</td>\n",
       "      <td>До лунарної поезії (To Lunar Poetry)</td>\n",
       "      <td>2022</td>\n",
       "      <td>0</td>\n",
       "      <td>18.58</td>\n",
       "      <td>nokturnal-mortum-до-лунарної-поезії-to-lunar-p...</td>\n",
       "    </tr>\n",
       "    <tr>\n",
       "      <th>20</th>\n",
       "      <td>116</td>\n",
       "      <td>1020</td>\n",
       "      <td>Darkside</td>\n",
       "      <td>1997</td>\n",
       "      <td>3</td>\n",
       "      <td>8.39</td>\n",
       "      <td>necrophobic-darkside-Cover-Art.webp</td>\n",
       "    </tr>\n",
       "    <tr>\n",
       "      <th>21</th>\n",
       "      <td>115</td>\n",
       "      <td>1021</td>\n",
       "      <td>Goat Horns</td>\n",
       "      <td>1997</td>\n",
       "      <td>4</td>\n",
       "      <td>8.95</td>\n",
       "      <td>nokturnal-mortum-goat-horns-Cover-Art.webp</td>\n",
       "    </tr>\n",
       "  </tbody>\n",
       "</table>\n",
       "</div>"
      ],
      "text/plain": [
       "    artist_id  album_id                                    title  \\\n",
       "0         100      1000                    The Dead of the World   \n",
       "1         101      1001                          Alongside Death   \n",
       "2         102      1002                                   Rising   \n",
       "3         103      1003                          Procella Vadens   \n",
       "4         104      1004                       Hunger of Elements   \n",
       "5         105      1005                    The Haunting Presence   \n",
       "6         106      1006                             Battlespells   \n",
       "7         107      1007                Blasphemers' Maledictions   \n",
       "8         108      1008                                 Defiance   \n",
       "9         109      1009                De mysteriis dom Sathanas   \n",
       "10        110      1010            Emanations of the Black Light   \n",
       "11        111      1011           Graveforests and Their Shadows   \n",
       "12        110      1012                                Kosmocide   \n",
       "13        112      1013                            Kuolonkylväjä   \n",
       "14        113      1014  Nachthymnen (From the Twilight Kingdom)   \n",
       "15        114      1015                Storm of the Light's Bane   \n",
       "16        110      1016                          The Fiery Blood   \n",
       "17        114      1017                           The Somberlain   \n",
       "18        115      1018                              Голос сталі   \n",
       "19        115      1019     До лунарної поезії (To Lunar Poetry)   \n",
       "20        116      1020                                 Darkside   \n",
       "21        115      1021                               Goat Horns   \n",
       "\n",
       "    release_year  stock  price  \\\n",
       "0           2014      5   9.27   \n",
       "1           2008      0   8.46   \n",
       "2           2007      2   9.33   \n",
       "3           2010      5  15.95   \n",
       "4           2005      3  17.66   \n",
       "5           2007      3  12.69   \n",
       "6           2021      1  18.17   \n",
       "7           2011      3  16.75   \n",
       "8           2009      6  15.97   \n",
       "9           1994      6  19.25   \n",
       "10          2013      6  19.76   \n",
       "11          2007      0  17.38   \n",
       "12          2019      0  14.98   \n",
       "13          2019      8  15.88   \n",
       "14          1995      1  18.34   \n",
       "15          1995      9  16.78   \n",
       "16          2020      0  19.30   \n",
       "17          1993      8  12.82   \n",
       "18          2009      3   8.19   \n",
       "19          2022      0  18.58   \n",
       "20          1997      3   8.39   \n",
       "21          1997      4   8.95   \n",
       "\n",
       "                                                photo  \n",
       "0      ascension-the-dead-of-the-world-Cover-Art.webp  \n",
       "1            the-black-alongside-death-Cover-Art.webp  \n",
       "2               corpus-christii-rising-Cover-Art.webp  \n",
       "3    imperium-dekadenz-procella-vadens-Cover-Art.webp  \n",
       "4            kataxu-hunger-of-elements-Cover-Art.webp  \n",
       "5          krohm-the-haunting-presence-Cover-Art.webp  \n",
       "6            warmoon-lord-battlespells-Cover-Art.webp  \n",
       "7     azarath-blasphemers-maledictions-Cover-Art.webp  \n",
       "8               destroyer-666-defiance-Cover-Art.webp  \n",
       "9     mayhem-de-mysteriis-dom-sathanas-Cover-Art.webp  \n",
       "10  deus-mortem-emanations-of-the-black-light-Cove...  \n",
       "11  walknut-graveforests-and-their-shadows-Cover-A...  \n",
       "12               deus-mortem-kosmocide-Cover-Art.webp  \n",
       "13      sielunvihollinen-kuolonkylvaja-Cover-Art.webp  \n",
       "14  abigor-nachthymnen-from-the-twilight-kingdom-C...  \n",
       "15  dissection-storm-of-the-lights-bane-Cover-Art....  \n",
       "16         deus-mortem-the-fiery-blood-Cover-Art.webp  \n",
       "17           dissection-the-somberlain-Cover-Art.webp  \n",
       "18        nokturnal-mortum-голос-сталі-Cover-Art.webp  \n",
       "19  nokturnal-mortum-до-лунарної-поезії-to-lunar-p...  \n",
       "20                necrophobic-darkside-Cover-Art.webp  \n",
       "21         nokturnal-mortum-goat-horns-Cover-Art.webp  "
      ]
     },
     "execution_count": 23,
     "metadata": {},
     "output_type": "execute_result"
    }
   ],
   "source": [
    "albums"
   ]
  },
  {
   "cell_type": "code",
   "execution_count": 46,
   "id": "aa9d51ee",
   "metadata": {
    "ExecuteTime": {
     "end_time": "2024-01-10T17:25:58.748458Z",
     "start_time": "2024-01-10T17:25:58.729595Z"
    }
   },
   "outputs": [],
   "source": [
    "albums_cmd = \"insert into albums (artist_id, album_id, title, release_year, stock, price, photo) values\\n\"\n",
    "\n",
    "for n,line in enumerate(albums.to_dict(orient=\"records\")):\n",
    "    delimiter = \";\" if len(albums) == n + 1 else  \",\\n\"\n",
    "    cmd_title = line[\"title\"].strip().replace(\"'\",\"''\")\n",
    "    cmd_line = \"(%s,%s,'%s',%s,%s,%s,'%s')%s\" % (line[\"artist_id\"],line[\"album_id\"],cmd_title,line[\"release_year\"],line[\"stock\"],line[\"price\"],line[\"photo\"],delimiter)\n",
    "    albums_cmd += cmd_line\n",
    "    "
   ]
  },
  {
   "cell_type": "code",
   "execution_count": 47,
   "id": "7d9f1efa",
   "metadata": {
    "ExecuteTime": {
     "end_time": "2024-01-10T17:25:58.971385Z",
     "start_time": "2024-01-10T17:25:58.961438Z"
    }
   },
   "outputs": [
    {
     "data": {
      "text/plain": [
       "\"insert into albums (artist_id, album_id, title, release_year, stock, price, photo) values\\n(100,1000,'The Dead of the World',2014,5,9.27,'ascension-the-dead-of-the-world-Cover-Art.webp'),\\n(101,1001,'Alongside Death',2008,0,8.46,'the-black-alongside-death-Cover-Art.webp'),\\n(102,1002,'Rising',2007,2,9.33,'corpus-christii-rising-Cover-Art.webp'),\\n(103,1003,'Procella Vadens',2010,5,15.95,'imperium-dekadenz-procella-vadens-Cover-Art.webp'),\\n(104,1004,'Hunger of Elements',2005,3,17.66,'kataxu-hunger-of-elements-Cover-Art.webp'),\\n(105,1005,'The Haunting Presence',2007,3,12.69,'krohm-the-haunting-presence-Cover-Art.webp'),\\n(106,1006,'Battlespells',2021,1,18.17,'warmoon-lord-battlespells-Cover-Art.webp'),\\n(107,1007,'Blasphemers'' Maledictions',2011,3,16.75,'azarath-blasphemers-maledictions-Cover-Art.webp'),\\n(108,1008,'Defiance',2009,6,15.97,'destroyer-666-defiance-Cover-Art.webp'),\\n(109,1009,'De mysteriis dom Sathanas',1994,6,19.25,'mayhem-de-mysteriis-dom-sathanas-Cover-Art.webp'),\\n(110,1010,'Emanations of the Black Light',2013,6,19.76,'deus-mortem-emanations-of-the-black-light-Cover-Art.webp'),\\n(111,1011,'Graveforests and Their Shadows',2007,0,17.38,'walknut-graveforests-and-their-shadows-Cover-Art.webp'),\\n(110,1012,'Kosmocide',2019,0,14.98,'deus-mortem-kosmocide-Cover-Art.webp'),\\n(112,1013,'Kuolonkylväjä',2019,8,15.88,'sielunvihollinen-kuolonkylvaja-Cover-Art.webp'),\\n(113,1014,'Nachthymnen (From the Twilight Kingdom)',1995,1,18.34,'abigor-nachthymnen-from-the-twilight-kingdom-Cover-Art.webp'),\\n(114,1015,'Storm of the Light''s Bane',1995,9,16.78,'dissection-storm-of-the-lights-bane-Cover-Art.webp'),\\n(110,1016,'The Fiery Blood',2020,0,19.3,'deus-mortem-the-fiery-blood-Cover-Art.webp'),\\n(114,1017,'The Somberlain',1993,8,12.82,'dissection-the-somberlain-Cover-Art.webp'),\\n(115,1018,'Голос сталі',2009,3,8.19,'nokturnal-mortum-голос-сталі-Cover-Art.webp'),\\n(115,1019,'До лунарної поезії (To Lunar Poetry)',2022,0,18.58,'nokturnal-mortum-до-лунарної-поезії-to-lunar-poetry-Cover-Art.webp'),\\n(116,1020,'Darkside',1997,3,8.39,'necrophobic-darkside-Cover-Art.webp'),\\n(115,1021,'Goat Horns',1997,4,8.95,'nokturnal-mortum-goat-horns-Cover-Art.webp');\""
      ]
     },
     "execution_count": 47,
     "metadata": {},
     "output_type": "execute_result"
    }
   ],
   "source": [
    "albums_cmd"
   ]
  },
  {
   "cell_type": "code",
   "execution_count": 48,
   "id": "605ea5e0",
   "metadata": {
    "ExecuteTime": {
     "end_time": "2024-01-10T17:26:00.643454Z",
     "start_time": "2024-01-10T17:26:00.629713Z"
    }
   },
   "outputs": [],
   "source": [
    "cmd_file = open(\"init.sql\", \"a\")  # append mode\n",
    "cmd_file.write(\"\\n\"+albums_cmd)\n",
    "cmd_file.close()"
   ]
  },
  {
   "cell_type": "code",
   "execution_count": 32,
   "id": "7b5d59dd",
   "metadata": {
    "ExecuteTime": {
     "end_time": "2024-01-10T17:10:16.235762Z",
     "start_time": "2024-01-10T17:10:16.217882Z"
    }
   },
   "outputs": [],
   "source": [
    "\n",
    "songs = pd.read_csv(\"songs1.csv\")"
   ]
  },
  {
   "cell_type": "code",
   "execution_count": 33,
   "id": "1c51042a",
   "metadata": {
    "ExecuteTime": {
     "end_time": "2024-01-10T17:10:18.039456Z",
     "start_time": "2024-01-10T17:10:18.007485Z"
    }
   },
   "outputs": [
    {
     "data": {
      "text/html": [
       "<div>\n",
       "<style scoped>\n",
       "    .dataframe tbody tr th:only-of-type {\n",
       "        vertical-align: middle;\n",
       "    }\n",
       "\n",
       "    .dataframe tbody tr th {\n",
       "        vertical-align: top;\n",
       "    }\n",
       "\n",
       "    .dataframe thead th {\n",
       "        text-align: right;\n",
       "    }\n",
       "</style>\n",
       "<table border=\"1\" class=\"dataframe\">\n",
       "  <thead>\n",
       "    <tr style=\"text-align: right;\">\n",
       "      <th></th>\n",
       "      <th>track</th>\n",
       "      <th>album_id</th>\n",
       "      <th>duration</th>\n",
       "      <th>song</th>\n",
       "    </tr>\n",
       "  </thead>\n",
       "  <tbody>\n",
       "    <tr>\n",
       "      <th>0</th>\n",
       "      <td>1</td>\n",
       "      <td>1000</td>\n",
       "      <td>NaN</td>\n",
       "      <td>The Silence of Abel</td>\n",
       "    </tr>\n",
       "    <tr>\n",
       "      <th>1</th>\n",
       "      <td>2</td>\n",
       "      <td>1000</td>\n",
       "      <td>NaN</td>\n",
       "      <td>Death's Golden Temple</td>\n",
       "    </tr>\n",
       "    <tr>\n",
       "      <th>2</th>\n",
       "      <td>3</td>\n",
       "      <td>1000</td>\n",
       "      <td>NaN</td>\n",
       "      <td>Black Ember</td>\n",
       "    </tr>\n",
       "    <tr>\n",
       "      <th>3</th>\n",
       "      <td>4</td>\n",
       "      <td>1000</td>\n",
       "      <td>NaN</td>\n",
       "      <td>Unlocking Tiamat</td>\n",
       "    </tr>\n",
       "    <tr>\n",
       "      <th>4</th>\n",
       "      <td>5</td>\n",
       "      <td>1000</td>\n",
       "      <td>NaN</td>\n",
       "      <td>Deathless Light</td>\n",
       "    </tr>\n",
       "    <tr>\n",
       "      <th>...</th>\n",
       "      <td>...</td>\n",
       "      <td>...</td>\n",
       "      <td>...</td>\n",
       "      <td>...</td>\n",
       "    </tr>\n",
       "    <tr>\n",
       "      <th>175</th>\n",
       "      <td>3</td>\n",
       "      <td>1021</td>\n",
       "      <td>547.0</td>\n",
       "      <td>Goat Horns</td>\n",
       "    </tr>\n",
       "    <tr>\n",
       "      <th>176</th>\n",
       "      <td>4</td>\n",
       "      <td>1021</td>\n",
       "      <td>489.0</td>\n",
       "      <td>Unholy Orathania</td>\n",
       "    </tr>\n",
       "    <tr>\n",
       "      <th>177</th>\n",
       "      <td>5</td>\n",
       "      <td>1021</td>\n",
       "      <td>708.0</td>\n",
       "      <td>Veles Scrolls</td>\n",
       "    </tr>\n",
       "    <tr>\n",
       "      <th>178</th>\n",
       "      <td>6</td>\n",
       "      <td>1021</td>\n",
       "      <td>430.0</td>\n",
       "      <td>Kolyada</td>\n",
       "    </tr>\n",
       "    <tr>\n",
       "      <th>179</th>\n",
       "      <td>7</td>\n",
       "      <td>1021</td>\n",
       "      <td>232.0</td>\n",
       "      <td>Eternal Circle</td>\n",
       "    </tr>\n",
       "  </tbody>\n",
       "</table>\n",
       "<p>180 rows × 4 columns</p>\n",
       "</div>"
      ],
      "text/plain": [
       "     track  album_id  duration                   song\n",
       "0        1      1000       NaN    The Silence of Abel\n",
       "1        2      1000       NaN  Death's Golden Temple\n",
       "2        3      1000       NaN            Black Ember\n",
       "3        4      1000       NaN       Unlocking Tiamat\n",
       "4        5      1000       NaN        Deathless Light\n",
       "..     ...       ...       ...                    ...\n",
       "175      3      1021     547.0             Goat Horns\n",
       "176      4      1021     489.0       Unholy Orathania\n",
       "177      5      1021     708.0          Veles Scrolls\n",
       "178      6      1021     430.0                Kolyada\n",
       "179      7      1021     232.0         Eternal Circle\n",
       "\n",
       "[180 rows x 4 columns]"
      ]
     },
     "execution_count": 33,
     "metadata": {},
     "output_type": "execute_result"
    }
   ],
   "source": [
    "songs"
   ]
  },
  {
   "cell_type": "code",
   "execution_count": 39,
   "id": "8d558801",
   "metadata": {
    "ExecuteTime": {
     "end_time": "2024-01-10T17:19:18.997305Z",
     "start_time": "2024-01-10T17:19:18.984917Z"
    }
   },
   "outputs": [],
   "source": [
    "songs_cmd = \"insert into songs (track,album_id,duration,song) values\\n\"\n",
    "\n",
    "for n,line in enumerate(songs.to_dict(orient=\"records\")):\n",
    "    delimiter = \";\" if len(songs) == n + 1 else  \",\\n\"\n",
    "    cmd_song = line[\"song\"].strip().replace(\"'\",\"''\")\n",
    "    cmd_duration = \"NULL\" if math.isnan(line[\"duration\"]) else line[\"duration\"] \n",
    "    cmd_line = \"(%s,%s,%s,'%s')%s\" % (line[\"track\"],line[\"album_id\"],cmd_duration,cmd_song,delimiter)\n",
    "    songs_cmd += cmd_line"
   ]
  },
  {
   "cell_type": "code",
   "execution_count": 40,
   "id": "b97f4331",
   "metadata": {
    "ExecuteTime": {
     "end_time": "2024-01-10T17:19:24.883688Z",
     "start_time": "2024-01-10T17:19:24.875900Z"
    }
   },
   "outputs": [
    {
     "data": {
      "text/plain": [
       "\"insert into songs (track,album_id,duration,song) values\\n(1,1000,NULL,'The Silence of Abel'),\\n(2,1000,NULL,'Death''s Golden Temple'),\\n(3,1000,NULL,'Black Ember'),\\n(4,1000,NULL,'Unlocking Tiamat'),\\n(5,1000,NULL,'Deathless Light'),\\n(6,1000,NULL,'The Dark Tomb Shines'),\\n(7,1000,NULL,'Mortui Mundi'),\\n(1,1001,NULL,'On the Descent to Hell'),\\n(2,1001,NULL,'Death''s Crown'),\\n(3,1001,NULL,'A Contract Written in Ashes'),\\n(4,1001,NULL,'Dead Seed'),\\n(5,1001,NULL,'Fleshless'),\\n(6,1001,NULL,'Death Throes'),\\n(7,1001,NULL,'The Wrath From Beneath'),\\n(8,1001,NULL,'Alongside Death'),\\n(1,1002,104.0,'Intro'),\\n(2,1002,272.0,'Stabbed'),\\n(3,1002,245.0,'Blank Code'),\\n(4,1002,264.0,'Black Gleam Eye'),\\n(5,1002,370.0,'The Wanderer'),\\n(6,1002,349.0,'Torrents of Sorrow'),\\n(7,1002,305.0,'Void Revelation'),\\n(8,1002,238.0,'Evasive Contempt'),\\n(9,1002,365.0,'Heavenless Bliss'),\\n(10,1002,201.0,'Untouchable Euphoria'),\\n(11,1002,259.0,'Bleak Existence'),\\n(12,1002,391.0,'Revealed Wounds'),\\n(13,1002,101.0,'Outro'),\\n(1,1003,121.0,'Die Hoffnung stirbt...'),\\n(2,1003,301.0,'Lacrimae Mundi'),\\n(3,1003,625.0,'A Million Moons'),\\n(4,1003,293.0,'Ego Universalis'),\\n(5,1003,318.0,'À la nuit tombante'),\\n(6,1003,558.0,'An Autumn Serenade'),\\n(7,1003,426.0,'Ocean, Mountain''s Mirror'),\\n(8,1003,271.0,'The Descent Into Hades'),\\n(9,1003,405.0,'Procella Vadens'),\\n(10,1003,118.0,'...wenn der Sturm beginnt'),\\n(1,1004,813.0,'In My Dungeon!'),\\n(2,1004,234.0,'In the Arms of the Astral World'),\\n(3,1004,651.0,'Below the Tree of Life'),\\n(4,1004,383.0,'Nightsky'),\\n(5,1004,688.0,'The Manifesto of Unity'),\\n(6,1004,138.0,'The Breathe of Atlantis'),\\n(1,1005,443.0,'Bleak Shores'),\\n(2,1005,575.0,'Lifeless Serenade'),\\n(3,1005,433.0,'I respiri delle ombre'),\\n(4,1005,464.0,'Relic'),\\n(5,1005,495.0,'Memories of the Flesh'),\\n(6,1005,426.0,'Tra la carne e il nulla'),\\n(7,1005,547.0,'Syndrome'),\\n(1,1006,151.0,'Virtus tenebris'),\\n(2,1006,274.0,'Purging Nefarious Vortex'),\\n(3,1006,310.0,'Of a Moribund Vision'),\\n(4,1006,415.0,'The Key of the Moonpiercer'),\\n(5,1006,398.0,'Empowered With Battlespells'),\\n(6,1006,284.0,'Oracles of War'),\\n(7,1006,485.0,'In Perennial Twilight'),\\n(1,1007,4.0,'Arising the Black Flame'),\\n(2,1007,238.0,'Supreme Reign of Tiamat'),\\n(3,1007,240.0,'Crushing Hammer of the Antichrist'),\\n(4,1007,255.0,'Firebreath of Blasphemy and Scorn'),\\n(5,1007,226.0,'Behold the Satan''s Sword'),\\n(6,1007,373.0,'Under the Will of the Lord'),\\n(7,1007,264.0,'The Abjection'),\\n(8,1007,268.0,'Deathstorms Raid the Earth'),\\n(9,1007,218.0,'Lucifer''s Rising'),\\n(10,1007,256.0,'Holy Possession'),\\n(11,1007,367.0,'Harvester of Flames'),\\n(1,1008,183.0,'Weapons of Conquest'),\\n(2,1008,277.0,'I Am Not Deceived'),\\n(3,1008,314.0,'Blood for Blood'),\\n(4,1008,218.0,'The Barricades Are Breaking'),\\n(5,1008,286.0,'Stand Defiant'),\\n(6,1008,277.0,'Path to Conflict'),\\n(7,1008,264.0,'A Thousand Plagues'),\\n(8,1008,364.0,'Human All Too Human'),\\n(9,1008,304.0,'Sermon to the Dead'),\\n(1,1009,347.0,'Funeral Fog'),\\n(2,1009,383.0,'Freezing Moon'),\\n(3,1009,310.0,'Cursed in Eternity'),\\n(4,1009,381.0,'Pagan Fears'),\\n(5,1009,417.0,'Life Eternal'),\\n(6,1009,326.0,'From the Dark Past'),\\n(7,1009,214.0,'Buried by Time and Dust'),\\n(8,1009,382.0,'De mysteriis dom Sathanas'),\\n(1,1010,388.0,'Into the Forms of Flesh (The Rebirth)'),\\n(2,1010,406.0,'It Starts to Breathe Inside'),\\n(3,1010,266.0,'Receiving the Impurity of Jeh'),\\n(4,1010,386.0,'The Shining'),\\n(5,1010,325.0,'The Harvest'),\\n(6,1010,1102.0,'Ceremony of Reversion P.'),\\n(7,1010,354.0,'Emanation'),\\n(1,1011,70.0,'Hrimfaxi'),\\n(2,1011,631.0,'Motherland Ostenvegr'),\\n(3,1011,655.0,'Come, Dreadful Ygg'),\\n(4,1011,270.0,'The Midnightforest of the Runes'),\\n(5,1011,703.0,'Grim Woods'),\\n(6,1011,241.0,'Skinfaxi'),\\n(1,1012,324.0,'Remorseless Beast'),\\n(2,1012,345.0,'The Soul of the Worlds'),\\n(3,1012,331.0,'Sinister Lava'),\\n(4,1012,257.0,'Through the Crown It Departs'),\\n(5,1012,394.0,'The Seeker'),\\n(6,1012,1719.0,'Ceremony of Reversion p.'),\\n(7,1012,397.0,'The Destroyer'),\\n(1,1013,222.0,'Loputon viha'),\\n(2,1013,235.0,'Tuhkanharmaa'),\\n(3,1013,299.0,'Uusi kurja maailma'),\\n(4,1013,269.0,'Rapistuneen linnan varjot'),\\n(5,1013,289.0,'Auringon hylkäämä maa'),\\n(6,1013,230.0,'Voittomme'),\\n(7,1013,251.0,'Kirous viimeinen'),\\n(8,1013,281.0,'Kuolonkylväjä'),\\n(1,1014,384.0,'Unleashed Axe-Age'),\\n(2,1014,374.0,'Scars in the Landscape of God'),\\n(3,1014,364.0,'Reborn Through the Gates of Three Moons'),\\n(4,1014,277.0,'Dornen'),\\n(5,1014,236.0,'As Astral Images Darken Reality'),\\n(6,1014,346.0,'The Dark Kiss'),\\n(7,1014,275.0,'I Face the Eternal Winter'),\\n(8,1014,322.0,'Revealed Secrets of the Whispering Moon'),\\n(9,1014,363.0,'A Frozen Soul in a Wintershadow'),\\n(1,1015,116.0,'At the Fathomless Depths'),\\n(2,1015,400.0,'Night''s Blood'),\\n(3,1015,448.0,'Unhallowed'),\\n(4,1015,351.0,'Where Dead Angels Lie'),\\n(5,1015,290.0,'Retribution - Storm of the Light''s Bane'),\\n(6,1015,486.0,'Thorns of Crimson Death'),\\n(7,1015,416.0,'Soulreaper'),\\n(8,1015,86.0,'No Dreams Breed in Breathless Sleep'),\\n(1,1016,249.0,'Down the Scorched Paradise'),\\n(2,1016,332.0,'Lord of All Graves'),\\n(3,1016,280.0,'Breaking the Sceptres, Crushing the Wands'),\\n(4,1016,329.0,'Nod'),\\n(1,1017,490.0,'Black Horizons'),\\n(2,1017,424.0,'The Somberlain'),\\n(3,1017,47.0,'Crimson Towers'),\\n(4,1017,398.0,'A Land Forlorn'),\\n(5,1017,283.0,'Heaven''s Damnation'),\\n(6,1017,225.0,'Frozen'),\\n(7,1017,64.0,'Into Infinite Obscurity'),\\n(8,1017,259.0,'In the Cold Winds of Nowhere'),\\n(9,1017,190.0,'The Grief Prophecy / Shadows Over a Lost Kingdom'),\\n(10,1017,273.0,'Mistress of the Bleeding Sorrow'),\\n(11,1017,43.0,'Feathers Fell'),\\n(1,1018,186.0,'Інтро'),\\n(2,1018,595.0,'Голос сталі'),\\n(3,1018,648.0,'Валькирия'),\\n(4,1018,504.0,'Україна'),\\n(5,1018,708.0,'Моєї мрії острови'),\\n(6,1018,547.0,'Шляхом сонця'),\\n(7,1018,291.0,'Небо сумних ночей'),\\n(8,1018,708.0,'Біла вежа'),\\n(1,1019,153.0,'Зимні сни / Freezing Dreams'),\\n(2,1019,280.0,'Лунарна поезія / Lunar Poetry'),\\n(3,1019,441.0,'Перунове срібло небес / Perun''s Celestial Silver'),\\n(4,1019,279.0,'Карпатські таємниці / Carpathian Mysteries'),\\n(5,1019,289.0,'…І зима постає / …And Winter Becomes'),\\n(6,1019,644.0,'Вампірів князь прийшов / Return of the Vampire Lord'),\\n(7,1019,311.0,'Прадавній рід / Ancient Nation'),\\n(8,1019,268.0,'Акт віри (Ода інакомисленню) / Autodafe (Ode to Nonconformity)'),\\n(9,1019,232.0,'Пращурів сни / Barbarian Dreams'),\\n(1,1020,173.0,'Black Moon Rising'),\\n(2,1020,203.0,'Spawned by Evil'),\\n(3,1020,220.0,'Bloodthirst'),\\n(4,1020,84.0,'Venaesectio'),\\n(5,1020,237.0,'Darkside'),\\n(6,1020,207.0,'The Call'),\\n(7,1020,82.0,'Descension'),\\n(8,1020,163.0,'Nailing the Holy One'),\\n(9,1020,254.0,'Nifelhel'),\\n(10,1020,375.0,'Christian Slaughter'),\\n(1,1021,288.0,'Black Moon Overture'),\\n(2,1021,424.0,'Kuyaviya'),\\n(3,1021,547.0,'Goat Horns'),\\n(4,1021,489.0,'Unholy Orathania'),\\n(5,1021,708.0,'Veles Scrolls'),\\n(6,1021,430.0,'Kolyada'),\\n(7,1021,232.0,'Eternal Circle');\""
      ]
     },
     "execution_count": 40,
     "metadata": {},
     "output_type": "execute_result"
    }
   ],
   "source": [
    "songs_cmd"
   ]
  },
  {
   "cell_type": "code",
   "execution_count": 49,
   "id": "7086d39e",
   "metadata": {
    "ExecuteTime": {
     "end_time": "2024-01-10T17:26:10.793708Z",
     "start_time": "2024-01-10T17:26:10.784075Z"
    }
   },
   "outputs": [],
   "source": [
    "cmd_file = open(\"init.sql\", \"a\")  # append mode\n",
    "cmd_file.write(\"\\n\"+songs_cmd)\n",
    "cmd_file.close()"
   ]
  },
  {
   "cell_type": "code",
   "execution_count": null,
   "id": "3bbf59aa",
   "metadata": {},
   "outputs": [],
   "source": []
  }
 ],
 "metadata": {
  "kernelspec": {
   "display_name": "Python 3 (ipykernel)",
   "language": "python",
   "name": "python3"
  },
  "language_info": {
   "codemirror_mode": {
    "name": "ipython",
    "version": 3
   },
   "file_extension": ".py",
   "mimetype": "text/x-python",
   "name": "python",
   "nbconvert_exporter": "python",
   "pygments_lexer": "ipython3",
   "version": "3.10.12"
  }
 },
 "nbformat": 4,
 "nbformat_minor": 5
}

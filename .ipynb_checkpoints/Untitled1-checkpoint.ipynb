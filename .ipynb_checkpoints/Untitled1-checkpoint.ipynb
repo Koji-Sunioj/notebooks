{
 "cells": [
  {
   "cell_type": "code",
   "execution_count": 2,
   "id": "73bb89d9",
   "metadata": {
    "ExecuteTime": {
     "end_time": "2024-01-10T16:32:17.920859Z",
     "start_time": "2024-01-10T16:32:17.259677Z"
    }
   },
   "outputs": [],
   "source": [
    "import pandas as pd\n",
    "import psycopg2\n",
    "import psycopg2.extras\n",
    "import numpy as np\n",
    "import re\n",
    "import os \n",
    "conn=psycopg2.connect(database=\"blackmetal\",\n",
    "                        host=\"localhost\",\n",
    "                        user=\"bm_admin\",\n",
    "                        password=\"18cba9cd-0776-4f09-9c0e-41d2937fab2b\",\n",
    "                        port=5432) \n"
   ]
  },
  {
   "cell_type": "code",
   "execution_count": 3,
   "id": "8b5371a9",
   "metadata": {
    "ExecuteTime": {
     "end_time": "2024-01-10T16:32:25.481459Z",
     "start_time": "2024-01-10T16:32:25.452217Z"
    }
   },
   "outputs": [
    {
     "data": {
      "text/plain": [
       "['songs1.csv',\n",
       " 'README.md',\n",
       " 'wages.ipynb',\n",
       " 'edge_analyze.ipynb',\n",
       " 'fix_iso.ipynb',\n",
       " 'analyze_tili.ipynb',\n",
       " 'Sunioj-music-export.csv',\n",
       " 'visit_v2.ipynb',\n",
       " 'load_bm_db.ipynb',\n",
       " '.ipynb_checkpoints',\n",
       " 'artists.csv',\n",
       " 'Untitled1.ipynb',\n",
       " 'Untitled.ipynb',\n",
       " '.git',\n",
       " 'songs.csv',\n",
       " 'albums.csv',\n",
       " 'front_end_load.ipynb']"
      ]
     },
     "execution_count": 3,
     "metadata": {},
     "output_type": "execute_result"
    }
   ],
   "source": [
    "os.listdir()"
   ]
  },
  {
   "cell_type": "code",
   "execution_count": 4,
   "id": "336a3fef",
   "metadata": {
    "ExecuteTime": {
     "end_time": "2024-01-10T16:32:43.945638Z",
     "start_time": "2024-01-10T16:32:43.925725Z"
    }
   },
   "outputs": [],
   "source": [
    "artists = pd.read_csv(\"artists.csv\")"
   ]
  },
  {
   "cell_type": "code",
   "execution_count": 15,
   "id": "3910fbf6",
   "metadata": {
    "ExecuteTime": {
     "end_time": "2024-01-10T16:42:12.609330Z",
     "start_time": "2024-01-10T16:42:12.602006Z"
    }
   },
   "outputs": [],
   "source": [
    "artists_cmd = \"insert into artists (artist_id, name, bio) values\\n\"\n",
    "\n",
    "for n,line in enumerate(artists.to_dict(orient=\"records\")):\n",
    "    delimiter = \";\" if len(artists) == n + 1 else  \",\\n\"\n",
    "    cmd_bio = line[\"bio\"].trim().replace(\"'\",\"''\")\n",
    "    cmd_line = \"(%s,'%s','%s')%s\" % (line[\"artist_id\"],line[\"name\"],line[\"bio\"].strip(),delimiter)\n",
    "    artists_cmd += cmd_line"
   ]
  },
  {
   "cell_type": "code",
   "execution_count": 16,
   "id": "73148caa",
   "metadata": {
    "ExecuteTime": {
     "end_time": "2024-01-10T16:42:15.756189Z",
     "start_time": "2024-01-10T16:42:15.744283Z"
    }
   },
   "outputs": [
    {
     "data": {
      "text/plain": [
       "'insert into artists (artist_id, name, bio) values\\n(100,\\'Ascension\\',\\'Black metal band from Tornau vor der Heide, Saxony-Anhalt, Germany.\\'),\\n(101,\\'The Black\\',\\'Black metal band from Sweden.\\n\\nThe band was formed in 1991 as \"The Black Flame\", after recording the first demo tape they shortened their name to \"The Black\".\\'),\\n(102,\\'Corpus Christii\\',\\'Nocturnus Horrendus is the owner of Nightmare Productions.\\n\\nThe band\\'s first demo had the band\\'s name spelled Corpus Christi. All subsequent releases have spelled it Corpus Christii with a second \"i\".\\'),\\n(103,\\'Imperium Dekadenz\\',\\'Imperium Dekadenz was founded during late summer 2004 by Vespasian and Horaz.\\n\\nThe band was featured on the In Autumnal Fog 2009 sampler with the song \"An Autumn Serenade\", freely downloadable on the Autumnal Fog website.\\'),\\n(104,\\'Kataxu\\',\\'Symphonic Black Metal band from Poland, formed in 1994.\\'),\\n(105,\\'Krohm\\',\\'Black Metal solo project formed in 1995 in the United States.\\'),\\n(106,\\'Warmoon Lord\\',\\'The band\\'s name is taken from the song Warmoon Lord by Vlad Tepes.\\'),\\n(107,\\'Azarath\\',\\'Inferno is the only remaining founding member.\\nThe name Azarath was taken from the title of Damnation song called \"Azarath (Watching in Darkness)\".\\'),\\n(108,\\'Deströyer 666\\',\\'Started out in May 1994 as a solo-project of K.K. Warslut. In 2001, the band relocated to the South Holland, Netherlands. In 2003, Simon Berserker decided to return to Australia and left the band, while Shrapnel\\'s Dutch visa expired and he had to relocate again to London.\\'),\\n(109,\\'Mayhem\\',\\'The band was billed as Wolf\\'s Lair Abyss for a few secret gigs during the Wolf\\'s Lair Abyss tour.\\n\\nFounded by Jørn Stubberud (Necrobutcher), and Kjetil (Manheim) under the name Musta (Finnish for \"black\"), which they changed to Mayhem after Øystein Aarseth (Euronymous) joined in. The band name is taken from ...\\'),\\n(110,\\'Deus Mortem\\',\\'Deus Mortem - a Polish black metal band. It was established at the end of 2008 in Wrocław on the initiative of the guitarist and vocalist Marek \"Necrosodoma\" Lechowski, known, among others, from performances in the groups Anima Damnata and Thunderbolt.\\'),\\n(111,\\'Walknut\\',\\'Walknut is a Russian Atmospheric black metal band from Moscow, formed in 2006. The members of the band are Stringsskald and Ravnaskrik.\\'),\\n(112,\\'Sielunvihollinen\\',\\'The band\\'s name literally translates to \"the enemy of the soul\", but in Finnish means \"the devil\".\\'),\\n(113,\\'Abigor\\',\\'Abigor is an Austrian black metal band formed in 1993. They are named after an upper demon of war in Christian demonology.\\'),\\n(114,\\'Dissection\\',\\'The band\\'s first song ever written was \"Inhumanity Deformed\", a Napalm Death-inspired grindcore piece, but soon they developed their own melancholic and atmospheric style of death metal.\\n\\nThe band first disbanded due to Jon Nödtveidt\\'s accomplice to a murder conviction. He was serving time in prison from 1997 until early 2004 and then reactivated the band.\\n\\nJon Nödtveidt (aged 31) shot and killed himself on August 13th, 2006. Swedish police found him in his apartment inside a circle of lit candles. It is believed that he killed himself because he felt he had achieved all that he could/was meant to in this life. According to some who knew him, this was probably planned ever since he got out of jail.\\'),\\n(115,\\'Nokturnal Mortum\\',\\'\"Nocturnal\" was changed to \"Nokturnal\" to avoid any possible confusion with other bands.\\n\\nAs of 2014, the band has claimed to have distanced themselves from the racist/political themes of their earlier lyrics, though since then they\\'ve still continued to play at NSBM shows.\\'),\\n(116,\\'Necrophobic\\',\\'Formed in 1989 by Blackmoon and Joakim Sterner to create a darker kind of death metal than what was being made at the time. The name was taken from a Slayer song.\\');'"
      ]
     },
     "execution_count": 16,
     "metadata": {},
     "output_type": "execute_result"
    }
   ],
   "source": [
    "artists_cmd"
   ]
  },
  {
   "cell_type": "code",
   "execution_count": 17,
   "id": "3280bdc7",
   "metadata": {
    "ExecuteTime": {
     "end_time": "2024-01-10T16:44:11.009921Z",
     "start_time": "2024-01-10T16:44:11.004457Z"
    }
   },
   "outputs": [],
   "source": [
    "cmd_file = open(\"init.sql\", \"a\")  # append mode\n",
    "cmd_file.write(artists_cmd)\n",
    "cmd_file.close()"
   ]
  },
  {
   "cell_type": "code",
   "execution_count": null,
   "id": "4b60d426",
   "metadata": {},
   "outputs": [],
   "source": []
  }
 ],
 "metadata": {
  "kernelspec": {
   "display_name": "Python 3 (ipykernel)",
   "language": "python",
   "name": "python3"
  },
  "language_info": {
   "codemirror_mode": {
    "name": "ipython",
    "version": 3
   },
   "file_extension": ".py",
   "mimetype": "text/x-python",
   "name": "python",
   "nbconvert_exporter": "python",
   "pygments_lexer": "ipython3",
   "version": "3.8.10"
  }
 },
 "nbformat": 4,
 "nbformat_minor": 5
}

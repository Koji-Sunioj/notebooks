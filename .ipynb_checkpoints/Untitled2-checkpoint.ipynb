{
 "cells": [
  {
   "cell_type": "code",
   "execution_count": 1,
   "id": "b8c95496",
   "metadata": {
    "ExecuteTime": {
     "end_time": "2024-02-03T20:25:20.485550Z",
     "start_time": "2024-02-03T20:25:19.914561Z"
    }
   },
   "outputs": [],
   "source": [
    "import pandas as pd\n",
    "import psycopg2\n",
    "import psycopg2.extras\n",
    "import numpy as np\n",
    "import re\n",
    "import os \n",
    "conn=psycopg2.connect(database=\"blackmetal\",\n",
    "                        host=\"localhost\",\n",
    "                        user=\"bm_admin\",\n",
    "                        password=\"18cba9cd-0776-4f09-9c0e-41d2937fab2b\",\n",
    "                        port=5432) \n"
   ]
  },
  {
   "cell_type": "code",
   "execution_count": 2,
   "id": "580cc5c4",
   "metadata": {
    "ExecuteTime": {
     "end_time": "2024-02-03T20:25:21.122009Z",
     "start_time": "2024-02-03T20:25:21.114142Z"
    }
   },
   "outputs": [],
   "source": [
    "\n",
    "def select_one_user(username,pwd=False):\n",
    "    cursor = conn.cursor(cursor_factory=psycopg2.extras.RealDictCursor)\n",
    "    pwd_parameter = \"password,\" if pwd else \"\"\n",
    "    command = \"select username, %s created from users where username = '%s'\" % (pwd_parameter, username)\n",
    "    cursor.execute(command)\n",
    "    data = cursor.fetchone()\n",
    "    return data"
   ]
  },
  {
   "cell_type": "code",
   "execution_count": 27,
   "id": "1bb9f1e7",
   "metadata": {
    "ExecuteTime": {
     "end_time": "2024-02-03T10:00:25.041078Z",
     "start_time": "2024-02-03T10:00:25.030653Z"
    }
   },
   "outputs": [],
   "source": [
    "def test():\n",
    "    cursor = conn.cursor()\n",
    "    cmd = \"\"\"select array(select \n",
    "\tjson_build_object('order_id',orders.order_id,'confirmed',orders.confirmed,\n",
    "\t'balance',sum(orders_bridge.quantity * albums.price),\n",
    "\t'albums',json_agg(json_build_object('album',\n",
    "\t\talbums.album_id,'quantity',orders_bridge.quantity))) as orders\t\n",
    "    from orders \n",
    "\tjoin orders_bridge on orders.order_id = orders_bridge.order_id\n",
    "\tjoin albums on albums.album_id = orders_bridge.album_id\n",
    "\tjoin artists on artists.artist_id = albums.artist_id\n",
    "\tjoin users on users.user_id = orders.user_id\n",
    "    where users.user_id = 31 group by orders.order_id);\"\"\"\n",
    "    cursor.execute(cmd)\n",
    "    data = cursor.fetchall()\n",
    "    return data"
   ]
  },
  {
   "cell_type": "code",
   "execution_count": 28,
   "id": "f08df808",
   "metadata": {
    "ExecuteTime": {
     "end_time": "2024-02-03T10:00:25.244448Z",
     "start_time": "2024-02-03T10:00:25.235793Z"
    }
   },
   "outputs": [],
   "source": [
    "shit =  test()"
   ]
  },
  {
   "cell_type": "code",
   "execution_count": 31,
   "id": "e0a2b5b2",
   "metadata": {
    "ExecuteTime": {
     "end_time": "2024-02-03T10:00:51.705340Z",
     "start_time": "2024-02-03T10:00:51.696595Z"
    }
   },
   "outputs": [
    {
     "data": {
      "text/plain": [
       "(10005,\n",
       " [{'name': 'Ascension', 'title': 'The Dead of the World', 'quantity': 3},\n",
       "  {'name': 'Deus Mortem',\n",
       "   'title': 'Emanations of the Black Light',\n",
       "   'quantity': 2},\n",
       "  {'name': 'Abigor',\n",
       "   'title': 'Nachthymnen (From the Twilight Kingdom)',\n",
       "   'quantity': 1}])"
      ]
     },
     "execution_count": 31,
     "metadata": {},
     "output_type": "execute_result"
    }
   ],
   "source": [
    "shit[0]"
   ]
  },
  {
   "cell_type": "code",
   "execution_count": 6,
   "id": "36243868",
   "metadata": {
    "ExecuteTime": {
     "end_time": "2024-02-03T09:39:26.088407Z",
     "start_time": "2024-02-03T09:39:26.079118Z"
    }
   },
   "outputs": [
    {
     "data": {
      "text/plain": [
       "'varg_vikernes'"
      ]
     },
     "execution_count": 6,
     "metadata": {},
     "output_type": "execute_result"
    }
   ],
   "source": [
    "shit[\"username\"]"
   ]
  }
 ],
 "metadata": {
  "kernelspec": {
   "display_name": "Python 3 (ipykernel)",
   "language": "python",
   "name": "python3"
  },
  "language_info": {
   "codemirror_mode": {
    "name": "ipython",
    "version": 3
   },
   "file_extension": ".py",
   "mimetype": "text/x-python",
   "name": "python",
   "nbconvert_exporter": "python",
   "pygments_lexer": "ipython3",
   "version": "3.8.10"
  }
 },
 "nbformat": 4,
 "nbformat_minor": 5
}

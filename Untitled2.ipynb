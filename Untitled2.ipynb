{
 "cells": [
  {
   "cell_type": "code",
   "execution_count": 1,
   "id": "e38ca17b",
   "metadata": {
    "ExecuteTime": {
     "end_time": "2024-02-03T20:25:20.485550Z",
     "start_time": "2024-02-03T20:25:19.914561Z"
    }
   },
   "outputs": [],
   "source": [
    "import pandas as pd\n",
    "import psycopg2\n",
    "import psycopg2.extras\n",
    "import numpy as np\n",
    "import re\n",
    "import os \n",
    "conn=psycopg2.connect(database=\"blackmetal\",\n",
    "                        host=\"localhost\",\n",
    "                        user=\"bm_admin\",\n",
    "                        password=\"18cba9cd-0776-4f09-9c0e-41d2937fab2b\",\n",
    "                        port=5432) \n"
   ]
  },
  {
   "cell_type": "code",
   "execution_count": 2,
   "id": "60df7600",
   "metadata": {
    "ExecuteTime": {
     "end_time": "2024-02-03T20:25:21.122009Z",
     "start_time": "2024-02-03T20:25:21.114142Z"
    }
   },
   "outputs": [],
   "source": [
    "\n",
    "def select_one_user(username,pwd=False):\n",
    "    cursor = conn.cursor(cursor_factory=psycopg2.extras.RealDictCursor)\n",
    "    pwd_parameter = \"password,\" if pwd else \"\"\n",
    "    command = \"select username, %s created from users where username = '%s'\" % (pwd_parameter, username)\n",
    "    cursor.execute(command)\n",
    "    data = cursor.fetchone()\n",
    "    return data"
   ]
  },
  {
   "cell_type": "code",
   "execution_count": 31,
   "id": "e470abd5",
   "metadata": {
    "ExecuteTime": {
     "end_time": "2024-02-03T21:35:19.791522Z",
     "start_time": "2024-02-03T21:35:19.778138Z"
    }
   },
   "outputs": [],
   "source": [
    "def test():\n",
    "    cursor = conn.cursor(cursor_factory=psycopg2.extras.RealDictCursor)\n",
    "    cmd = \"\"\"select * from orders_bridge;\"\"\"\n",
    "    cursor.execute(cmd)\n",
    "    data = cursor.fetchall()\n",
    "    return data"
   ]
  },
  {
   "cell_type": "code",
   "execution_count": 32,
   "id": "91839cf8",
   "metadata": {
    "ExecuteTime": {
     "end_time": "2024-02-03T21:35:19.965011Z",
     "start_time": "2024-02-03T21:35:19.959948Z"
    }
   },
   "outputs": [],
   "source": [
    "shit =  test()"
   ]
  },
  {
   "cell_type": "code",
   "execution_count": 33,
   "id": "1b5b036f",
   "metadata": {
    "ExecuteTime": {
     "end_time": "2024-02-03T21:35:20.154418Z",
     "start_time": "2024-02-03T21:35:20.144578Z"
    }
   },
   "outputs": [
    {
     "data": {
      "text/plain": [
       "[RealDictRow([('order_id', 10005), ('album_id', 1000), ('quantity', 3)]),\n",
       " RealDictRow([('order_id', 10006), ('album_id', 1002), ('quantity', 1)]),\n",
       " RealDictRow([('order_id', 10007), ('album_id', 1014), ('quantity', 1)]),\n",
       " RealDictRow([('order_id', 10007), ('album_id', 1010), ('quantity', 2)]),\n",
       " RealDictRow([('order_id', 10005), ('album_id', 1010), ('quantity', 2)]),\n",
       " RealDictRow([('order_id', 10005), ('album_id', 1014), ('quantity', 1)])]"
      ]
     },
     "execution_count": 33,
     "metadata": {},
     "output_type": "execute_result"
    }
   ],
   "source": [
    "shit"
   ]
  },
  {
   "cell_type": "code",
   "execution_count": 6,
   "id": "d579f8b1",
   "metadata": {
    "ExecuteTime": {
     "end_time": "2024-02-03T09:39:26.088407Z",
     "start_time": "2024-02-03T09:39:26.079118Z"
    }
   },
   "outputs": [
    {
     "data": {
      "text/plain": [
       "'varg_vikernes'"
      ]
     },
     "execution_count": 6,
     "metadata": {},
     "output_type": "execute_result"
    }
   ],
   "source": [
    "shit[\"username\"]"
   ]
  }
 ],
 "metadata": {
  "kernelspec": {
   "display_name": "Python 3 (ipykernel)",
   "language": "python",
   "name": "python3"
  },
  "language_info": {
   "codemirror_mode": {
    "name": "ipython",
    "version": 3
   },
   "file_extension": ".py",
   "mimetype": "text/x-python",
   "name": "python",
   "nbconvert_exporter": "python",
   "pygments_lexer": "ipython3",
   "version": "3.8.10"
  }
 },
 "nbformat": 4,
 "nbformat_minor": 5
}

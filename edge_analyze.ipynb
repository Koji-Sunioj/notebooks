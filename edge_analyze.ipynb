{
 "cells": [
  {
   "cell_type": "code",
   "execution_count": 41,
   "id": "2a065670",
   "metadata": {},
   "outputs": [],
   "source": [
    "import pandas as pd\n",
    "import datetime\n",
    "import numpy as np\n",
    "from decimal import *\n",
    "import matplotlib\n",
    "import matplotlib.pyplot as plt\n",
    "matplotlib.style.use('dark_background')"
   ]
  },
  {
   "cell_type": "code",
   "execution_count": 42,
   "id": "c3354d5b",
   "metadata": {},
   "outputs": [],
   "source": [
    "file = pd.read_csv(\"new.csv\")"
   ]
  },
  {
   "cell_type": "code",
   "execution_count": 43,
   "id": "9a4201e9",
   "metadata": {},
   "outputs": [
    {
     "data": {
      "text/plain": [
       "0       RefreshHit\n",
       "1            Error\n",
       "2            Error\n",
       "3            Error\n",
       "4       RefreshHit\n",
       "           ...    \n",
       "1451         Error\n",
       "1452         Error\n",
       "1453         Error\n",
       "1454         Error\n",
       "1455         Error\n",
       "Name: result_type, Length: 1456, dtype: object"
      ]
     },
     "execution_count": 43,
     "metadata": {},
     "output_type": "execute_result"
    }
   ],
   "source": [
    "file.result_type"
   ]
  },
  {
   "cell_type": "code",
   "execution_count": 44,
   "id": "86abfc88",
   "metadata": {},
   "outputs": [
    {
     "data": {
      "text/plain": [
       "Index(['date', 'time', 'location', 'bytes', 'request_ip', 'method', 'host',\n",
       "       'uri', 'status', 'referrer', 'user_agent', 'query_string', 'cookie',\n",
       "       'result_type', 'request_id', 'host_header', 'request_protocol',\n",
       "       'request_bytes', 'time_taken', 'xforwarded_for', 'ssl_protocol',\n",
       "       'ssl_cipher', 'response_result_type', 'http_version', 'fle_status',\n",
       "       'fle_encrypted_fields', 'c_port', 'time_to_first_byte',\n",
       "       'x_edge_detailed_result_type', 'sc_content_type', 'sc_content_len',\n",
       "       'sc_range_start', 'sc_range_end'],\n",
       "      dtype='object')"
      ]
     },
     "execution_count": 44,
     "metadata": {},
     "output_type": "execute_result"
    }
   ],
   "source": [
    "file.columns\n"
   ]
  },
  {
   "cell_type": "code",
   "execution_count": 45,
   "id": "df9559ee",
   "metadata": {},
   "outputs": [],
   "source": [
    "refined = file[[\"date\",\"time\",\"location\",\"bytes\",\"request_ip\",\"uri\",\"user_agent\",\"request_id\",\"result_type\",\"method\"]].dropna()"
   ]
  },
  {
   "cell_type": "code",
   "execution_count": 46,
   "id": "cfe5b2fb",
   "metadata": {},
   "outputs": [],
   "source": [
    "refined.index = pd.to_datetime(refined[\"date\"] +\" \"+ refined[\"time\"])"
   ]
  },
  {
   "cell_type": "code",
   "execution_count": 47,
   "id": "9e06c191",
   "metadata": {},
   "outputs": [],
   "source": [
    "done = refined.drop(columns=[\"date\",\"time\"])"
   ]
  },
  {
   "cell_type": "code",
   "execution_count": 48,
   "id": "d56f0537",
   "metadata": {},
   "outputs": [
    {
     "data": {
      "text/plain": [
       "<Axes: >"
      ]
     },
     "execution_count": 48,
     "metadata": {},
     "output_type": "execute_result"
    },
    {
     "data": {
      "image/png": "[encoded data removed]",
      "text/plain": [
       "<Figure size 640x480 with 1 Axes>"
      ]
     },
     "metadata": {},
     "output_type": "display_data"
    }
   ],
   "source": [
    "done.groupby(done.index.day).aggregate({\"bytes\":\"sum\"}).plot.bar()"
   ]
  },
  {
   "cell_type": "code",
   "execution_count": 55,
   "id": "17127473",
   "metadata": {},
   "outputs": [],
   "source": [
    "correct = done.loc[(done.index >= \"2023-03-19 00:00:00\") & (done.index < \"2023-03-19 14:00:00\")]"
   ]
  },
  {
   "cell_type": "code",
   "execution_count": 61,
   "id": "b0b9db29",
   "metadata": {},
   "outputs": [],
   "source": [
    "who_is = correct[correct[\"location\"] == \"IAD55-P4\"].drop(columns=[\"request_id\"])"
   ]
  },
  {
   "cell_type": "code",
   "execution_count": 72,
   "id": "9e82a3c4",
   "metadata": {},
   "outputs": [
    {
     "data": {
      "text/html": [
       "<div>\n",
       "<style scoped>\n",
       "    .dataframe tbody tr th:only-of-type {\n",
       "        vertical-align: middle;\n",
       "    }\n",
       "\n",
       "    .dataframe tbody tr th {\n",
       "        vertical-align: top;\n",
       "    }\n",
       "\n",
       "    .dataframe thead th {\n",
       "        text-align: right;\n",
       "    }\n",
       "</style>\n",
       "<table border=\"1\" class=\"dataframe\">\n",
       "  <thead>\n",
       "    <tr style=\"text-align: right;\">\n",
       "      <th></th>\n",
       "      <th>bytes</th>\n",
       "    </tr>\n",
       "    <tr>\n",
       "      <th>request_ip</th>\n",
       "      <th></th>\n",
       "    </tr>\n",
       "  </thead>\n",
       "  <tbody>\n",
       "    <tr>\n",
       "      <th>205.169.39.104</th>\n",
       "      <td>359222.0</td>\n",
       "    </tr>\n",
       "    <tr>\n",
       "      <th>65.154.226.169</th>\n",
       "      <td>957789.0</td>\n",
       "    </tr>\n",
       "    <tr>\n",
       "      <th>65.154.226.166</th>\n",
       "      <td>957816.0</td>\n",
       "    </tr>\n",
       "    <tr>\n",
       "      <th>205.169.39.135</th>\n",
       "      <td>1317058.0</td>\n",
       "    </tr>\n",
       "    <tr>\n",
       "      <th>65.154.226.167</th>\n",
       "      <td>1795424.0</td>\n",
       "    </tr>\n",
       "    <tr>\n",
       "      <th>65.154.226.170</th>\n",
       "      <td>2873359.0</td>\n",
       "    </tr>\n",
       "  </tbody>\n",
       "</table>\n",
       "</div>"
      ],
      "text/plain": [
       "                    bytes\n",
       "request_ip               \n",
       "205.169.39.104   359222.0\n",
       "65.154.226.169   957789.0\n",
       "65.154.226.166   957816.0\n",
       "205.169.39.135  1317058.0\n",
       "65.154.226.167  1795424.0\n",
       "65.154.226.170  2873359.0"
      ]
     },
     "execution_count": 72,
     "metadata": {},
     "output_type": "execute_result"
    }
   ],
   "source": [
    "who_is.groupby(\"request_ip\").aggregate({\"bytes\":\"sum\"}).sort_values(\"bytes\")"
   ]
  },
  {
   "cell_type": "code",
   "execution_count": 77,
   "id": "16e7d5c2",
   "metadata": {},
   "outputs": [],
   "source": [
    "bot_string = \"(?i)curl|python|apache-http|go-http|webtech|-|insomnia|google|msnbot|wget|ioncrawl|java|xpanse|zoom|screaming|crawler\"\n",
    "without_bot = wut[wut['user_agent'].str.contains(bot_string) == False]"
   ]
  },
  {
   "cell_type": "code",
   "execution_count": null,
   "id": "567bc245",
   "metadata": {},
   "outputs": [],
   "source": []
  }
 ],
 "metadata": {
  "kernelspec": {
   "display_name": "Python 3 (ipykernel)",
   "language": "python",
   "name": "python3"
  },
  "language_info": {
   "codemirror_mode": {
    "name": "ipython",
    "version": 3
   },
   "file_extension": ".py",
   "mimetype": "text/x-python",
   "name": "python",
   "nbconvert_exporter": "python",
   "pygments_lexer": "ipython3",
   "version": "3.8.10"
  }
 },
 "nbformat": 4,
 "nbformat_minor": 5
}

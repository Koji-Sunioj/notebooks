{
 "cells": [
  {
   "cell_type": "code",
   "execution_count": 1,
   "id": "28f59e43",
   "metadata": {
    "ExecuteTime": {
     "end_time": "2023-12-14T22:17:31.813139Z",
     "start_time": "2023-12-14T22:17:31.398556Z"
    }
   },
   "outputs": [],
   "source": [
    "import pandas as pd\n",
    "import psycopg2\n",
    "import psycopg2.extras\n",
    "import numpy as np\n",
    "import re\n",
    "import os \n",
    "conn=psycopg2.connect(database=\"blackmetal\",\n",
    "                        host=\"localhost\",\n",
    "                        user=\"bm_admin\",\n",
    "                        password=\"18cba9cd-0776-4f09-9c0e-41d2937fab2b\",\n",
    "                        port=5432) \n"
   ]
  },
  {
   "cell_type": "code",
   "execution_count": 2,
   "id": "d7aebbee",
   "metadata": {
    "ExecuteTime": {
     "end_time": "2023-12-14T22:17:34.038892Z",
     "start_time": "2023-12-14T22:17:34.020078Z"
    }
   },
   "outputs": [],
   "source": [
    "file = \"Sunioj-music-export.csv\"\n",
    "data = pd.read_csv(file).fillna(\"\")\n",
    "data.columns = [i.strip() for i in data.columns]"
   ]
  },
  {
   "cell_type": "code",
   "execution_count": 3,
   "id": "652715d2",
   "metadata": {
    "ExecuteTime": {
     "end_time": "2023-12-14T22:17:34.266730Z",
     "start_time": "2023-12-14T22:17:34.248810Z"
    }
   },
   "outputs": [],
   "source": [
    "rated = data[data[\"Rating\"].astype(\"int32\") > 8].copy()\n",
    "artists = []\n",
    "\n",
    "for something,artist in zip(rated[\"First Name\"].str.strip().tolist(),rated[\"Last Name\"].str.strip().tolist()):\n",
    "    artist = something + \" \" + artist if len(something) > 0 else artist\n",
    "    artists.append(artist)\n",
    "\n",
    "rated[\"Artist\"] = artists\n",
    "rated = rated[[\"Title\",\"Release_Date\",\"Artist\"]]"
   ]
  },
  {
   "cell_type": "code",
   "execution_count": 4,
   "id": "8a314883",
   "metadata": {
    "ExecuteTime": {
     "end_time": "2023-12-14T22:17:35.518324Z",
     "start_time": "2023-12-14T22:17:35.511196Z"
    }
   },
   "outputs": [],
   "source": [
    "filtered = rated[rated[\"Artist\"].isin([\"Ascension\",\"Abigor\",\"The Black\",\"Corpus Christii\",\"Imperium Dekadenz\",\"Kataxu\",\"Krohm\",\"Azarath\",\"Warmoon Lord\",\"Deus Mortem\",\"Deströyer 666\",\"Mayhem\",\"Walknut\",\"Sielunvihollinen\",\"Dissection\",\"Necrophobic\",\"Nokturnal Mortum\"])]"
   ]
  },
  {
   "cell_type": "code",
   "execution_count": 5,
   "id": "52070cd6",
   "metadata": {
    "ExecuteTime": {
     "end_time": "2023-12-14T22:17:36.787471Z",
     "start_time": "2023-12-14T22:17:36.781834Z"
    }
   },
   "outputs": [],
   "source": [
    "def create_artists(filtered):\n",
    "    cursor = conn.cursor()\n",
    "    command = \"insert into artists (name) values\\n\"\n",
    "    for n,artist in enumerate(filtered.Artist.unique()):\n",
    "        value = \"('%s')\" % artist\n",
    "        terminator = \";\" if n+1 == len(filtered.Artist.unique()) else \",\\n\"\n",
    "        value += terminator\n",
    "        command += value\n",
    "    print(command)\n",
    "    cursor.execute(command)\n",
    "    conn.commit()   "
   ]
  },
  {
   "cell_type": "code",
   "execution_count": 6,
   "id": "c000c0c2",
   "metadata": {
    "ExecuteTime": {
     "end_time": "2023-12-14T22:17:37.147235Z",
     "start_time": "2023-12-14T22:17:37.136730Z"
    }
   },
   "outputs": [],
   "source": [
    "def get_artists():\n",
    "    cursor = conn.cursor()\n",
    "    command = \"select artist_id, name from artists;\"\n",
    "    cursor.execute(command)\n",
    "    data = cursor.fetchall()\n",
    "    conn.commit()\n",
    "    return pd.DataFrame(data,columns=[\"artist_id\",\"Artist\"])"
   ]
  },
  {
   "cell_type": "code",
   "execution_count": 7,
   "id": "1bae5b03",
   "metadata": {
    "ExecuteTime": {
     "end_time": "2023-12-14T22:17:40.171665Z",
     "start_time": "2023-12-14T22:17:40.166489Z"
    }
   },
   "outputs": [],
   "source": [
    "artists = get_artists()\n"
   ]
  },
  {
   "cell_type": "code",
   "execution_count": 176,
   "id": "b53aa2f3",
   "metadata": {
    "ExecuteTime": {
     "end_time": "2023-12-13T22:50:49.267147Z",
     "start_time": "2023-12-13T22:50:49.258886Z"
    }
   },
   "outputs": [
    {
     "name": "stdout",
     "output_type": "stream",
     "text": [
      "insert into artists (name) values\n",
      "('Ascension'),\n",
      "('The Black'),\n",
      "('Corpus Christii'),\n",
      "('Imperium Dekadenz'),\n",
      "('Kataxu'),\n",
      "('Krohm'),\n",
      "('Warmoon Lord'),\n",
      "('Azarath'),\n",
      "('Deströyer 666'),\n",
      "('Mayhem'),\n",
      "('Deus Mortem'),\n",
      "('Walknut'),\n",
      "('Sielunvihollinen'),\n",
      "('Abigor'),\n",
      "('Dissection'),\n",
      "('Nokturnal Mortum'),\n",
      "('Necrophobic');\n"
     ]
    }
   ],
   "source": [
    "create_artists(filtered)"
   ]
  },
  {
   "cell_type": "code",
   "execution_count": 8,
   "id": "5ee3cd39",
   "metadata": {
    "ExecuteTime": {
     "end_time": "2023-12-14T22:17:42.686636Z",
     "start_time": "2023-12-14T22:17:42.673439Z"
    }
   },
   "outputs": [],
   "source": [
    "with_ids = filtered.merge(artists, on='Artist', how='left')\n",
    "with_ids[\"price\"] = np.random.randint(8,high=20, size=(len(with_ids))) + np.random.rand(len(with_ids))\n",
    "with_ids[\"stock\"] = np.random.randint(0,high=10, size=(len(with_ids)))"
   ]
  },
  {
   "cell_type": "code",
   "execution_count": 9,
   "id": "80dfbbf7",
   "metadata": {
    "ExecuteTime": {
     "end_time": "2023-12-14T22:17:43.268400Z",
     "start_time": "2023-12-14T22:17:43.263153Z"
    }
   },
   "outputs": [],
   "source": [
    "photos = os.listdir(\"photos\")"
   ]
  },
  {
   "cell_type": "code",
   "execution_count": 15,
   "id": "f5927ba9",
   "metadata": {
    "ExecuteTime": {
     "end_time": "2023-12-14T22:18:56.475594Z",
     "start_time": "2023-12-14T22:18:56.467089Z"
    }
   },
   "outputs": [],
   "source": [
    "photo_arr = []\n",
    "\n",
    "for artist,title in with_ids[[\"Artist\",\"Title\"]].values:\n",
    "    photo_str = (artist.lower() + \" \" + title.lower()).replace(\" \",\"-\")+\"-Cover-Art.webp\"\n",
    "    new_str = re.sub(\"[\\'\\(\\)]\",\"\",photo_str).replace(\"ö\",\"o\").replace(\"ä\",\"a\")\n",
    "    if new_str in photos:\n",
    "        photo_arr.append(new_str)\n",
    "    else:\n",
    "        print(new_str)"
   ]
  },
  {
   "cell_type": "code",
   "execution_count": 16,
   "id": "23b4ff3e",
   "metadata": {
    "ExecuteTime": {
     "end_time": "2023-12-14T22:18:57.844218Z",
     "start_time": "2023-12-14T22:18:57.837039Z"
    }
   },
   "outputs": [],
   "source": [
    "with_ids[\"photo\"] = photo_arr"
   ]
  },
  {
   "cell_type": "code",
   "execution_count": 18,
   "id": "8da6044f",
   "metadata": {
    "ExecuteTime": {
     "end_time": "2023-12-14T22:19:06.366409Z",
     "start_time": "2023-12-14T22:19:06.351965Z"
    }
   },
   "outputs": [],
   "source": [
    "def insert_albums(with_ids):\n",
    "    #[[\"Title\",\"Release_Date\",\"stock\",\"price\",\"photo\",\"artist_id\"]].values\n",
    "    cursor = conn.cursor()\n",
    "    command = \"insert into albums (title,release_year,stock,price,photo,artist_id) values\\n\"\n",
    "    for n,row in enumerate(with_ids.to_dict(orient=\"records\")):\n",
    "        value = \"('%s',%s,%s,%s,'%s',%s)\" % (row[\"Title\"].replace(\"'\",\"''\"),row[\"Release_Date\"],row[\"stock\"],round(row[\"price\"],2),row[\"photo\"],row[\"artist_id\"])\n",
    "        terminator = \";\" if n+1 == len(with_ids) else \",\\n\"\n",
    "        value += terminator\n",
    "        command += value\n",
    "    cursor.execute(command)\n",
    "    conn.commit()   \n",
    "    print(command)"
   ]
  },
  {
   "cell_type": "code",
   "execution_count": 19,
   "id": "699a9f3b",
   "metadata": {
    "ExecuteTime": {
     "end_time": "2023-12-14T22:19:06.744677Z",
     "start_time": "2023-12-14T22:19:06.731960Z"
    }
   },
   "outputs": [
    {
     "name": "stdout",
     "output_type": "stream",
     "text": [
      "insert into albums (title,release_year,stock,price,photo,artist_id) values\n",
      "('The Dead of the World',2014,5,9.27,'ascension-the-dead-of-the-world-Cover-Art.webp',100),\n",
      "('Alongside Death',2008,0,8.46,'the-black-alongside-death-Cover-Art.webp',101),\n",
      "('Rising',2007,2,9.33,'corpus-christii-rising-Cover-Art.webp',102),\n",
      "('Procella Vadens',2010,5,15.95,'imperium-dekadenz-procella-vadens-Cover-Art.webp',103),\n",
      "('Hunger of Elements',2005,3,17.66,'kataxu-hunger-of-elements-Cover-Art.webp',104),\n",
      "('The Haunting Presence',2007,3,12.69,'krohm-the-haunting-presence-Cover-Art.webp',105),\n",
      "('Battlespells',2021,1,18.17,'warmoon-lord-battlespells-Cover-Art.webp',106),\n",
      "('Blasphemers'' Maledictions',2011,3,16.75,'azarath-blasphemers-maledictions-Cover-Art.webp',107),\n",
      "('Defiance',2009,6,15.97,'destroyer-666-defiance-Cover-Art.webp',108),\n",
      "('De mysteriis dom Sathanas',1994,6,19.25,'mayhem-de-mysteriis-dom-sathanas-Cover-Art.webp',109),\n",
      "('Emanations of the Black Light',2013,6,19.76,'deus-mortem-emanations-of-the-black-light-Cover-Art.webp',110),\n",
      "('Graveforests and Their Shadows',2007,0,17.38,'walknut-graveforests-and-their-shadows-Cover-Art.webp',111),\n",
      "('Kosmocide',2019,0,14.98,'deus-mortem-kosmocide-Cover-Art.webp',110),\n",
      "('Kuolonkylväjä',2019,8,15.88,'sielunvihollinen-kuolonkylvaja-Cover-Art.webp',112),\n",
      "('Nachthymnen (From the Twilight Kingdom)',1995,1,18.34,'abigor-nachthymnen-from-the-twilight-kingdom-Cover-Art.webp',113),\n",
      "('Storm of the Light''s Bane',1995,9,16.78,'dissection-storm-of-the-lights-bane-Cover-Art.webp',114),\n",
      "('The Fiery Blood',2020,0,19.3,'deus-mortem-the-fiery-blood-Cover-Art.webp',110),\n",
      "('The Somberlain',1993,8,12.82,'dissection-the-somberlain-Cover-Art.webp',114),\n",
      "('Голос сталі',2009,3,8.19,'nokturnal-mortum-голос-сталі-Cover-Art.webp',115),\n",
      "('До лунарної поезії (To Lunar Poetry)',2022,0,18.58,'nokturnal-mortum-до-лунарної-поезії-to-lunar-poetry-Cover-Art.webp',115),\n",
      "('Darkside',1997,3,8.39,'necrophobic-darkside-Cover-Art.webp',116),\n",
      "('Goat Horns',1997,4,8.95,'nokturnal-mortum-goat-horns-Cover-Art.webp',115);\n"
     ]
    }
   ],
   "source": [
    "insert_albums(with_ids)"
   ]
  },
  {
   "cell_type": "code",
   "execution_count": 20,
   "id": "1fbc54d1",
   "metadata": {
    "ExecuteTime": {
     "end_time": "2023-12-14T22:19:34.452072Z",
     "start_time": "2023-12-14T22:19:34.436033Z"
    }
   },
   "outputs": [],
   "source": [
    "songs = pd.read_csv(\"songs.csv\",header=None)\n",
    "songs.columns = [\"raw\",\"title\"]"
   ]
  },
  {
   "cell_type": "code",
   "execution_count": 21,
   "id": "2273ce0b",
   "metadata": {
    "ExecuteTime": {
     "end_time": "2023-12-14T22:19:36.080571Z",
     "start_time": "2023-12-14T22:19:36.067167Z"
    }
   },
   "outputs": [],
   "source": [
    "def get_albums():\n",
    "    cursor = conn.cursor()\n",
    "    command = \"select album_id, title from albums;\"\n",
    "    cursor.execute(command)\n",
    "    data = cursor.fetchall()\n",
    "    return pd.DataFrame(data,columns=[\"album_id\",\"title\"])"
   ]
  },
  {
   "cell_type": "code",
   "execution_count": 22,
   "id": "9318d544",
   "metadata": {
    "ExecuteTime": {
     "end_time": "2023-12-14T22:19:36.389889Z",
     "start_time": "2023-12-14T22:19:36.376107Z"
    }
   },
   "outputs": [],
   "source": [
    "data = get_albums()"
   ]
  },
  {
   "cell_type": "code",
   "execution_count": 23,
   "id": "f18e7e83",
   "metadata": {
    "ExecuteTime": {
     "end_time": "2023-12-14T22:19:37.838774Z",
     "start_time": "2023-12-14T22:19:37.825585Z"
    }
   },
   "outputs": [],
   "source": [
    "def get_songs_frame(songs):\n",
    "    song_pattern = r\"^[0-9]{2}|^[0-9]{1}\"\n",
    "    dur_pattern = r\"\\d:\\d{2}|\\d{2}:\\d{2}\"\n",
    "    song_nros = []\n",
    "    song_names = []\n",
    "    song_durs = []\n",
    "    for raw in songs.raw:\n",
    "        song_nro = int(re.search(song_pattern, raw).group())\n",
    "        rest = \" \".join(re.split(song_pattern, raw))\n",
    "        dur_match = re.search(dur_pattern,rest)\n",
    "        song_dur = np.nan\n",
    "        if dur_match != None:\n",
    "            min_sec = dur_match.group().split(\":\")\n",
    "            song_dur = int(min_sec[0]) * 60 +  int(min_sec[1])\n",
    "        song_name = \"\".join(re.split(dur_pattern,rest)).strip()\n",
    "        song_nros.append(song_nro)\n",
    "        song_names.append(song_name)\n",
    "        song_durs.append(song_dur)\n",
    "        #print(song_nro + \" \" + str(song_dur) + \" \" + song_name)\n",
    "    return pd.DataFrame(data={\"song\":song_names,\"duration\":song_durs,\"track\":song_nros})\n"
   ]
  },
  {
   "cell_type": "code",
   "execution_count": 24,
   "id": "9d0c69fe",
   "metadata": {
    "ExecuteTime": {
     "end_time": "2023-12-14T22:19:38.395001Z",
     "start_time": "2023-12-14T22:19:38.374158Z"
    }
   },
   "outputs": [],
   "source": [
    "re_songs = get_songs_frame(songs)\n",
    "combined = pd.concat([songs,re_songs],axis=1).drop(columns=[\"raw\"])\n",
    "final = combined.merge(data, on='title', how='left').drop(columns=[\"title\"])"
   ]
  },
  {
   "cell_type": "code",
   "execution_count": 25,
   "id": "4c704b06",
   "metadata": {
    "ExecuteTime": {
     "end_time": "2023-12-14T22:19:39.602668Z",
     "start_time": "2023-12-14T22:19:39.595358Z"
    }
   },
   "outputs": [],
   "source": [
    "def insert_songs(final):\n",
    "    cursor = conn.cursor()\n",
    "    command = \"insert into songs (track,album_id,song,duration) values\\n\"\n",
    "    for n,row in enumerate(final.to_dict(orient=\"records\")):\n",
    "        escaped_song = row[\"song\"].replace(\"'\",\"''\")\n",
    "        nulled = \"NULL\" if np.isnan(row[\"duration\"]) else int(row[\"duration\"])\n",
    "        value = \"(%s,%s,'%s',%s)\" % (row[\"track\"],row[\"album_id\"],escaped_song,nulled)\n",
    "        terminator = \";\" if n+1 == len(final) else \",\\n\"\n",
    "        value += terminator\n",
    "        command += value\n",
    "    cursor.execute(command)\n",
    "    conn.commit()   \n",
    "    print(command)\n",
    "    "
   ]
  },
  {
   "cell_type": "code",
   "execution_count": 26,
   "id": "359f212e",
   "metadata": {
    "ExecuteTime": {
     "end_time": "2023-12-14T22:19:39.993346Z",
     "start_time": "2023-12-14T22:19:39.964307Z"
    }
   },
   "outputs": [
    {
     "name": "stdout",
     "output_type": "stream",
     "text": [
      "insert into songs (track,album_id,song,duration) values\n",
      "(1,1022,'The Silence of Abel',NULL),\n",
      "(2,1022,'Death''s Golden Temple',NULL),\n",
      "(3,1022,'Black Ember',NULL),\n",
      "(4,1022,'Unlocking Tiamat',NULL),\n",
      "(5,1022,'Deathless Light',NULL),\n",
      "(6,1022,'The Dark Tomb Shines',NULL),\n",
      "(7,1022,'Mortui Mundi',NULL),\n",
      "(1,1023,'On the Descent to Hell',NULL),\n",
      "(2,1023,'Death''s Crown',NULL),\n",
      "(3,1023,'A Contract Written in Ashes',NULL),\n",
      "(4,1023,'Dead Seed',NULL),\n",
      "(5,1023,'Fleshless',NULL),\n",
      "(6,1023,'Death Throes',NULL),\n",
      "(7,1023,'The Wrath From Beneath',NULL),\n",
      "(8,1023,'Alongside Death',NULL),\n",
      "(1,1024,'Intro',104),\n",
      "(2,1024,'Stabbed',272),\n",
      "(3,1024,'Blank Code',245),\n",
      "(4,1024,'Black Gleam Eye',264),\n",
      "(5,1024,'The Wanderer',370),\n",
      "(6,1024,'Torrents of Sorrow',349),\n",
      "(7,1024,'Void Revelation',305),\n",
      "(8,1024,'Evasive Contempt',238),\n",
      "(9,1024,'Heavenless Bliss',365),\n",
      "(10,1024,'Untouchable Euphoria',201),\n",
      "(11,1024,'Bleak Existence',259),\n",
      "(12,1024,'Revealed Wounds',391),\n",
      "(13,1024,'Outro',101),\n",
      "(1,1025,'Die Hoffnung stirbt...',121),\n",
      "(2,1025,'Lacrimae Mundi',301),\n",
      "(3,1025,'A Million Moons',625),\n",
      "(4,1025,'Ego Universalis',293),\n",
      "(5,1025,'À la nuit tombante',318),\n",
      "(6,1025,'An Autumn Serenade',558),\n",
      "(7,1025,'Ocean, Mountain''s Mirror',426),\n",
      "(8,1025,'The Descent Into Hades',271),\n",
      "(9,1025,'Procella Vadens',405),\n",
      "(10,1025,'...wenn der Sturm beginnt',118),\n",
      "(1,1026,'In My Dungeon!',813),\n",
      "(2,1026,'In the Arms of the Astral World',234),\n",
      "(3,1026,'Below the Tree of Life',651),\n",
      "(4,1026,'Nightsky',383),\n",
      "(5,1026,'The Manifesto of Unity',688),\n",
      "(6,1026,'The Breathe of Atlantis',138),\n",
      "(1,1027,'Bleak Shores',443),\n",
      "(2,1027,'Lifeless Serenade',575),\n",
      "(3,1027,'I respiri delle ombre',433),\n",
      "(4,1027,'Relic',464),\n",
      "(5,1027,'Memories of the Flesh',495),\n",
      "(6,1027,'Tra la carne e il nulla',426),\n",
      "(7,1027,'Syndrome',547),\n",
      "(1,1028,'Virtus tenebris',151),\n",
      "(2,1028,'Purging Nefarious Vortex',274),\n",
      "(3,1028,'Of a Moribund Vision',310),\n",
      "(4,1028,'The Key of the Moonpiercer',415),\n",
      "(5,1028,'Empowered With Battlespells',398),\n",
      "(6,1028,'Oracles of War',284),\n",
      "(7,1028,'In Perennial Twilight',485),\n",
      "(1,1029,'Arising the Black Flame',4),\n",
      "(2,1029,'Supreme Reign of Tiamat',238),\n",
      "(3,1029,'Crushing Hammer of the Antichrist',240),\n",
      "(4,1029,'Firebreath of Blasphemy and Scorn',255),\n",
      "(5,1029,'Behold the Satan''s Sword',226),\n",
      "(6,1029,'Under the Will of the Lord',373),\n",
      "(7,1029,'The Abjection',264),\n",
      "(8,1029,'Deathstorms Raid the Earth',268),\n",
      "(9,1029,'Lucifer''s Rising',218),\n",
      "(10,1029,'Holy Possession',256),\n",
      "(11,1029,'Harvester of Flames',367),\n",
      "(1,1030,'Weapons of Conquest',183),\n",
      "(2,1030,'I Am Not Deceived',277),\n",
      "(3,1030,'Blood for Blood',314),\n",
      "(4,1030,'The Barricades Are Breaking',218),\n",
      "(5,1030,'Stand Defiant',286),\n",
      "(6,1030,'Path to Conflict',277),\n",
      "(7,1030,'A Thousand Plagues',264),\n",
      "(8,1030,'Human All Too Human',364),\n",
      "(9,1030,'Sermon to the Dead',304),\n",
      "(1,1031,'Funeral Fog',347),\n",
      "(2,1031,'Freezing Moon',383),\n",
      "(3,1031,'Cursed in Eternity',310),\n",
      "(4,1031,'Pagan Fears',381),\n",
      "(5,1031,'Life Eternal',417),\n",
      "(6,1031,'From the Dark Past',326),\n",
      "(7,1031,'Buried by Time and Dust',214),\n",
      "(8,1031,'De mysteriis dom Sathanas',382),\n",
      "(1,1032,'Into the Forms of Flesh (The Rebirth)',388),\n",
      "(2,1032,'It Starts to Breathe Inside',406),\n",
      "(3,1032,'Receiving the Impurity of Jeh',266),\n",
      "(4,1032,'The Shining',386),\n",
      "(5,1032,'The Harvest',325),\n",
      "(6,1032,'Ceremony of Reversion P.',1102),\n",
      "(7,1032,'Emanation',354),\n",
      "(1,1033,'Hrimfaxi',70),\n",
      "(2,1033,'Motherland Ostenvegr',631),\n",
      "(3,1033,'Come, Dreadful Ygg',655),\n",
      "(4,1033,'The Midnightforest of the Runes',270),\n",
      "(5,1033,'Grim Woods',703),\n",
      "(6,1033,'Skinfaxi',241),\n",
      "(1,1034,'Remorseless Beast',324),\n",
      "(2,1034,'The Soul of the Worlds',345),\n",
      "(3,1034,'Sinister Lava',331),\n",
      "(4,1034,'Through the Crown It Departs',257),\n",
      "(5,1034,'The Seeker',394),\n",
      "(6,1034,'Ceremony of Reversion p.',1719),\n",
      "(7,1034,'The Destroyer',397),\n",
      "(1,1035,'Loputon viha',222),\n",
      "(2,1035,'Tuhkanharmaa',235),\n",
      "(3,1035,'Uusi kurja maailma',299),\n",
      "(4,1035,'Rapistuneen linnan varjot',269),\n",
      "(5,1035,'Auringon hylkäämä maa',289),\n",
      "(6,1035,'Voittomme',230),\n",
      "(7,1035,'Kirous viimeinen',251),\n",
      "(8,1035,'Kuolonkylväjä',281),\n",
      "(1,1036,'Unleashed Axe-Age',384),\n",
      "(2,1036,'Scars in the Landscape of God',374),\n",
      "(3,1036,'Reborn Through the Gates of Three Moons',364),\n",
      "(4,1036,'Dornen',277),\n",
      "(5,1036,'As Astral Images Darken Reality',236),\n",
      "(6,1036,'The Dark Kiss',346),\n",
      "(7,1036,'I Face the Eternal Winter',275),\n",
      "(8,1036,'Revealed Secrets of the Whispering Moon',322),\n",
      "(9,1036,'A Frozen Soul in a Wintershadow',363),\n",
      "(1,1037,'At the Fathomless Depths',116),\n",
      "(2,1037,'Night''s Blood',400),\n",
      "(3,1037,'Unhallowed',448),\n",
      "(4,1037,'Where Dead Angels Lie',351),\n",
      "(5,1037,'Retribution - Storm of the Light''s Bane',290),\n",
      "(6,1037,'Thorns of Crimson Death',486),\n",
      "(7,1037,'Soulreaper',416),\n",
      "(8,1037,'No Dreams Breed in Breathless Sleep',86),\n",
      "(1,1038,'Down the Scorched Paradise',249),\n",
      "(2,1038,'Lord of All Graves',332),\n",
      "(3,1038,'Breaking the Sceptres, Crushing the Wands',280),\n",
      "(4,1038,'Nod',329),\n",
      "(1,1039,'Black Horizons',490),\n",
      "(2,1039,'The Somberlain',424),\n",
      "(3,1039,'Crimson Towers',47),\n",
      "(4,1039,'A Land Forlorn',398),\n",
      "(5,1039,'Heaven''s Damnation',283),\n",
      "(6,1039,'Frozen',225),\n",
      "(7,1039,'Into Infinite Obscurity',64),\n",
      "(8,1039,'In the Cold Winds of Nowhere',259),\n",
      "(9,1039,'The Grief Prophecy / Shadows Over a Lost Kingdom',190),\n",
      "(10,1039,'Mistress of the Bleeding Sorrow',273),\n",
      "(11,1039,'Feathers Fell',43),\n",
      "(1,1040,'Інтро',186),\n",
      "(2,1040,'Голос сталі',595),\n",
      "(3,1040,'Валькирия',648),\n",
      "(4,1040,'Україна',504),\n",
      "(5,1040,'Моєї мрії острови',708),\n",
      "(6,1040,'Шляхом сонця',547),\n",
      "(7,1040,'Небо сумних ночей',291),\n",
      "(8,1040,'Біла вежа',708),\n",
      "(1,1041,'Зимні сни / Freezing Dreams',153),\n",
      "(2,1041,'Лунарна поезія / Lunar Poetry',280),\n",
      "(3,1041,'Перунове срібло небес / Perun''s Celestial Silver',441),\n",
      "(4,1041,'Карпатські таємниці / Carpathian Mysteries',279),\n",
      "(5,1041,'…І зима постає / …And Winter Becomes',289),\n",
      "(6,1041,'Вампірів князь прийшов / Return of the Vampire Lord',644),\n",
      "(7,1041,'Прадавній рід / Ancient Nation',311),\n",
      "(8,1041,'Акт віри (Ода інакомисленню) / Autodafe (Ode to Nonconformity)',268),\n",
      "(9,1041,'Пращурів сни / Barbarian Dreams',232),\n",
      "(1,1042,'Black Moon Rising',173),\n",
      "(2,1042,'Spawned by Evil',203),\n",
      "(3,1042,'Bloodthirst',220),\n",
      "(4,1042,'Venaesectio',84),\n",
      "(5,1042,'Darkside',237),\n",
      "(6,1042,'The Call',207),\n",
      "(7,1042,'Descension',82),\n",
      "(8,1042,'Nailing the Holy One',163),\n",
      "(9,1042,'Nifelhel',254),\n",
      "(10,1042,'Christian Slaughter',375),\n",
      "(1,1043,'Black Moon Overture',288),\n",
      "(2,1043,'Kuyaviya',424),\n",
      "(3,1043,'Goat Horns',547),\n",
      "(4,1043,'Unholy Orathania',489),\n",
      "(5,1043,'Veles Scrolls',708),\n",
      "(6,1043,'Kolyada',430),\n",
      "(7,1043,'Eternal Circle',232);\n"
     ]
    }
   ],
   "source": [
    "insert_songs(final)"
   ]
  }
 ],
 "metadata": {
  "kernelspec": {
   "display_name": "Python 3 (ipykernel)",
   "language": "python",
   "name": "python3"
  },
  "language_info": {
   "codemirror_mode": {
    "name": "ipython",
    "version": 3
   },
   "file_extension": ".py",
   "mimetype": "text/x-python",
   "name": "python",
   "nbconvert_exporter": "python",
   "pygments_lexer": "ipython3",
   "version": "3.10.12"
  }
 },
 "nbformat": 4,
 "nbformat_minor": 5
}
